{
 "cells": [
  {
   "cell_type": "markdown",
   "metadata": {},
   "source": [
    "### Preliminary Actions 1: Read the data set from csv file. Create dummy variables for the nine levels of rural_urbal_continuum_codes (RUCC) and the four geographical regions. Create the predictors data frame and the target variable series."
   ]
  },
  {
   "cell_type": "code",
   "execution_count": 1,
   "metadata": {},
   "outputs": [
    {
     "data": {
      "text/html": [
       "<div>\n",
       "<style scoped>\n",
       "    .dataframe tbody tr th:only-of-type {\n",
       "        vertical-align: middle;\n",
       "    }\n",
       "\n",
       "    .dataframe tbody tr th {\n",
       "        vertical-align: top;\n",
       "    }\n",
       "\n",
       "    .dataframe thead th {\n",
       "        text-align: right;\n",
       "    }\n",
       "</style>\n",
       "<table border=\"1\" class=\"dataframe\">\n",
       "  <thead>\n",
       "    <tr style=\"text-align: right;\">\n",
       "      <th></th>\n",
       "      <th>less_than_high_school</th>\n",
       "      <th>high_school_diploma</th>\n",
       "      <th>college/associate_degree</th>\n",
       "      <th>unemployment</th>\n",
       "      <th>region_Northeast</th>\n",
       "      <th>region_South</th>\n",
       "      <th>region_West</th>\n",
       "      <th>RUCC_1</th>\n",
       "      <th>RUCC_2</th>\n",
       "      <th>RUCC_3</th>\n",
       "      <th>RUCC_4</th>\n",
       "      <th>RUCC_5</th>\n",
       "      <th>RUCC_6</th>\n",
       "      <th>RUCC_7</th>\n",
       "      <th>RUCC_8</th>\n",
       "    </tr>\n",
       "  </thead>\n",
       "  <tbody>\n",
       "    <tr>\n",
       "      <th>0</th>\n",
       "      <td>12.417</td>\n",
       "      <td>34.331</td>\n",
       "      <td>28.660</td>\n",
       "      <td>5.3</td>\n",
       "      <td>0</td>\n",
       "      <td>1</td>\n",
       "      <td>0</td>\n",
       "      <td>0</td>\n",
       "      <td>1</td>\n",
       "      <td>0</td>\n",
       "      <td>0</td>\n",
       "      <td>0</td>\n",
       "      <td>0</td>\n",
       "      <td>0</td>\n",
       "      <td>0</td>\n",
       "    </tr>\n",
       "    <tr>\n",
       "      <th>1</th>\n",
       "      <td>9.972</td>\n",
       "      <td>28.692</td>\n",
       "      <td>31.788</td>\n",
       "      <td>5.4</td>\n",
       "      <td>0</td>\n",
       "      <td>1</td>\n",
       "      <td>0</td>\n",
       "      <td>0</td>\n",
       "      <td>0</td>\n",
       "      <td>1</td>\n",
       "      <td>0</td>\n",
       "      <td>0</td>\n",
       "      <td>0</td>\n",
       "      <td>0</td>\n",
       "      <td>0</td>\n",
       "    </tr>\n",
       "    <tr>\n",
       "      <th>2</th>\n",
       "      <td>26.236</td>\n",
       "      <td>34.927</td>\n",
       "      <td>25.969</td>\n",
       "      <td>8.6</td>\n",
       "      <td>0</td>\n",
       "      <td>1</td>\n",
       "      <td>0</td>\n",
       "      <td>0</td>\n",
       "      <td>0</td>\n",
       "      <td>0</td>\n",
       "      <td>0</td>\n",
       "      <td>0</td>\n",
       "      <td>1</td>\n",
       "      <td>0</td>\n",
       "      <td>0</td>\n",
       "    </tr>\n",
       "    <tr>\n",
       "      <th>3</th>\n",
       "      <td>19.302</td>\n",
       "      <td>41.816</td>\n",
       "      <td>26.883</td>\n",
       "      <td>6.6</td>\n",
       "      <td>0</td>\n",
       "      <td>1</td>\n",
       "      <td>0</td>\n",
       "      <td>1</td>\n",
       "      <td>0</td>\n",
       "      <td>0</td>\n",
       "      <td>0</td>\n",
       "      <td>0</td>\n",
       "      <td>0</td>\n",
       "      <td>0</td>\n",
       "      <td>0</td>\n",
       "    </tr>\n",
       "    <tr>\n",
       "      <th>4</th>\n",
       "      <td>19.969</td>\n",
       "      <td>32.942</td>\n",
       "      <td>34.039</td>\n",
       "      <td>5.5</td>\n",
       "      <td>0</td>\n",
       "      <td>1</td>\n",
       "      <td>0</td>\n",
       "      <td>1</td>\n",
       "      <td>0</td>\n",
       "      <td>0</td>\n",
       "      <td>0</td>\n",
       "      <td>0</td>\n",
       "      <td>0</td>\n",
       "      <td>0</td>\n",
       "      <td>0</td>\n",
       "    </tr>\n",
       "  </tbody>\n",
       "</table>\n",
       "</div>"
      ],
      "text/plain": [
       "   less_than_high_school  high_school_diploma  college/associate_degree  \\\n",
       "0                 12.417               34.331                    28.660   \n",
       "1                  9.972               28.692                    31.788   \n",
       "2                 26.236               34.927                    25.969   \n",
       "3                 19.302               41.816                    26.883   \n",
       "4                 19.969               32.942                    34.039   \n",
       "\n",
       "   unemployment  region_Northeast  region_South  region_West  RUCC_1  RUCC_2  \\\n",
       "0           5.3                 0             1            0       0       1   \n",
       "1           5.4                 0             1            0       0       0   \n",
       "2           8.6                 0             1            0       0       0   \n",
       "3           6.6                 0             1            0       1       0   \n",
       "4           5.5                 0             1            0       1       0   \n",
       "\n",
       "   RUCC_3  RUCC_4  RUCC_5  RUCC_6  RUCC_7  RUCC_8  \n",
       "0       0       0       0       0       0       0  \n",
       "1       1       0       0       0       0       0  \n",
       "2       0       0       0       1       0       0  \n",
       "3       0       0       0       0       0       0  \n",
       "4       0       0       0       0       0       0  "
      ]
     },
     "execution_count": 1,
     "metadata": {},
     "output_type": "execute_result"
    }
   ],
   "source": [
    "# There are many warnings regarding the updates in the future releases of the libraries. Ignore them.\n",
    "import warnings\n",
    "warnings.filterwarnings(\"ignore\")\n",
    "\n",
    "# Set the backend of matplotlib to inline\n",
    "%matplotlib inline\n",
    "\n",
    "# Improt necessary libraries\n",
    "from sklearn.model_selection import cross_val_score\n",
    "from sklearn.linear_model import LinearRegression\n",
    "import matplotlib.pyplot as plt\n",
    "import pandas as pd\n",
    "import numpy as np\n",
    "import statsmodels.api as sm\n",
    "import scipy.stats as stats\n",
    "import seaborn as sns\n",
    "\n",
    "# Set style and context\n",
    "sns.set_style('whitegrid')\n",
    "sns.set_context('talk')\n",
    "\n",
    "# Load the data set\n",
    "df = pd.read_csv('wrangled_data.csv')\n",
    "# Remove the .0 after RUCC numbers and transform it to string\n",
    "df.RUCC=df.RUCC.astype('int').astype('str')\n",
    "\n",
    "# define the predictors dataframe and the target variable series\n",
    "X = df.drop(['state','county','poverty'],axis=1)\n",
    "y = df['poverty']\n",
    "\n",
    "# Create dummy variables for region and RUCC\n",
    "X=pd.get_dummies(X)\n",
    "\n",
    "# drop one column of dummy variable from each categorical variable to avoid collinearity\n",
    "# In Story Telling section, it was shown that the correlations between poverty and majority of rural urban continuum codes \n",
    "# i.e. all except RUCC 1 and 6, are close to each other . Therefore, any of these seven RUCC could be picked as the base \n",
    "# to simplify the interpretation. I pick RUCC 9 and remove it\n",
    "# In Story Telling section, it was shown that the correlations between poverty and the four geographical regions are different\n",
    "# from each other. Therefore, any of them could be picked as the base. I pick Midwest and remove it\n",
    "# Also, the sum of the four education levels is 100 and one of them must be removed to avoid collinearity.\n",
    "# In Story Telling section, it was shown that the correlations between poverty and the four education levels are different\n",
    "# from each other. Therefore, any of them could be picked as the base. I pick bachelors/higher and remove it\n",
    "\n",
    "X.drop(['region_Midwest','RUCC_9','bachelors/higher'],axis=1,inplace=True)\n",
    "\n",
    "#Print the first five rows of X\n",
    "X.head()"
   ]
  },
  {
   "cell_type": "markdown",
   "metadata": {},
   "source": [
    "### Step 1: Build a linear model: there are 15 predictors and more than 3000 samples, and therefore,the model can be built based on all predictors. Then, run 5-fold cross-validation and average the scores. At the end, fit the linear model on the entire dataset and measure its R-squared"
   ]
  },
  {
   "cell_type": "code",
   "execution_count": 2,
   "metadata": {},
   "outputs": [
    {
     "name": "stdout",
     "output_type": "stream",
     "text": [
      "The average of 5-fold cross validation scores for the linear model is  0.525\n",
      "The R-squared of the linear model fitted on the entire dataset is  0.596\n"
     ]
    }
   ],
   "source": [
    "# Build the linear model \n",
    "model = LinearRegression()\n",
    "\n",
    "# Run cross-validation and print the average of scores\n",
    "scores = cross_val_score(model,X,y,cv=5)\n",
    "print('The average of 5-fold cross validation scores for the linear model is ', np.round(np.mean(scores),3))\n",
    "\n",
    "# Fit the model on the entire data and print its R-squared\n",
    "model.fit(X,y)\n",
    "print ('The R-squared of the linear model fitted on the entire dataset is ',np.round(model.score(X,y),3))"
   ]
  },
  {
   "cell_type": "markdown",
   "metadata": {},
   "source": [
    "### Observation\n",
    "#### The linear model does not have a high R-squared. It also does not have a good performance in prediction since the average of cross-validation scores is not high. "
   ]
  },
  {
   "cell_type": "markdown",
   "metadata": {},
   "source": [
    "### Before examining other models in Step 4 and beyond, I will simplify the linear model and investigate the assumptions related to linear models (linearity of the model, and independence and normal distribution of residuals) in Steps 2 and 3, respectively."
   ]
  },
  {
   "cell_type": "markdown",
   "metadata": {},
   "source": [
    "### Step 2: Bulid the linear model again with OLS command and simplify the model by removing the predictors with p-values lower than 0.001. Then fit the linear model to the dataset with reduced number of predictors and measure its R-squared. At the end, print the summary of the model."
   ]
  },
  {
   "cell_type": "code",
   "execution_count": 63,
   "metadata": {},
   "outputs": [
    {
     "data": {
      "text/html": [
       "<table class=\"simpletable\">\n",
       "<caption>OLS Regression Results</caption>\n",
       "<tr>\n",
       "  <th>Dep. Variable:</th>         <td>poverty</td>     <th>  R-squared:         </th> <td>   0.595</td> \n",
       "</tr>\n",
       "<tr>\n",
       "  <th>Model:</th>                   <td>OLS</td>       <th>  Adj. R-squared:    </th> <td>   0.594</td> \n",
       "</tr>\n",
       "<tr>\n",
       "  <th>Method:</th>             <td>Least Squares</td>  <th>  F-statistic:       </th> <td>   574.4</td> \n",
       "</tr>\n",
       "<tr>\n",
       "  <th>Date:</th>             <td>Fri, 21 Dec 2018</td> <th>  Prob (F-statistic):</th>  <td>  0.00</td>  \n",
       "</tr>\n",
       "<tr>\n",
       "  <th>Time:</th>                 <td>09:08:16</td>     <th>  Log-Likelihood:    </th> <td> -8811.7</td> \n",
       "</tr>\n",
       "<tr>\n",
       "  <th>No. Observations:</th>      <td>  3141</td>      <th>  AIC:               </th> <td>1.764e+04</td>\n",
       "</tr>\n",
       "<tr>\n",
       "  <th>Df Residuals:</th>          <td>  3132</td>      <th>  BIC:               </th> <td>1.770e+04</td>\n",
       "</tr>\n",
       "<tr>\n",
       "  <th>Df Model:</th>              <td>     8</td>      <th>                     </th>     <td> </td>    \n",
       "</tr>\n",
       "<tr>\n",
       "  <th>Covariance Type:</th>      <td>nonrobust</td>    <th>                     </th>     <td> </td>    \n",
       "</tr>\n",
       "</table>\n",
       "<table class=\"simpletable\">\n",
       "<tr>\n",
       "              <td></td>                <th>coef</th>     <th>std err</th>      <th>t</th>      <th>P>|t|</th>  <th>[0.025</th>    <th>0.975]</th>  \n",
       "</tr>\n",
       "<tr>\n",
       "  <th>const</th>                    <td>    6.0101</td> <td>    0.660</td> <td>    9.101</td> <td> 0.000</td> <td>    4.715</td> <td>    7.305</td>\n",
       "</tr>\n",
       "<tr>\n",
       "  <th>less_than_high_school</th>    <td>    0.3980</td> <td>    0.016</td> <td>   24.697</td> <td> 0.000</td> <td>    0.366</td> <td>    0.430</td>\n",
       "</tr>\n",
       "<tr>\n",
       "  <th>college/associate_degree</th> <td>   -0.0464</td> <td>    0.017</td> <td>   -2.767</td> <td> 0.006</td> <td>   -0.079</td> <td>   -0.014</td>\n",
       "</tr>\n",
       "<tr>\n",
       "  <th>unemployment</th>             <td>    1.1141</td> <td>    0.043</td> <td>   25.813</td> <td> 0.000</td> <td>    1.029</td> <td>    1.199</td>\n",
       "</tr>\n",
       "<tr>\n",
       "  <th>region_South</th>             <td>    1.4758</td> <td>    0.178</td> <td>    8.298</td> <td> 0.000</td> <td>    1.127</td> <td>    1.824</td>\n",
       "</tr>\n",
       "<tr>\n",
       "  <th>RUCC_1</th>                   <td>   -3.4651</td> <td>    0.232</td> <td>  -14.962</td> <td> 0.000</td> <td>   -3.919</td> <td>   -3.011</td>\n",
       "</tr>\n",
       "<tr>\n",
       "  <th>RUCC_2</th>                   <td>   -1.4689</td> <td>    0.237</td> <td>   -6.203</td> <td> 0.000</td> <td>   -1.933</td> <td>   -1.005</td>\n",
       "</tr>\n",
       "<tr>\n",
       "  <th>RUCC_3</th>                   <td>   -0.7602</td> <td>    0.241</td> <td>   -3.157</td> <td> 0.002</td> <td>   -1.232</td> <td>   -0.288</td>\n",
       "</tr>\n",
       "<tr>\n",
       "  <th>RUCC_6</th>                   <td>   -0.5610</td> <td>    0.199</td> <td>   -2.819</td> <td> 0.005</td> <td>   -0.951</td> <td>   -0.171</td>\n",
       "</tr>\n",
       "</table>\n",
       "<table class=\"simpletable\">\n",
       "<tr>\n",
       "  <th>Omnibus:</th>       <td>734.425</td> <th>  Durbin-Watson:     </th> <td>   1.700</td>\n",
       "</tr>\n",
       "<tr>\n",
       "  <th>Prob(Omnibus):</th> <td> 0.000</td>  <th>  Jarque-Bera (JB):  </th> <td>4492.331</td>\n",
       "</tr>\n",
       "<tr>\n",
       "  <th>Skew:</th>          <td> 0.966</td>  <th>  Prob(JB):          </th> <td>    0.00</td>\n",
       "</tr>\n",
       "<tr>\n",
       "  <th>Kurtosis:</th>      <td> 8.531</td>  <th>  Cond. No.          </th> <td>    320.</td>\n",
       "</tr>\n",
       "</table><br/><br/>Warnings:<br/>[1] Standard Errors assume that the covariance matrix of the errors is correctly specified."
      ],
      "text/plain": [
       "<class 'statsmodels.iolib.summary.Summary'>\n",
       "\"\"\"\n",
       "                            OLS Regression Results                            \n",
       "==============================================================================\n",
       "Dep. Variable:                poverty   R-squared:                       0.595\n",
       "Model:                            OLS   Adj. R-squared:                  0.594\n",
       "Method:                 Least Squares   F-statistic:                     574.4\n",
       "Date:                Fri, 21 Dec 2018   Prob (F-statistic):               0.00\n",
       "Time:                        09:08:16   Log-Likelihood:                -8811.7\n",
       "No. Observations:                3141   AIC:                         1.764e+04\n",
       "Df Residuals:                    3132   BIC:                         1.770e+04\n",
       "Df Model:                           8                                         \n",
       "Covariance Type:            nonrobust                                         \n",
       "============================================================================================\n",
       "                               coef    std err          t      P>|t|      [0.025      0.975]\n",
       "--------------------------------------------------------------------------------------------\n",
       "const                        6.0101      0.660      9.101      0.000       4.715       7.305\n",
       "less_than_high_school        0.3980      0.016     24.697      0.000       0.366       0.430\n",
       "college/associate_degree    -0.0464      0.017     -2.767      0.006      -0.079      -0.014\n",
       "unemployment                 1.1141      0.043     25.813      0.000       1.029       1.199\n",
       "region_South                 1.4758      0.178      8.298      0.000       1.127       1.824\n",
       "RUCC_1                      -3.4651      0.232    -14.962      0.000      -3.919      -3.011\n",
       "RUCC_2                      -1.4689      0.237     -6.203      0.000      -1.933      -1.005\n",
       "RUCC_3                      -0.7602      0.241     -3.157      0.002      -1.232      -0.288\n",
       "RUCC_6                      -0.5610      0.199     -2.819      0.005      -0.951      -0.171\n",
       "==============================================================================\n",
       "Omnibus:                      734.425   Durbin-Watson:                   1.700\n",
       "Prob(Omnibus):                  0.000   Jarque-Bera (JB):             4492.331\n",
       "Skew:                           0.966   Prob(JB):                         0.00\n",
       "Kurtosis:                       8.531   Cond. No.                         320.\n",
       "==============================================================================\n",
       "\n",
       "Warnings:\n",
       "[1] Standard Errors assume that the covariance matrix of the errors is correctly specified.\n",
       "\"\"\""
      ]
     },
     "execution_count": 63,
     "metadata": {},
     "output_type": "execute_result"
    }
   ],
   "source": [
    "# Build the linear model with OLS command\n",
    "X2 = sm.add_constant(X) #OLS by default does not have intercept\n",
    "model = sm.OLS(y,X2).fit()\n",
    "\n",
    "# Remove predcitors with p-value less than 0.001\n",
    "X_new = X2.loc[:,model.pvalues[model.pvalues <0.001].index]\n",
    "\n",
    "# fit the model on the dataset with reduced number of predictors\n",
    "model = sm.OLS(y,X_new).fit()\n",
    "\n",
    "# print summary of the model\n",
    "model.summary()"
   ]
  },
  {
   "cell_type": "markdown",
   "metadata": {},
   "source": [
    "### After removing the predictors with low p-values from the original predictors and refitting the model, the new model again has some predictors with p-values higher than 0.001. They need to be removed"
   ]
  },
  {
   "cell_type": "code",
   "execution_count": 64,
   "metadata": {},
   "outputs": [
    {
     "data": {
      "text/html": [
       "<table class=\"simpletable\">\n",
       "<caption>OLS Regression Results</caption>\n",
       "<tr>\n",
       "  <th>Dep. Variable:</th>         <td>poverty</td>     <th>  R-squared:         </th> <td>   0.592</td> \n",
       "</tr>\n",
       "<tr>\n",
       "  <th>Model:</th>                   <td>OLS</td>       <th>  Adj. R-squared:    </th> <td>   0.591</td> \n",
       "</tr>\n",
       "<tr>\n",
       "  <th>Method:</th>             <td>Least Squares</td>  <th>  F-statistic:       </th> <td>   909.7</td> \n",
       "</tr>\n",
       "<tr>\n",
       "  <th>Date:</th>             <td>Fri, 21 Dec 2018</td> <th>  Prob (F-statistic):</th>  <td>  0.00</td>  \n",
       "</tr>\n",
       "<tr>\n",
       "  <th>Time:</th>                 <td>09:08:34</td>     <th>  Log-Likelihood:    </th> <td> -8822.0</td> \n",
       "</tr>\n",
       "<tr>\n",
       "  <th>No. Observations:</th>      <td>  3141</td>      <th>  AIC:               </th> <td>1.766e+04</td>\n",
       "</tr>\n",
       "<tr>\n",
       "  <th>Df Residuals:</th>          <td>  3135</td>      <th>  BIC:               </th> <td>1.769e+04</td>\n",
       "</tr>\n",
       "<tr>\n",
       "  <th>Df Model:</th>              <td>     5</td>      <th>                     </th>     <td> </td>    \n",
       "</tr>\n",
       "<tr>\n",
       "  <th>Covariance Type:</th>      <td>nonrobust</td>    <th>                     </th>     <td> </td>    \n",
       "</tr>\n",
       "</table>\n",
       "<table class=\"simpletable\">\n",
       "<tr>\n",
       "            <td></td>               <th>coef</th>     <th>std err</th>      <th>t</th>      <th>P>|t|</th>  <th>[0.025</th>    <th>0.975]</th>  \n",
       "</tr>\n",
       "<tr>\n",
       "  <th>const</th>                 <td>    4.0600</td> <td>    0.238</td> <td>   17.051</td> <td> 0.000</td> <td>    3.593</td> <td>    4.527</td>\n",
       "</tr>\n",
       "<tr>\n",
       "  <th>less_than_high_school</th> <td>    0.4170</td> <td>    0.015</td> <td>   28.130</td> <td> 0.000</td> <td>    0.388</td> <td>    0.446</td>\n",
       "</tr>\n",
       "<tr>\n",
       "  <th>unemployment</th>          <td>    1.1132</td> <td>    0.043</td> <td>   25.728</td> <td> 0.000</td> <td>    1.028</td> <td>    1.198</td>\n",
       "</tr>\n",
       "<tr>\n",
       "  <th>region_South</th>          <td>    1.4724</td> <td>    0.175</td> <td>    8.398</td> <td> 0.000</td> <td>    1.129</td> <td>    1.816</td>\n",
       "</tr>\n",
       "<tr>\n",
       "  <th>RUCC_1</th>                <td>   -3.0932</td> <td>    0.217</td> <td>  -14.260</td> <td> 0.000</td> <td>   -3.518</td> <td>   -2.668</td>\n",
       "</tr>\n",
       "<tr>\n",
       "  <th>RUCC_2</th>                <td>   -1.1941</td> <td>    0.226</td> <td>   -5.279</td> <td> 0.000</td> <td>   -1.638</td> <td>   -0.751</td>\n",
       "</tr>\n",
       "</table>\n",
       "<table class=\"simpletable\">\n",
       "<tr>\n",
       "  <th>Omnibus:</th>       <td>735.685</td> <th>  Durbin-Watson:     </th> <td>   1.698</td>\n",
       "</tr>\n",
       "<tr>\n",
       "  <th>Prob(Omnibus):</th> <td> 0.000</td>  <th>  Jarque-Bera (JB):  </th> <td>4604.115</td>\n",
       "</tr>\n",
       "<tr>\n",
       "  <th>Skew:</th>          <td> 0.961</td>  <th>  Prob(JB):          </th> <td>    0.00</td>\n",
       "</tr>\n",
       "<tr>\n",
       "  <th>Kurtosis:</th>      <td> 8.611</td>  <th>  Cond. No.          </th> <td>    64.7</td>\n",
       "</tr>\n",
       "</table><br/><br/>Warnings:<br/>[1] Standard Errors assume that the covariance matrix of the errors is correctly specified."
      ],
      "text/plain": [
       "<class 'statsmodels.iolib.summary.Summary'>\n",
       "\"\"\"\n",
       "                            OLS Regression Results                            \n",
       "==============================================================================\n",
       "Dep. Variable:                poverty   R-squared:                       0.592\n",
       "Model:                            OLS   Adj. R-squared:                  0.591\n",
       "Method:                 Least Squares   F-statistic:                     909.7\n",
       "Date:                Fri, 21 Dec 2018   Prob (F-statistic):               0.00\n",
       "Time:                        09:08:34   Log-Likelihood:                -8822.0\n",
       "No. Observations:                3141   AIC:                         1.766e+04\n",
       "Df Residuals:                    3135   BIC:                         1.769e+04\n",
       "Df Model:                           5                                         \n",
       "Covariance Type:            nonrobust                                         \n",
       "=========================================================================================\n",
       "                            coef    std err          t      P>|t|      [0.025      0.975]\n",
       "-----------------------------------------------------------------------------------------\n",
       "const                     4.0600      0.238     17.051      0.000       3.593       4.527\n",
       "less_than_high_school     0.4170      0.015     28.130      0.000       0.388       0.446\n",
       "unemployment              1.1132      0.043     25.728      0.000       1.028       1.198\n",
       "region_South              1.4724      0.175      8.398      0.000       1.129       1.816\n",
       "RUCC_1                   -3.0932      0.217    -14.260      0.000      -3.518      -2.668\n",
       "RUCC_2                   -1.1941      0.226     -5.279      0.000      -1.638      -0.751\n",
       "==============================================================================\n",
       "Omnibus:                      735.685   Durbin-Watson:                   1.698\n",
       "Prob(Omnibus):                  0.000   Jarque-Bera (JB):             4604.115\n",
       "Skew:                           0.961   Prob(JB):                         0.00\n",
       "Kurtosis:                       8.611   Cond. No.                         64.7\n",
       "==============================================================================\n",
       "\n",
       "Warnings:\n",
       "[1] Standard Errors assume that the covariance matrix of the errors is correctly specified.\n",
       "\"\"\""
      ]
     },
     "execution_count": 64,
     "metadata": {},
     "output_type": "execute_result"
    }
   ],
   "source": [
    "# Remove predcitors with p-value less than 0.001\n",
    "X_new = X2.loc[:,model.pvalues[model.pvalues <0.001].index]\n",
    "\n",
    "# fit the model on the dataset with reduced number of predictors\n",
    "model = sm.OLS(y,X_new).fit()\n",
    "\n",
    "# print summary of the model\n",
    "model.summary()"
   ]
  },
  {
   "cell_type": "markdown",
   "metadata": {},
   "source": [
    "### Observation\n",
    "#### The linear model is significantly simplified because the number of predictors have dropped from 15 to 5. The R-squared of the simplified linear model which is 0.592 has only dropped by 0.004 compared to the original model which is 0.596."
   ]
  },
  {
   "cell_type": "markdown",
   "metadata": {},
   "source": [
    "### Step 3: Examine residual vs fitted value plot and quantile-quantile plot to examine the adherence of the simplified model to linearity, independent residuals, and normal distribution of residuals."
   ]
  },
  {
   "cell_type": "code",
   "execution_count": 65,
   "metadata": {
    "scrolled": false
   },
   "outputs": [
    {
     "data": {
      "image/png": "[encoded data removed]",
      "text/plain": [
       "<Figure size 720x432 with 1 Axes>"
      ]
     },
     "metadata": {},
     "output_type": "display_data"
    },
    {
     "data": {
      "image/png": "[encoded data removed]",
      "text/plain": [
       "<Figure size 720x432 with 1 Axes>"
      ]
     },
     "metadata": {},
     "output_type": "display_data"
    }
   ],
   "source": [
    "# Plot residuals vs. fitted values\n",
    "figure,ax = plt.subplots(figsize=(10,6))\n",
    "ax.scatter(model.fittedvalues,model.resid)\n",
    "ax.set_xlabel('Fitted values')\n",
    "ax.set_ylabel('Residuals');\n",
    "ax.set_title('Residuals vs. fitted values',y=1.02)\n",
    "ax.axis([0,45,-35,35])\n",
    "\n",
    "# Plot quantile plot\n",
    "figure,ax = plt.subplots(figsize=(10,6))\n",
    "stats.probplot(model.resid,plot=ax)\n",
    "ax.set_ylabel('Residual quantiles')\n",
    "ax.set_title('Quantile-Quantile plot',y=1.02)\n",
    "ax.axis([-4,4,-35,35])\n",
    "\n",
    "# Show plots\n",
    "plt.show()"
   ]
  },
  {
   "cell_type": "markdown",
   "metadata": {},
   "source": [
    "### Observations\n",
    "\n",
    "#### 1) residual vs. fitted values\n",
    "#### 1.a) Linearity: the residuals bounce randomly around the 0 line. This suggests the assumption that the relationship is linear is reasonable. \n",
    "#### 1.b) Independent residuals: the residuals roughly form a horizontal band around the 0 line. This suggests the variance of the residuals are quite equal and the assumption that the residuals are independent is reasonable.\n",
    "\n",
    "#### 2) Quantile-Quantile plot: The plot shows the distribution of the residuals is heavy tailed, but, it is still close to the normal distribution"
   ]
  },
  {
   "cell_type": "markdown",
   "metadata": {},
   "source": [
    "### Step 4: Add interaction between predictors and nonlinear terms to the linear model. Then, run 5-fold cross-validation and average the scores. At the end, fit the linear model on the entire dataset and measure its R-squared"
   ]
  },
  {
   "cell_type": "code",
   "execution_count": 92,
   "metadata": {},
   "outputs": [
    {
     "name": "stdout",
     "output_type": "stream",
     "text": [
      "The average of 5-fold cross validation scores for the linear model which includes interaction between predictors is  0.564\n",
      "The R-squared of the linear model with interaction fitted on the entire dataset is  0.671\n"
     ]
    }
   ],
   "source": [
    "# Import necessary libraries\n",
    "from sklearn.preprocessing import PolynomialFeatures\n",
    "from sklearn.pipeline import make_pipeline\n",
    "\n",
    "# Create linear regression and polynomial features, and use pipeline\n",
    "linear = LinearRegression()\n",
    "poly = PolynomialFeatures(degree = 2, interaction_only = False)\n",
    "pipeline = make_pipeline(poly, linear)\n",
    "\n",
    "# Run cross-validation and print the results\n",
    "scores = cross_val_score(pipeline,X,y,cv=5)\n",
    "print('The average of 5-fold cross validation scores for the linear model which includes interaction between predictors is '\\\n",
    ",np.round(np.mean(scores),3))\n",
    "\n",
    "# Fit the model on the entire data and print its R-squared\n",
    "pipeline.fit(X,y)\n",
    "print ('The R-squared of the linear model with interaction fitted on the entire dataset is ',np.round(pipeline.score(X,y),3))"
   ]
  },
  {
   "cell_type": "markdown",
   "metadata": {},
   "source": [
    "### Observation\n",
    "#### Both R-squared of the linear model and its performance in prediction (average of cross-validation scores) have slightly improved after adding nonlinear and interaction terms."
   ]
  },
  {
   "cell_type": "markdown",
   "metadata": {
    "collapsed": true
   },
   "source": [
    "### Step 5: Random Forest: first, build a random forest with no parameter tuning, run 5-fold cross-validation, and average the scores. Then, divide the dataset into train and test test and tune some parameters of the model based on the train set. At the end, the performance of model in predicting the target value of the test set will be computed. "
   ]
  },
  {
   "cell_type": "code",
   "execution_count": 3,
   "metadata": {},
   "outputs": [
    {
     "name": "stderr",
     "output_type": "stream",
     "text": [
      "C:\\Users\\moein\\Miniconda3\\envs\\newpy36\\lib\\site-packages\\sklearn\\ensemble\\weight_boosting.py:29: DeprecationWarning: numpy.core.umath_tests is an internal NumPy module and should not be imported. It will be removed in a future NumPy release.\n",
      "  from numpy.core.umath_tests import inner1d\n"
     ]
    },
    {
     "name": "stdout",
     "output_type": "stream",
     "text": [
      "The average of 5-fold cross-validation for the random forest without parameter tuning is 0.512\n"
     ]
    }
   ],
   "source": [
    "#Import necessary libraries\n",
    "from sklearn.model_selection import train_test_split\n",
    "from sklearn.ensemble import RandomForestRegressor\n",
    "from sklearn.model_selection import GridSearchCV\n",
    "\n",
    "# Build the model without parameter tuning, run cross-validation, and average the scores\n",
    "forest = RandomForestRegressor(random_state=21)\n",
    "scores = cross_val_score(forest,X,y,cv=5)\n",
    "print('The average of 5-fold cross-validation for the random forest without parameter tuning is %.3f'%np.mean(scores))"
   ]
  },
  {
   "cell_type": "code",
   "execution_count": 4,
   "metadata": {},
   "outputs": [],
   "source": [
    "# Define train and test datasets\n",
    "X_train, X_test, y_train, y_test = train_test_split(X,y,test_size=0.3,random_state=21)\n",
    "\n",
    "# Define a function which receives model and parameters as inputs, tune parameters \n",
    "# and prints best parameters and the test set score\n",
    "def tuning(model,parameters):\n",
    "    model = GridSearchCV(model,param_grid=parameters,cv=5)\n",
    "    model.fit(X_train,y_train)\n",
    "    print('The test set score after tuning parameters is ',np.round(model.score(X_test,y_test),3))\n",
    "    print('The best parameters are: ',model.best_params_)"
   ]
  },
  {
   "cell_type": "code",
   "execution_count": 76,
   "metadata": {},
   "outputs": [
    {
     "name": "stdout",
     "output_type": "stream",
     "text": [
      "The test set score after tuning parameters is  0.627\n",
      "The best parameters are:  {'criterion': 'mse', 'max_features': 'sqrt', 'min_samples_leaf': 5, 'n_estimators': 100}\n"
     ]
    }
   ],
   "source": [
    "# Build the random forest, Tune its parameters and find the test set score with the new model\n",
    "forest = RandomForestRegressor(random_state=21)\n",
    "parameters = {'n_estimators':[10,50,100],\\\n",
    "              'criterion': ['mse','mae'],\\\n",
    "             'min_samples_leaf':[5,7,10],\\\n",
    "             'max_features':['auto','sqrt','log2']}\n",
    "tuning(forest,parameters)"
   ]
  },
  {
   "cell_type": "markdown",
   "metadata": {},
   "source": [
    "#### Going below 5 samples per leaf may result in overfitting to the training set. A couple of more n_estimators is tested"
   ]
  },
  {
   "cell_type": "code",
   "execution_count": 120,
   "metadata": {},
   "outputs": [
    {
     "name": "stdout",
     "output_type": "stream",
     "text": [
      "The test set score after tuning parameters is  0.63\n",
      "The best parameters are:  {'n_estimators': 300}\n"
     ]
    }
   ],
   "source": [
    "# Build new random forest, tune n_estimators and min_samples_leaf, and find the test set score with the new model\n",
    "forest = RandomForestRegressor(criterion = 'mse', max_features = 'sqrt', min_samples_leaf = 5, random_state=21)\n",
    "parameters = {'n_estimators':[100,300,500]}\n",
    "tuning(forest,parameters)"
   ]
  },
  {
   "cell_type": "markdown",
   "metadata": {},
   "source": [
    "#### The test score has slightly improved. At the end find the R-squared of the model fitted on the entire dataset"
   ]
  },
  {
   "cell_type": "code",
   "execution_count": 153,
   "metadata": {},
   "outputs": [
    {
     "name": "stdout",
     "output_type": "stream",
     "text": [
      "The R-squared of the random forest fitted on the entire dataset is  0.747\n"
     ]
    }
   ],
   "source": [
    "#Build the random forest with tuned parameters\n",
    "model = RandomForestRegressor(n_estimators = 300, min_samples_leaf = 5,criterion = 'mse', max_features = 'sqrt', random_state=21)\n",
    "\n",
    "#Fit the model to the entire dataset and find the R-squared \n",
    "model.fit(X,y)\n",
    "print('The R-squared of the random forest fitted on the entire dataset is ',np.round(model.score(X,y),3))"
   ]
  },
  {
   "cell_type": "code",
   "execution_count": 168,
   "metadata": {},
   "outputs": [
    {
     "name": "stdout",
     "output_type": "stream",
     "text": [
      "<class 'numpy.float64'>\n",
      "<class 'numpy.float64'>\n"
     ]
    }
   ],
   "source": [
    "print(type(model.score(X,y)))\n",
    "print(type(np.round(model.score(X,y),3).astype(np.float)))"
   ]
  },
  {
   "cell_type": "markdown",
   "metadata": {},
   "source": [
    "### Observation\n",
    "#### 1) The performance of the the random forest model in prediction after tuning its parameters has improved compared to the linear model with interaction and nonlinear terms because the test set score of the random forest model is 0.630 but the average of 5-fold cross-validation scores of the linear model is 0.564.\n",
    "#### 2) The R-sqaured of the the random forest model fitted on the entire dataset is 0.747 which is more than R-squared of the linear model which is 0.671."
   ]
  },
  {
   "cell_type": "markdown",
   "metadata": {},
   "source": [
    "### Step 6: Improve random forest performance by adding one predictor. First split data into train and test set. Then concatenate predictors and target variable in each set. Next, cluster the concatenated train set and predict clusters for the concatenated test set. Then, add cluster column as the new predictor to predictors dataframe in each train and test set. Next, bulid the model based on the new predictors dataframe in train set, tune the number of clusters as well as the parameters of random forest. At the end, the performance of model in prediction by predicting the target value of the test set."
   ]
  },
  {
   "cell_type": "code",
   "execution_count": 6,
   "metadata": {},
   "outputs": [],
   "source": [
    "# Import Kmeans\n",
    "from sklearn.cluster import KMeans\n",
    "\n",
    "#Define clustering function\n",
    "def clustering(X,y,n_cluster):\n",
    "    # Split the dataset to train and test set\n",
    "    X_train, X_test, y_train, y_test = train_test_split(X,y,test_size=0.3,random_state=21)\n",
    "    # Concat predictors and target variable of the train set\n",
    "    Xy_train = pd.concat([X_train,y_train],axis=1)\n",
    "    # Builder the KMeans cluster and fit it to train set\n",
    "    kmeans = KMeans(n_clusters=50,random_state=21,algorithm='full')\n",
    "    kmeans.fit(Xy_train)\n",
    "    # Build the new predictor for the train set and concatenate it to the predictors dataframe of the train set\n",
    "    new_column_train = kmeans.predict(Xy_train)\n",
    "    X_train.reset_index(inplace=True,drop=True)\n",
    "    X_train_extended = pd.concat([X_train,pd.DataFrame(new_column_train,columns=['cluster'])],axis=1)\n",
    "    # Concatenate predictors and target variable of the train set\n",
    "    Xy_test = pd.concat([X_test,y_test],axis=1)\n",
    "    # Build the new predictor for the test set and concatenate it to the predictors dataframe of the test set\n",
    "    new_column_test = kmeans.predict(Xy_test)\n",
    "    X_test.reset_index(inplace=True,drop=True)\n",
    "    X_test_extended = pd.concat([X_test,pd.DataFrame(new_column_test,columns=['cluster'])],axis=1)\n",
    "    return X_train_extended,X_test_extended,y_train,y_test"
   ]
  },
  {
   "cell_type": "code",
   "execution_count": 25,
   "metadata": {},
   "outputs": [],
   "source": [
    "# Import Kfold\n",
    "from sklearn.model_selection import KFold\n",
    "def cluster_forest_SearchCV(cluster_numbers,parameters,X,y):\n",
    "    df = pd.DataFrame(index=np.arange(len(cluster_numbers)),columns=['number_of_clusters','best_parameters','score'])\n",
    "    for idx,n_cluster in enumerate(cluster_numbers):\n",
    "        X_train_extended,X_test_extended,y_train,y_test = clustering(X,y,n_cluster)\n",
    "        forest = RandomForestRegressor(criterion = 'mse', max_features = 'sqrt', random_state=21)\n",
    "        model = GridSearchCV(forest,param_grid=parameters,cv=5)\n",
    "        model.fit(X_train_extended,y_train)\n",
    "        score = np.round(model.score(X_test_extended,y_test),3)\n",
    "        best_parameters = model.best_params_\n",
    "        df.loc[idx] = [n_cluster,best_parameters,score]\n",
    "        print(n_cluster,' ',idx)\n",
    "    df.score = df.score.astype(np.float)\n",
    "    best_score_index = df.score.argmax()\n",
    "    print('Best test set score is ',df.loc[best_score_index,'score'])\n",
    "    print('Number of clusters for the best test set score is ',df.loc[best_score_index,'number_of_clusters'])\n",
    "    print('Parameters for the best test set score is ',df.loc[best_score_index,'best_parameters'])\n",
    "    return df"
   ]
  },
  {
   "cell_type": "code",
   "execution_count": 26,
   "metadata": {},
   "outputs": [
    {
     "name": "stdout",
     "output_type": "stream",
     "text": [
      "5   0\n",
      "10   1\n",
      "50   2\n",
      "Best test set score is  0.702\n",
      "Number of clusters for the best test set score is  5\n",
      "Parameters for the best test set score is  {'min_samples_leaf': 5, 'n_estimators': 50}\n"
     ]
    }
   ],
   "source": [
    "cluster_numbers=[5,10,50]\n",
    "parameters = {'n_estimators':[10,50],\\\n",
    "             'min_samples_leaf':[5,7,10]}\n",
    "dff=cluster_forest_SearchCV(cluster_numbers,parameters,X,y)\n"
   ]
  },
  {
   "cell_type": "code",
   "execution_count": 34,
   "metadata": {},
   "outputs": [
    {
     "name": "stdout",
     "output_type": "stream",
     "text": [
      "(2512,)\n",
      "(629,)\n",
      "(2513,)\n",
      "(628,)\n",
      "(2513,)\n",
      "(628,)\n",
      "(2513,)\n",
      "(628,)\n",
      "(2513,)\n",
      "(628,)\n"
     ]
    }
   ],
   "source": [
    "kf = KFold(n_splits = 5)\n",
    "for train_index, test_index in kf.split(X):\n",
    "    print(train_index.shape)\n",
    "    print(test_index.shape)"
   ]
  },
  {
   "cell_type": "code",
   "execution_count": 35,
   "metadata": {},
   "outputs": [
    {
     "data": {
      "text/plain": [
       "0.8000636739891754"
      ]
     },
     "execution_count": 35,
     "metadata": {},
     "output_type": "execute_result"
    }
   ],
   "source": [
    "2513/3141"
   ]
  },
  {
   "cell_type": "code",
   "execution_count": 23,
   "metadata": {},
   "outputs": [
    {
     "name": "stdout",
     "output_type": "stream",
     "text": [
      "The test set score after tuning parameters is  0.735\n",
      "The best parameters are:  {'n_estimators': 200}\n",
      "The best score is:  0.7322848043751303\n"
     ]
    }
   ],
   "source": [
    "X_train_extended,X_test_extended,y_train,y_test = clustering(X,y,50)\n",
    "forest = RandomForestRegressor(criterion = 'mse', max_features = 'sqrt', min_samples_leaf = 1, random_state=21)\n",
    "parameters = {'n_estimators':[100,200,300,400]}\n",
    "model = GridSearchCV(forest,param_grid=parameters,cv=5)\n",
    "model.fit(X_train_extended,y_train)\n",
    "print('The test set score after tuning parameters is ',np.round(model.score(X_test_extended,y_test),3))\n",
    "print('The best parameters are: ',model.best_params_)\n",
    "print('The best score is: ',model.best_score_)"
   ]
  },
  {
   "cell_type": "code",
   "execution_count": 22,
   "metadata": {},
   "outputs": [
    {
     "data": {
      "text/plain": [
       "0.882601193494756"
      ]
     },
     "execution_count": 22,
     "metadata": {},
     "output_type": "execute_result"
    }
   ],
   "source": [
    "Xy = pd.concat([X,y],axis=1)\n",
    "kmeans = KMeans(n_clusters=50,random_state=21,algorithm='full')\n",
    "new_column = kmeans.fit_predict(Xy)\n",
    "X1 = X.reset_index(drop=True, inplace = True) \n",
    "X_extended = pd.concat([X1,pd.DataFrame(new_column,columns=['cluster'])],axis=1)\n",
    "forest = RandomForestRegressor(criterion = 'mse', max_features = 'sqrt', min_samples_leaf = 1, random_state=21)\n",
    "forest.fit(X_extended,y)\n",
    "forest.score(X_extended,y)"
   ]
  },
  {
   "cell_type": "code",
   "execution_count": 138,
   "metadata": {},
   "outputs": [
    {
     "data": {
      "text/plain": [
       "2924"
      ]
     },
     "execution_count": 138,
     "metadata": {},
     "output_type": "execute_result"
    }
   ],
   "source": [
    "dff=pd.read_csv('wrangled_data.csv')\n",
    "dff['bachelors/higher'].argmax()"
   ]
  },
  {
   "cell_type": "code",
   "execution_count": 139,
   "metadata": {
    "scrolled": true
   },
   "outputs": [
    {
     "data": {
      "text/plain": [
       "state                                      VA\n",
       "county                      Falls Church city\n",
       "region                                  South\n",
       "RUCC                                        1\n",
       "less_than_high_school                   2.048\n",
       "high_school_diploma                     6.464\n",
       "college/associate_degree               11.278\n",
       "bachelors/higher                        80.21\n",
       "poverty                                     4\n",
       "unemployment                              2.7\n",
       "Name: 2924, dtype: object"
      ]
     },
     "execution_count": 139,
     "metadata": {},
     "output_type": "execute_result"
    }
   ],
   "source": [
    "dff.loc[2924]"
   ]
  },
  {
   "cell_type": "code",
   "execution_count": 136,
   "metadata": {},
   "outputs": [
    {
     "data": {
      "text/html": [
       "<div>\n",
       "<style scoped>\n",
       "    .dataframe tbody tr th:only-of-type {\n",
       "        vertical-align: middle;\n",
       "    }\n",
       "\n",
       "    .dataframe tbody tr th {\n",
       "        vertical-align: top;\n",
       "    }\n",
       "\n",
       "    .dataframe thead th {\n",
       "        text-align: right;\n",
       "    }\n",
       "</style>\n",
       "<table border=\"1\" class=\"dataframe\">\n",
       "  <thead>\n",
       "    <tr style=\"text-align: right;\">\n",
       "      <th></th>\n",
       "      <th>RUCC</th>\n",
       "      <th>less_than_high_school</th>\n",
       "      <th>high_school_diploma</th>\n",
       "      <th>college/associate_degree</th>\n",
       "      <th>bachelors/higher</th>\n",
       "      <th>poverty</th>\n",
       "      <th>unemployment</th>\n",
       "    </tr>\n",
       "  </thead>\n",
       "  <tbody>\n",
       "    <tr>\n",
       "      <th>count</th>\n",
       "      <td>3141.000000</td>\n",
       "      <td>3141.000000</td>\n",
       "      <td>3141.000000</td>\n",
       "      <td>3141.000000</td>\n",
       "      <td>3141.000000</td>\n",
       "      <td>3141.000000</td>\n",
       "      <td>3141.000000</td>\n",
       "    </tr>\n",
       "    <tr>\n",
       "      <th>mean</th>\n",
       "      <td>5.009233</td>\n",
       "      <td>14.191065</td>\n",
       "      <td>34.580418</td>\n",
       "      <td>30.435074</td>\n",
       "      <td>20.793442</td>\n",
       "      <td>15.929322</td>\n",
       "      <td>5.259280</td>\n",
       "    </tr>\n",
       "    <tr>\n",
       "      <th>std</th>\n",
       "      <td>2.708605</td>\n",
       "      <td>6.542345</td>\n",
       "      <td>7.077880</td>\n",
       "      <td>5.126994</td>\n",
       "      <td>9.143124</td>\n",
       "      <td>6.284708</td>\n",
       "      <td>1.889193</td>\n",
       "    </tr>\n",
       "    <tr>\n",
       "      <th>min</th>\n",
       "      <td>1.000000</td>\n",
       "      <td>1.279000</td>\n",
       "      <td>6.464000</td>\n",
       "      <td>11.278000</td>\n",
       "      <td>2.985000</td>\n",
       "      <td>3.000000</td>\n",
       "      <td>1.700000</td>\n",
       "    </tr>\n",
       "    <tr>\n",
       "      <th>25%</th>\n",
       "      <td>2.000000</td>\n",
       "      <td>9.274000</td>\n",
       "      <td>30.150000</td>\n",
       "      <td>26.915000</td>\n",
       "      <td>14.429000</td>\n",
       "      <td>11.000000</td>\n",
       "      <td>4.000000</td>\n",
       "    </tr>\n",
       "    <tr>\n",
       "      <th>50%</th>\n",
       "      <td>6.000000</td>\n",
       "      <td>12.752000</td>\n",
       "      <td>34.926000</td>\n",
       "      <td>30.490000</td>\n",
       "      <td>18.544000</td>\n",
       "      <td>15.000000</td>\n",
       "      <td>5.000000</td>\n",
       "    </tr>\n",
       "    <tr>\n",
       "      <th>75%</th>\n",
       "      <td>7.000000</td>\n",
       "      <td>18.289000</td>\n",
       "      <td>39.608000</td>\n",
       "      <td>33.922000</td>\n",
       "      <td>24.704000</td>\n",
       "      <td>19.000000</td>\n",
       "      <td>6.200000</td>\n",
       "    </tr>\n",
       "    <tr>\n",
       "      <th>max</th>\n",
       "      <td>9.000000</td>\n",
       "      <td>51.479000</td>\n",
       "      <td>54.642000</td>\n",
       "      <td>47.428000</td>\n",
       "      <td>80.210000</td>\n",
       "      <td>49.000000</td>\n",
       "      <td>23.500000</td>\n",
       "    </tr>\n",
       "  </tbody>\n",
       "</table>\n",
       "</div>"
      ],
      "text/plain": [
       "              RUCC  less_than_high_school  high_school_diploma  \\\n",
       "count  3141.000000            3141.000000          3141.000000   \n",
       "mean      5.009233              14.191065            34.580418   \n",
       "std       2.708605               6.542345             7.077880   \n",
       "min       1.000000               1.279000             6.464000   \n",
       "25%       2.000000               9.274000            30.150000   \n",
       "50%       6.000000              12.752000            34.926000   \n",
       "75%       7.000000              18.289000            39.608000   \n",
       "max       9.000000              51.479000            54.642000   \n",
       "\n",
       "       college/associate_degree  bachelors/higher      poverty  unemployment  \n",
       "count               3141.000000       3141.000000  3141.000000   3141.000000  \n",
       "mean                  30.435074         20.793442    15.929322      5.259280  \n",
       "std                    5.126994          9.143124     6.284708      1.889193  \n",
       "min                   11.278000          2.985000     3.000000      1.700000  \n",
       "25%                   26.915000         14.429000    11.000000      4.000000  \n",
       "50%                   30.490000         18.544000    15.000000      5.000000  \n",
       "75%                   33.922000         24.704000    19.000000      6.200000  \n",
       "max                   47.428000         80.210000    49.000000     23.500000  "
      ]
     },
     "execution_count": 136,
     "metadata": {},
     "output_type": "execute_result"
    }
   ],
   "source": [
    "dff.describe()"
   ]
  },
  {
   "cell_type": "code",
   "execution_count": 97,
   "metadata": {},
   "outputs": [
    {
     "name": "stdout",
     "output_type": "stream",
     "text": [
      "0.44265162485732734\n"
     ]
    }
   ],
   "source": [
    "# Define train and test datasets\n",
    "X_train, X_test, y_train, y_test = train_test_split(X,y,test_size=0.3,random_state=21)\n",
    "from sklearn.svm import SVR\n",
    "svr = SVR()\n",
    "scores = cross_val_score(svr,X,y,cv=5)\n",
    "print(np.mean(scores))"
   ]
  },
  {
   "cell_type": "code",
   "execution_count": 6,
   "metadata": {},
   "outputs": [
    {
     "name": "stdout",
     "output_type": "stream",
     "text": [
      "The test set score after tuning parameters is  0.575\n",
      "The best parameters are:  {'C': 10, 'epsilon': 0.8}\n"
     ]
    }
   ],
   "source": [
    "from sklearn.model_selection import train_test_split\n",
    "from sklearn.ensemble import RandomForestRegressor\n",
    "from sklearn.model_selection import GridSearchCV\n",
    "from sklearn.svm import SVR\n",
    "X_train, X_test, y_train, y_test = train_test_split(X,y,test_size=0.3,random_state=21)\n",
    "svr = SVR(kernel='linear')\n",
    "parameters = {'C':[2,5,10],\\\n",
    "             'epsilon':[0.5,0.8]}\n",
    "model = GridSearchCV(svr,param_grid = parameters, cv=5)\n",
    "model.fit(X_train_extended,y_train)\n",
    "print('The test set score after tuning parameters is ',np.round(model.score(X_test_extended,y_test),3))\n",
    "print('The best parameters are: ',model.best_params_)"
   ]
  },
  {
   "cell_type": "code",
   "execution_count": null,
   "metadata": {},
   "outputs": [],
   "source": []
  }
 ],
 "metadata": {
  "kernelspec": {
   "display_name": "Python 3",
   "language": "python",
   "name": "python3"
  },
  "language_info": {
   "codemirror_mode": {
    "name": "ipython",
    "version": 3
   },
   "file_extension": ".py",
   "mimetype": "text/x-python",
   "name": "python",
   "nbconvert_exporter": "python",
   "pygments_lexer": "ipython3",
   "version": "3.6.6"
  }
 },
 "nbformat": 4,
 "nbformat_minor": 1
}
