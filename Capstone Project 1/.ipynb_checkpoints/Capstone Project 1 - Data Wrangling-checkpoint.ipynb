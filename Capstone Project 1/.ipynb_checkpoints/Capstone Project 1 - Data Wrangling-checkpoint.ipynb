{
 "cells": [
  {
   "cell_type": "code",
   "execution_count": 1,
   "metadata": {},
   "outputs": [
    {
     "name": "stdout",
     "output_type": "stream",
     "text": [
      "['Education 1970 to 2016']\n"
     ]
    }
   ],
   "source": [
    "#Education.xls file is the first data set\n",
    "import pandas as pd\n",
    "file_name='All excel sheets\\Education.xls'\n",
    "xl = pd.ExcelFile(file_name)\n",
    "print(xl.sheet_names)"
   ]
  },
  {
   "cell_type": "code",
   "execution_count": 3,
   "metadata": {
    "scrolled": true
   },
   "outputs": [
    {
     "data": {
      "text/html": [
       "<div>\n",
       "<table border=\"1\" class=\"dataframe\">\n",
       "  <thead>\n",
       "    <tr style=\"text-align: right;\">\n",
       "      <th></th>\n",
       "      <th>State</th>\n",
       "      <th>Area name</th>\n",
       "      <th>2013 Rural-urban Continuum Code</th>\n",
       "      <th>Percent of adults with less than a high school diploma, 2012-2016</th>\n",
       "      <th>Percent of adults with a high school diploma only, 2012-2016</th>\n",
       "      <th>Percent of adults completing some college or associate's degree, 2012-2016</th>\n",
       "      <th>Percent of adults with a bachelor's degree or higher, 2012-2016</th>\n",
       "    </tr>\n",
       "  </thead>\n",
       "  <tbody>\n",
       "    <tr>\n",
       "      <th>0</th>\n",
       "      <td>US</td>\n",
       "      <td>United States</td>\n",
       "      <td>NaN</td>\n",
       "      <td>13.021</td>\n",
       "      <td>27.531</td>\n",
       "      <td>29.133</td>\n",
       "      <td>30.315</td>\n",
       "    </tr>\n",
       "    <tr>\n",
       "      <th>1</th>\n",
       "      <td>AL</td>\n",
       "      <td>Alabama</td>\n",
       "      <td>NaN</td>\n",
       "      <td>15.209</td>\n",
       "      <td>30.956</td>\n",
       "      <td>29.825</td>\n",
       "      <td>24.010</td>\n",
       "    </tr>\n",
       "    <tr>\n",
       "      <th>2</th>\n",
       "      <td>AL</td>\n",
       "      <td>Autauga County</td>\n",
       "      <td>2.0</td>\n",
       "      <td>12.417</td>\n",
       "      <td>34.331</td>\n",
       "      <td>28.660</td>\n",
       "      <td>24.593</td>\n",
       "    </tr>\n",
       "    <tr>\n",
       "      <th>3</th>\n",
       "      <td>AL</td>\n",
       "      <td>Baldwin County</td>\n",
       "      <td>3.0</td>\n",
       "      <td>9.972</td>\n",
       "      <td>28.692</td>\n",
       "      <td>31.788</td>\n",
       "      <td>29.547</td>\n",
       "    </tr>\n",
       "    <tr>\n",
       "      <th>4</th>\n",
       "      <td>AL</td>\n",
       "      <td>Barbour County</td>\n",
       "      <td>6.0</td>\n",
       "      <td>26.236</td>\n",
       "      <td>34.927</td>\n",
       "      <td>25.969</td>\n",
       "      <td>12.868</td>\n",
       "    </tr>\n",
       "  </tbody>\n",
       "</table>\n",
       "</div>"
      ],
      "text/plain": [
       "  State       Area name  2013 Rural-urban Continuum Code  \\\n",
       "0    US   United States                              NaN   \n",
       "1    AL         Alabama                              NaN   \n",
       "2    AL  Autauga County                              2.0   \n",
       "3    AL  Baldwin County                              3.0   \n",
       "4    AL  Barbour County                              6.0   \n",
       "\n",
       "   Percent of adults with less than a high school diploma, 2012-2016  \\\n",
       "0                                             13.021                   \n",
       "1                                             15.209                   \n",
       "2                                             12.417                   \n",
       "3                                              9.972                   \n",
       "4                                             26.236                   \n",
       "\n",
       "   Percent of adults with a high school diploma only, 2012-2016  \\\n",
       "0                                             27.531              \n",
       "1                                             30.956              \n",
       "2                                             34.331              \n",
       "3                                             28.692              \n",
       "4                                             34.927              \n",
       "\n",
       "   Percent of adults completing some college or associate's degree, 2012-2016  \\\n",
       "0                                             29.133                            \n",
       "1                                             29.825                            \n",
       "2                                             28.660                            \n",
       "3                                             31.788                            \n",
       "4                                             25.969                            \n",
       "\n",
       "   Percent of adults with a bachelor's degree or higher, 2012-2016  \n",
       "0                                             30.315                \n",
       "1                                             24.010                \n",
       "2                                             24.593                \n",
       "3                                             29.547                \n",
       "4                                             12.868                "
      ]
     },
     "execution_count": 3,
     "metadata": {},
     "output_type": "execute_result"
    }
   ],
   "source": [
    "# The first three lines are comments\n",
    "df= xl.parse(0,header=4)\n",
    "\n",
    "#Columns 1, 2, and 5 are state, area name(US, State, County), and the rural-urban continuum codes, respectively\n",
    "df1=df.iloc[:,[1,2,5]]\n",
    "\n",
    "# The last four columns are the percentages of adults with less than high school diploma, high school diploma, some college\n",
    "# or associate's degree, and Bachelor's or higher degrees\n",
    "df2=df.iloc[:,-4:]\n",
    "\n",
    "#Concat df1 & df2\n",
    "df_concat=pd.concat([df1,df2],axis='columns')\n",
    "\n",
    "# Remove rows associate with Puerto Rico because this project examines the 50 states and District of Columbia\n",
    "df_concat = df_concat[df_concat.State != 'PR']\n",
    "\n",
    "#print the first five rows\n",
    "df_concat.head()"
   ]
  },
  {
   "cell_type": "code",
   "execution_count": 222,
   "metadata": {},
   "outputs": [
    {
     "name": "stdout",
     "output_type": "stream",
     "text": [
      "<class 'pandas.core.frame.DataFrame'>\n",
      "Int64Index: 3204 entries, 0 to 3203\n",
      "Data columns (total 7 columns):\n",
      "State                                                                         3204 non-null object\n",
      "Area name                                                                     3204 non-null object\n",
      "2013 Rural-urban Continuum Code                                               3143 non-null float64\n",
      "Percent of adults with less than a high school diploma, 2012-2016             3194 non-null float64\n",
      "Percent of adults with a high school diploma only, 2012-2016                  3194 non-null float64\n",
      "Percent of adults completing some college or associate's degree, 2012-2016    3194 non-null float64\n",
      "Percent of adults with a bachelor's degree or higher, 2012-2016               3194 non-null float64\n",
      "dtypes: float64(5), object(2)\n",
      "memory usage: 200.2+ KB\n"
     ]
    }
   ],
   "source": [
    "#Print the dataframe information\n",
    "df_concat.info()"
   ]
  },
  {
   "cell_type": "code",
   "execution_count": 223,
   "metadata": {},
   "outputs": [
    {
     "name": "stdout",
     "output_type": "stream",
     "text": [
      "     State                                    Area name\n",
      "0       US                                United States\n",
      "1       AL                                      Alabama\n",
      "69      AK                                       Alaska\n",
      "70      AK                             Aleutian Islands\n",
      "86      AK                           Kuskokwim Division\n",
      "94      AK  Prince of Wales-Outer Ketchikan Census Area\n",
      "97      AK           Skagway-Yakutat-Angoon Census Area\n",
      "98      AK            Skagway-Hoonah-Angoon Census Area\n",
      "100     AK                         Upper Yukon Division\n",
      "103     AK              Wrangell-Petersburg Census Area\n",
      "106     AZ                                      Arizona\n",
      "122     AR                                     Arkansas\n",
      "198     CA                                   California\n",
      "257     CO                                     Colorado\n",
      "322     CT                                  Connecticut\n",
      "331     DE                                     Delaware\n",
      "335     DC                         District of Columbia\n",
      "337     FL                                      Florida\n",
      "405     GA                                      Georgia\n",
      "565     HI                                       Hawaii\n",
      "571     ID                                        Idaho\n",
      "616     IL                                     Illinois\n",
      "719     IN                                      Indiana\n",
      "812     IA                                         Iowa\n",
      "912     KS                                       Kansas\n",
      "1018    KY                                     Kentucky\n",
      "1139    LA                                     Lousiana\n",
      "1204    ME                                        Maine\n",
      "1221    MD                                     Maryland\n",
      "1246    MA                                Massachusetts\n",
      "...    ...                                          ...\n",
      "1433    MS                                  Mississippi\n",
      "1516    MO                                     Missouri\n",
      "1632    MT                                      Montana\n",
      "1689    MT                    Yellowstone National Park\n",
      "1690    NE                                     Nebraska\n",
      "1784    NV                                       Nevada\n",
      "1802    NH                                New Hampshire\n",
      "1813    NJ                                   New Jersey\n",
      "1835    NM                                   New Mexico\n",
      "1869    NY                                     New York\n",
      "1932    NC                               North Carolina\n",
      "2033    ND                                 North Dakota\n",
      "2087    OH                                         Ohio\n",
      "2176    OK                                     Oklahoma\n",
      "2254    OR                                       Oregon\n",
      "2291    PA                                 Pennsylvania\n",
      "2359    RI                                 Rhode Island\n",
      "2365    SC                               South Carolina\n",
      "2412    SD                                 South Dakota\n",
      "2479    TN                                    Tennessee\n",
      "2575    TX                                        Texas\n",
      "2830    UT                                         Utah\n",
      "2860    VT                                      Vermont\n",
      "2875    VA                                     Virginia\n",
      "2972    VA                                 Bedford city\n",
      "2977    VA                           Clifton Forge city\n",
      "3011    WA                                   Washington\n",
      "3051    WV                                West Virginia\n",
      "3107    WI                                    Wisconsin\n",
      "3180    WY                                      Wyoming\n",
      "\n",
      "[62 rows x 2 columns]\n"
     ]
    }
   ],
   "source": [
    "# The info above shows \"2013 Rural-urban Continuum Code\" column has the most null objects (61 null elements). \n",
    "# Each of the four columns of education levels have ten null objects as well\n",
    "#I print the rows (only State and Area name) with null values in any column to investigate them\n",
    "print(df_concat.loc[df_concat.isnull().any(axis=1),['State','Area name']])"
   ]
  },
  {
   "cell_type": "code",
   "execution_count": 224,
   "metadata": {},
   "outputs": [
    {
     "data": {
      "text/html": [
       "<div>\n",
       "<table border=\"1\" class=\"dataframe\">\n",
       "  <thead>\n",
       "    <tr style=\"text-align: right;\">\n",
       "      <th></th>\n",
       "      <th>state</th>\n",
       "      <th>county</th>\n",
       "      <th>RUCC</th>\n",
       "      <th>less_than_high_school</th>\n",
       "      <th>high_school_diploma</th>\n",
       "      <th>college/associate_degree</th>\n",
       "      <th>bachelors/higher</th>\n",
       "    </tr>\n",
       "  </thead>\n",
       "  <tbody>\n",
       "    <tr>\n",
       "      <th>2</th>\n",
       "      <td>AL</td>\n",
       "      <td>Autauga County</td>\n",
       "      <td>2</td>\n",
       "      <td>12.417</td>\n",
       "      <td>34.331</td>\n",
       "      <td>28.660</td>\n",
       "      <td>24.593</td>\n",
       "    </tr>\n",
       "    <tr>\n",
       "      <th>3</th>\n",
       "      <td>AL</td>\n",
       "      <td>Baldwin County</td>\n",
       "      <td>3</td>\n",
       "      <td>9.972</td>\n",
       "      <td>28.692</td>\n",
       "      <td>31.788</td>\n",
       "      <td>29.547</td>\n",
       "    </tr>\n",
       "    <tr>\n",
       "      <th>4</th>\n",
       "      <td>AL</td>\n",
       "      <td>Barbour County</td>\n",
       "      <td>6</td>\n",
       "      <td>26.236</td>\n",
       "      <td>34.927</td>\n",
       "      <td>25.969</td>\n",
       "      <td>12.868</td>\n",
       "    </tr>\n",
       "    <tr>\n",
       "      <th>5</th>\n",
       "      <td>AL</td>\n",
       "      <td>Bibb County</td>\n",
       "      <td>1</td>\n",
       "      <td>19.302</td>\n",
       "      <td>41.816</td>\n",
       "      <td>26.883</td>\n",
       "      <td>12.000</td>\n",
       "    </tr>\n",
       "    <tr>\n",
       "      <th>6</th>\n",
       "      <td>AL</td>\n",
       "      <td>Blount County</td>\n",
       "      <td>1</td>\n",
       "      <td>19.969</td>\n",
       "      <td>32.942</td>\n",
       "      <td>34.039</td>\n",
       "      <td>13.050</td>\n",
       "    </tr>\n",
       "  </tbody>\n",
       "</table>\n",
       "</div>"
      ],
      "text/plain": [
       "  state          county  RUCC  less_than_high_school  high_school_diploma  \\\n",
       "2    AL  Autauga County     2                 12.417               34.331   \n",
       "3    AL  Baldwin County     3                  9.972               28.692   \n",
       "4    AL  Barbour County     6                 26.236               34.927   \n",
       "5    AL     Bibb County     1                 19.302               41.816   \n",
       "6    AL   Blount County     1                 19.969               32.942   \n",
       "\n",
       "   college/associate_degree  bachelors/higher  \n",
       "2                    28.660            24.593  \n",
       "3                    31.788            29.547  \n",
       "4                    25.969            12.868  \n",
       "5                    26.883            12.000  \n",
       "6                    34.039            13.050  "
      ]
     },
     "execution_count": 224,
     "metadata": {},
     "output_type": "execute_result"
    }
   ],
   "source": [
    "# As it can be seen, missing data is from either US and States, or some counties from Alaska. I had to\n",
    "# remove data from US and States anyway since the focus of this study is on the counties. In addition, eliminating around 12 counties from \n",
    "# more than 3100 counties means loosing about %0.4 of the data set, and therefore, it will not significantly impact the results\n",
    "df_education=df_concat.dropna()\n",
    "\n",
    "# Columns are renamed for convenience\n",
    "df_education=df_education.rename(columns={'State':'state','Area name':'county','2013 Rural-urban Continuum Code':'RUCC',\n",
    "                             'Percent of adults with less than a high school diploma, 2012-2016':'less_than_high_school',\n",
    "                            'Percent of adults with a high school diploma only, 2012-2016':'high_school_diploma',\n",
    "                            'Percent of adults completing some college or associate\\'s degree, 2012-2016':'college/associate_degree',\n",
    "                            'Percent of adults with a bachelor\\'s degree or higher, 2012-2016':'bachelors/higher'})\n",
    "\n",
    "#print the first five rows\n",
    "df_education.head()"
   ]
  },
  {
   "cell_type": "code",
   "execution_count": 225,
   "metadata": {},
   "outputs": [
    {
     "name": "stdout",
     "output_type": "stream",
     "text": [
      "<class 'pandas.core.frame.DataFrame'>\n",
      "Int64Index: 3142 entries, 2 to 3203\n",
      "Data columns (total 7 columns):\n",
      "state                       3142 non-null object\n",
      "county                      3142 non-null object\n",
      "RUCC                        3142 non-null float64\n",
      "less_than_high_school       3142 non-null float64\n",
      "high_school_diploma         3142 non-null float64\n",
      "college/associate_degree    3142 non-null float64\n",
      "bachelors/higher            3142 non-null float64\n",
      "dtypes: float64(5), object(2)\n",
      "memory usage: 196.4+ KB\n",
      "None\n"
     ]
    }
   ],
   "source": [
    "# Print the information of df_education again to make sure there is no more null object\n",
    "print(df_education.info())"
   ]
  },
  {
   "cell_type": "code",
   "execution_count": 226,
   "metadata": {
    "scrolled": false
   },
   "outputs": [
    {
     "name": "stdout",
     "output_type": "stream",
     "text": [
      " All rural-urban continuum code values are\n",
      " [2. 3. 6. 1. 9. 7. 8. 4. 5.]\n",
      "\n",
      "Number of rows with at least one education percentage less than 0 or more than 100 is  0\n",
      "\n",
      "Number of rows with the sum of education percentages less than 99.9 or more than 100.1 is  0\n",
      "\n",
      "Top five counties with the most counts\n",
      "IL-Hancock County      1\n",
      "TX-Red River County    1\n",
      "OH-Madison County      1\n",
      "AL-Choctaw County      1\n",
      "MS-Alcorn County       1\n",
      "dtype: int64\n"
     ]
    }
   ],
   "source": [
    "# The rural-urban continuum codes (RUCC) must be integers from 1-9. All the unique values are printed to make sure they meet the expectation\n",
    "print(' All rural-urban continuum code values are\\n',df_education.RUCC.unique())\n",
    "\n",
    "# check if any education percentage is less than 0 or more than 100\n",
    "print('\\nNumber of rows with at least one education percentage less than 0 or more than 100 is ',\\\n",
    "      sum([df_education[(df_education[column]>100) | (df_education[column]<0)].shape[0] for column in df_education.iloc[:,-4:].columns]))\n",
    "\n",
    "# check if the sum of the education percentages is close enough to 100 for all rows\n",
    "total=df_education.iloc[:,-4:].sum(axis=1)\n",
    "print('\\nNumber of rows with the sum of education percentages less than 99.9 or more than 100.1 is ',\\\n",
    "      total[(total<99.9) | (total>100.1)].shape[0])\n",
    "\n",
    "# check if there is more than one row for any county\n",
    "state_county=df_education.state+'-'+df_education.county\n",
    "print('\\nTop five counties with the most counts')\n",
    "print(state_county.value_counts().head())\n",
    "# If the top ones have only one count, it means there is no duplicate row for any county"
   ]
  },
  {
   "cell_type": "code",
   "execution_count": 227,
   "metadata": {},
   "outputs": [
    {
     "name": "stdout",
     "output_type": "stream",
     "text": [
      "['Poverty Data 2016', 'Variable Descriptions']\n"
     ]
    }
   ],
   "source": [
    "# read the poverty file\n",
    "file_name='All excel sheets\\PovertyEstimates.xls'\n",
    "xl = pd.ExcelFile(file_name)\n",
    "print(xl.sheet_names)"
   ]
  },
  {
   "cell_type": "code",
   "execution_count": 228,
   "metadata": {},
   "outputs": [
    {
     "data": {
      "text/html": [
       "<div>\n",
       "<table border=\"1\" class=\"dataframe\">\n",
       "  <thead>\n",
       "    <tr style=\"text-align: right;\">\n",
       "      <th></th>\n",
       "      <th>state</th>\n",
       "      <th>county</th>\n",
       "      <th>poverty</th>\n",
       "    </tr>\n",
       "  </thead>\n",
       "  <tbody>\n",
       "    <tr>\n",
       "      <th>0</th>\n",
       "      <td>US</td>\n",
       "      <td>United States</td>\n",
       "      <td>14</td>\n",
       "    </tr>\n",
       "    <tr>\n",
       "      <th>1</th>\n",
       "      <td>AL</td>\n",
       "      <td>Alabama</td>\n",
       "      <td>17</td>\n",
       "    </tr>\n",
       "    <tr>\n",
       "      <th>2</th>\n",
       "      <td>AL</td>\n",
       "      <td>Autauga County</td>\n",
       "      <td>14</td>\n",
       "    </tr>\n",
       "    <tr>\n",
       "      <th>3</th>\n",
       "      <td>AL</td>\n",
       "      <td>Baldwin County</td>\n",
       "      <td>12</td>\n",
       "    </tr>\n",
       "    <tr>\n",
       "      <th>4</th>\n",
       "      <td>AL</td>\n",
       "      <td>Barbour County</td>\n",
       "      <td>30</td>\n",
       "    </tr>\n",
       "  </tbody>\n",
       "</table>\n",
       "</div>"
      ],
      "text/plain": [
       "  state          county  poverty\n",
       "0    US   United States       14\n",
       "1    AL         Alabama       17\n",
       "2    AL  Autauga County       14\n",
       "3    AL  Baldwin County       12\n",
       "4    AL  Barbour County       30"
      ]
     },
     "execution_count": 228,
     "metadata": {},
     "output_type": "execute_result"
    }
   ],
   "source": [
    "# read the first sheet, collect three columns and rename them\n",
    "df_poverty=xl.parse(0,header=2)\n",
    "df_poverty=df_poverty.loc[:,['State','Area_Name','PCTPOVALL_2016']].rename(columns={'State':'state','Area_Name':'county',\n",
    "                                                                                    'PCTPOVALL_2016':'poverty'})\n",
    "#Print the first five rows\n",
    "df_poverty.head()"
   ]
  },
  {
   "cell_type": "code",
   "execution_count": 229,
   "metadata": {},
   "outputs": [
    {
     "name": "stdout",
     "output_type": "stream",
     "text": [
      "<class 'pandas.core.frame.DataFrame'>\n",
      "Int64Index: 3194 entries, 0 to 3193\n",
      "Data columns (total 3 columns):\n",
      "state      3194 non-null object\n",
      "county     3194 non-null object\n",
      "poverty    3193 non-null float64\n",
      "dtypes: float64(1), object(2)\n",
      "memory usage: 99.8+ KB\n"
     ]
    }
   ],
   "source": [
    "#The rows corresponding to states are of no use in this project and will be eliminated when poverty dataframe is merged with\n",
    "#education dataframe so it's not necessary to remove them right now\n",
    "\n",
    "# Print the dataframe information\n",
    "df_poverty.info()"
   ]
  },
  {
   "cell_type": "code",
   "execution_count": 230,
   "metadata": {},
   "outputs": [
    {
     "name": "stdout",
     "output_type": "stream",
     "text": [
      "Number of rows with the poverty percentage less than 0 or more than 100 is  0\n",
      "\n",
      "Top five counties with the most counts\n",
      "DC-District of Columbia    2\n",
      "VT-Vermont                 1\n",
      "GA-Clinch County           1\n",
      "OH-Ohio                    1\n",
      "LA-Avoyelles Parish        1\n",
      "dtype: int64\n"
     ]
    }
   ],
   "source": [
    "# There is only one null cell in df_poverty, so we could just remove it\n",
    "df_poverty.dropna(inplace=True)\n",
    "\n",
    "# check if there is any poverty percentage less than 0 or more than 100\n",
    "print('Number of rows with the poverty percentage less than 0 or more than 100 is ',\\\n",
    "      df_poverty[(df_poverty.poverty>100) | (df_poverty.poverty<0)].shape[0])\n",
    "\n",
    "# check if there are duplicate rows for any county\n",
    "state_county=df_poverty.state+'-'+df_poverty.county\n",
    "print('\\nTop five counties with the most counts')\n",
    "print(state_county.value_counts().head())"
   ]
  },
  {
   "cell_type": "code",
   "execution_count": 231,
   "metadata": {},
   "outputs": [
    {
     "name": "stdout",
     "output_type": "stream",
     "text": [
      "<class 'pandas.core.frame.DataFrame'>\n",
      "Int64Index: 3131 entries, 0 to 3130\n",
      "Data columns (total 8 columns):\n",
      "state                       3131 non-null object\n",
      "county                      3131 non-null object\n",
      "RUCC                        3131 non-null float64\n",
      "less_than_high_school       3131 non-null float64\n",
      "high_school_diploma         3131 non-null float64\n",
      "college/associate_degree    3131 non-null float64\n",
      "bachelors/higher            3131 non-null float64\n",
      "poverty                     3131 non-null float64\n",
      "dtypes: float64(6), object(2)\n",
      "memory usage: 220.1+ KB\n"
     ]
    }
   ],
   "source": [
    "# It shows there are two rows for District of Columbia. The duplicate is dropped\n",
    "df_poverty.drop_duplicates(inplace=True)\n",
    "\n",
    "# Merge education and poverty dataframes\n",
    "df_merge_education_poverty=df_education.merge(df_poverty,on=['state','county'])\n",
    "\n",
    "# Print the information of the new dataframe\n",
    "df_merge_education_poverty.info()"
   ]
  },
  {
   "cell_type": "code",
   "execution_count": 232,
   "metadata": {
    "collapsed": true
   },
   "outputs": [],
   "source": [
    "# In the merged file there are 3131 entries which is 11 less than 3142 entires of df_education. Since there are already more than \n",
    "# 3000 entries, 11 entries will not significantly change analysis results"
   ]
  },
  {
   "cell_type": "code",
   "execution_count": 233,
   "metadata": {},
   "outputs": [
    {
     "name": "stdout",
     "output_type": "stream",
     "text": [
      "['Unemployment Med HH Inc', 'Variable Descriptions']\n"
     ]
    }
   ],
   "source": [
    "# read the Unemployment sheet\n",
    "file_name=r'All excel sheets\\Unemployment.xls'\n",
    "xl=pd.ExcelFile(file_name)\n",
    "print(xl.sheet_names)"
   ]
  },
  {
   "cell_type": "code",
   "execution_count": 234,
   "metadata": {},
   "outputs": [
    {
     "data": {
      "text/html": [
       "<div>\n",
       "<table border=\"1\" class=\"dataframe\">\n",
       "  <thead>\n",
       "    <tr style=\"text-align: right;\">\n",
       "      <th></th>\n",
       "      <th>state</th>\n",
       "      <th>county</th>\n",
       "      <th>unemployment</th>\n",
       "    </tr>\n",
       "  </thead>\n",
       "  <tbody>\n",
       "    <tr>\n",
       "      <th>0</th>\n",
       "      <td>AL</td>\n",
       "      <td>Alabama</td>\n",
       "      <td>6.0</td>\n",
       "    </tr>\n",
       "    <tr>\n",
       "      <th>1</th>\n",
       "      <td>AL</td>\n",
       "      <td>Autauga County, AL</td>\n",
       "      <td>5.3</td>\n",
       "    </tr>\n",
       "    <tr>\n",
       "      <th>2</th>\n",
       "      <td>AL</td>\n",
       "      <td>Baldwin County, AL</td>\n",
       "      <td>5.4</td>\n",
       "    </tr>\n",
       "    <tr>\n",
       "      <th>3</th>\n",
       "      <td>AL</td>\n",
       "      <td>Barbour County, AL</td>\n",
       "      <td>8.6</td>\n",
       "    </tr>\n",
       "    <tr>\n",
       "      <th>4</th>\n",
       "      <td>AL</td>\n",
       "      <td>Bibb County, AL</td>\n",
       "      <td>6.6</td>\n",
       "    </tr>\n",
       "  </tbody>\n",
       "</table>\n",
       "</div>"
      ],
      "text/plain": [
       "  state              county  unemployment\n",
       "0    AL             Alabama           6.0\n",
       "1    AL  Autauga County, AL           5.3\n",
       "2    AL  Baldwin County, AL           5.4\n",
       "3    AL  Barbour County, AL           8.6\n",
       "4    AL     Bibb County, AL           6.6"
      ]
     },
     "execution_count": 234,
     "metadata": {},
     "output_type": "execute_result"
    }
   ],
   "source": [
    "# read the first sheet, collect three columns and rename them\n",
    "df_unemployment=xl.parse(0)\n",
    "df_unemployment=df_unemployment[['State','Area_name','Unemployment_rate_2016']].rename(columns={'State':'state','Area_name':'county',\n",
    "                                                                                       'Unemployment_rate_2016'\n",
    "                                                                                      :'unemployment'})\n",
    "#Print the first five rows\n",
    "df_unemployment.head()"
   ]
  },
  {
   "cell_type": "code",
   "execution_count": 235,
   "metadata": {},
   "outputs": [
    {
     "data": {
      "text/html": [
       "<div>\n",
       "<table border=\"1\" class=\"dataframe\">\n",
       "  <thead>\n",
       "    <tr style=\"text-align: right;\">\n",
       "      <th></th>\n",
       "      <th>state</th>\n",
       "      <th>county</th>\n",
       "      <th>unemployment</th>\n",
       "    </tr>\n",
       "  </thead>\n",
       "  <tbody>\n",
       "    <tr>\n",
       "      <th>0</th>\n",
       "      <td>AL</td>\n",
       "      <td>Ala</td>\n",
       "      <td>6.0</td>\n",
       "    </tr>\n",
       "    <tr>\n",
       "      <th>1</th>\n",
       "      <td>AL</td>\n",
       "      <td>Autauga County</td>\n",
       "      <td>5.3</td>\n",
       "    </tr>\n",
       "    <tr>\n",
       "      <th>2</th>\n",
       "      <td>AL</td>\n",
       "      <td>Baldwin County</td>\n",
       "      <td>5.4</td>\n",
       "    </tr>\n",
       "    <tr>\n",
       "      <th>3</th>\n",
       "      <td>AL</td>\n",
       "      <td>Barbour County</td>\n",
       "      <td>8.6</td>\n",
       "    </tr>\n",
       "    <tr>\n",
       "      <th>4</th>\n",
       "      <td>AL</td>\n",
       "      <td>Bibb County</td>\n",
       "      <td>6.6</td>\n",
       "    </tr>\n",
       "  </tbody>\n",
       "</table>\n",
       "</div>"
      ],
      "text/plain": [
       "  state          county  unemployment\n",
       "0    AL             Ala           6.0\n",
       "1    AL  Autauga County           5.3\n",
       "2    AL  Baldwin County           5.4\n",
       "3    AL  Barbour County           8.6\n",
       "4    AL     Bibb County           6.6"
      ]
     },
     "execution_count": 235,
     "metadata": {},
     "output_type": "execute_result"
    }
   ],
   "source": [
    "#Remove the state name from county names\n",
    "df_unemployment.county=df_unemployment.county.map(lambda x: x[:len(x)-4])\n",
    "\n",
    "# The command above will remove the last four characters from name of states and District of Columbia.\n",
    "# The rows corresponding to states are of no use in this project and will be eliminated when unemployment dataframe is merged with\n",
    "# df_merge_education_poverty, but we need District of Columbia, and it must be corrected.\n",
    "df_unemployment.loc[df_unemployment['county']=='District of Colu','county']='District of Columbia'\n",
    "\n",
    "#Print the first five rows\n",
    "df_unemployment.head()"
   ]
  },
  {
   "cell_type": "code",
   "execution_count": 236,
   "metadata": {},
   "outputs": [
    {
     "name": "stdout",
     "output_type": "stream",
     "text": [
      "<class 'pandas.core.frame.DataFrame'>\n",
      "Int64Index: 3274 entries, 0 to 3273\n",
      "Data columns (total 3 columns):\n",
      "state           3274 non-null object\n",
      "county          3274 non-null object\n",
      "unemployment    3271 non-null float64\n",
      "dtypes: float64(1), object(2)\n",
      "memory usage: 102.3+ KB\n"
     ]
    }
   ],
   "source": [
    "#Print information\n",
    "df_unemployment.info()"
   ]
  },
  {
   "cell_type": "code",
   "execution_count": 237,
   "metadata": {},
   "outputs": [
    {
     "name": "stdout",
     "output_type": "stream",
     "text": [
      "\n",
      "Top five counties with most counts\n",
      "DC-District of Columbia    2\n",
      "TX-Menard County           1\n",
      "GA-Clinch County           1\n",
      "KY-Pendleton County        1\n",
      "LA-Avoyelles Parish        1\n",
      "dtype: int64\n"
     ]
    }
   ],
   "source": [
    "# There are three null unemployment rates\n",
    "df_unemployment.dropna(inplace=True)\n",
    "\n",
    "#Check if there is any duplicate\n",
    "state_county=df_unemployment.state+'-'+df_unemployment.county\n",
    "print('\\nTop five counties with most counts')\n",
    "print(state_county.value_counts().head())"
   ]
  },
  {
   "cell_type": "code",
   "execution_count": 238,
   "metadata": {
    "collapsed": true
   },
   "outputs": [],
   "source": [
    "#Remove the duplicate\n",
    "df_unemployment.drop_duplicates(inplace=True)"
   ]
  },
  {
   "cell_type": "code",
   "execution_count": 239,
   "metadata": {},
   "outputs": [
    {
     "name": "stdout",
     "output_type": "stream",
     "text": [
      "<class 'pandas.core.frame.DataFrame'>\n",
      "Int64Index: 3122 entries, 0 to 3121\n",
      "Data columns (total 9 columns):\n",
      "state                       3122 non-null object\n",
      "county                      3122 non-null object\n",
      "RUCC                        3122 non-null float64\n",
      "less_than_high_school       3122 non-null float64\n",
      "high_school_diploma         3122 non-null float64\n",
      "college/associate_degree    3122 non-null float64\n",
      "bachelors/higher            3122 non-null float64\n",
      "poverty                     3122 non-null float64\n",
      "unemployment                3122 non-null float64\n",
      "dtypes: float64(7), object(2)\n",
      "memory usage: 243.9+ KB\n"
     ]
    }
   ],
   "source": [
    "#Merge all three tables together\n",
    "df_merge_three=df_merge_education_poverty.merge(df_unemployment,on=['state','county'])\n",
    "\n",
    "#Print the info of the dataframe to make sure no data is missing\n",
    "df_merge_three.info()"
   ]
  },
  {
   "cell_type": "code",
   "execution_count": 240,
   "metadata": {
    "collapsed": true
   },
   "outputs": [],
   "source": [
    "# Again, in the merged file there are 3122 entries which is 9 less than 3131 entires of df_merge_education_poverty. \n",
    "# The overall number of the eliminated counties through proccessing the three tables are 32 counties (12 in education dataframe,\n",
    "# 11 in unemployment dataframe, and 9 in poverty dataframe). It means around 1% of the entire counties (32/(3122+32)~0.01).\n",
    "# This 1% data loss will not significantly impact the results of this project"
   ]
  },
  {
   "cell_type": "code",
   "execution_count": 241,
   "metadata": {},
   "outputs": [
    {
     "data": {
      "text/html": [
       "<div>\n",
       "<table border=\"1\" class=\"dataframe\">\n",
       "  <thead>\n",
       "    <tr style=\"text-align: right;\">\n",
       "      <th></th>\n",
       "      <th>State</th>\n",
       "      <th>State Code</th>\n",
       "      <th>Region</th>\n",
       "      <th>Division</th>\n",
       "    </tr>\n",
       "  </thead>\n",
       "  <tbody>\n",
       "    <tr>\n",
       "      <th>0</th>\n",
       "      <td>Alaska</td>\n",
       "      <td>AK</td>\n",
       "      <td>West</td>\n",
       "      <td>Pacific</td>\n",
       "    </tr>\n",
       "    <tr>\n",
       "      <th>1</th>\n",
       "      <td>Alabama</td>\n",
       "      <td>AL</td>\n",
       "      <td>South</td>\n",
       "      <td>East South Central</td>\n",
       "    </tr>\n",
       "    <tr>\n",
       "      <th>2</th>\n",
       "      <td>Arkansas</td>\n",
       "      <td>AR</td>\n",
       "      <td>South</td>\n",
       "      <td>West South Central</td>\n",
       "    </tr>\n",
       "    <tr>\n",
       "      <th>3</th>\n",
       "      <td>Arizona</td>\n",
       "      <td>AZ</td>\n",
       "      <td>West</td>\n",
       "      <td>Mountain</td>\n",
       "    </tr>\n",
       "    <tr>\n",
       "      <th>4</th>\n",
       "      <td>California</td>\n",
       "      <td>CA</td>\n",
       "      <td>West</td>\n",
       "      <td>Pacific</td>\n",
       "    </tr>\n",
       "  </tbody>\n",
       "</table>\n",
       "</div>"
      ],
      "text/plain": [
       "        State State Code Region            Division\n",
       "0      Alaska         AK   West             Pacific\n",
       "1     Alabama         AL  South  East South Central\n",
       "2    Arkansas         AR  South  West South Central\n",
       "3     Arizona         AZ   West            Mountain\n",
       "4  California         CA   West             Pacific"
      ]
     },
     "execution_count": 241,
     "metadata": {},
     "output_type": "execute_result"
    }
   ],
   "source": [
    "# read the states and regions sheet\n",
    "file_name=r'All excel sheets\\us census bureau regions and divisions.csv'\n",
    "df_regions=pd.read_csv(file_name)\n",
    "\n",
    "#Print the first five rows\n",
    "df_regions.head()"
   ]
  },
  {
   "cell_type": "code",
   "execution_count": 245,
   "metadata": {},
   "outputs": [
    {
     "data": {
      "text/html": [
       "<div>\n",
       "<table border=\"1\" class=\"dataframe\">\n",
       "  <thead>\n",
       "    <tr style=\"text-align: right;\">\n",
       "      <th></th>\n",
       "      <th>state</th>\n",
       "      <th>county</th>\n",
       "      <th>region</th>\n",
       "      <th>RUCC</th>\n",
       "      <th>less_than_high_school</th>\n",
       "      <th>high_school_diploma</th>\n",
       "      <th>college/associate_degree</th>\n",
       "      <th>bachelors/higher</th>\n",
       "      <th>poverty</th>\n",
       "      <th>unemployment</th>\n",
       "    </tr>\n",
       "  </thead>\n",
       "  <tbody>\n",
       "    <tr>\n",
       "      <th>0</th>\n",
       "      <td>AL</td>\n",
       "      <td>Autauga County</td>\n",
       "      <td>South</td>\n",
       "      <td>2</td>\n",
       "      <td>12.417</td>\n",
       "      <td>34.331</td>\n",
       "      <td>28.660</td>\n",
       "      <td>24.593</td>\n",
       "      <td>14</td>\n",
       "      <td>5.3</td>\n",
       "    </tr>\n",
       "    <tr>\n",
       "      <th>1</th>\n",
       "      <td>AL</td>\n",
       "      <td>Baldwin County</td>\n",
       "      <td>South</td>\n",
       "      <td>3</td>\n",
       "      <td>9.972</td>\n",
       "      <td>28.692</td>\n",
       "      <td>31.788</td>\n",
       "      <td>29.547</td>\n",
       "      <td>12</td>\n",
       "      <td>5.4</td>\n",
       "    </tr>\n",
       "    <tr>\n",
       "      <th>2</th>\n",
       "      <td>AL</td>\n",
       "      <td>Barbour County</td>\n",
       "      <td>South</td>\n",
       "      <td>6</td>\n",
       "      <td>26.236</td>\n",
       "      <td>34.927</td>\n",
       "      <td>25.969</td>\n",
       "      <td>12.868</td>\n",
       "      <td>30</td>\n",
       "      <td>8.6</td>\n",
       "    </tr>\n",
       "    <tr>\n",
       "      <th>3</th>\n",
       "      <td>AL</td>\n",
       "      <td>Bibb County</td>\n",
       "      <td>South</td>\n",
       "      <td>1</td>\n",
       "      <td>19.302</td>\n",
       "      <td>41.816</td>\n",
       "      <td>26.883</td>\n",
       "      <td>12.000</td>\n",
       "      <td>20</td>\n",
       "      <td>6.6</td>\n",
       "    </tr>\n",
       "    <tr>\n",
       "      <th>4</th>\n",
       "      <td>AL</td>\n",
       "      <td>Blount County</td>\n",
       "      <td>South</td>\n",
       "      <td>1</td>\n",
       "      <td>19.969</td>\n",
       "      <td>32.942</td>\n",
       "      <td>34.039</td>\n",
       "      <td>13.050</td>\n",
       "      <td>14</td>\n",
       "      <td>5.5</td>\n",
       "    </tr>\n",
       "  </tbody>\n",
       "</table>\n",
       "</div>"
      ],
      "text/plain": [
       "  state          county region  RUCC  less_than_high_school  \\\n",
       "0    AL  Autauga County  South     2                 12.417   \n",
       "1    AL  Baldwin County  South     3                  9.972   \n",
       "2    AL  Barbour County  South     6                 26.236   \n",
       "3    AL     Bibb County  South     1                 19.302   \n",
       "4    AL   Blount County  South     1                 19.969   \n",
       "\n",
       "   high_school_diploma  college/associate_degree  bachelors/higher  poverty  \\\n",
       "0               34.331                    28.660            24.593       14   \n",
       "1               28.692                    31.788            29.547       12   \n",
       "2               34.927                    25.969            12.868       30   \n",
       "3               41.816                    26.883            12.000       20   \n",
       "4               32.942                    34.039            13.050       14   \n",
       "\n",
       "   unemployment  \n",
       "0           5.3  \n",
       "1           5.4  \n",
       "2           8.6  \n",
       "3           6.6  \n",
       "4           5.5  "
      ]
     },
     "execution_count": 245,
     "metadata": {},
     "output_type": "execute_result"
    }
   ],
   "source": [
    "# Rename the State Code column to state\n",
    "df_regions.rename(columns={'State Code':'state','Region':'region'},inplace=True)\n",
    "\n",
    "# Add Region column to df_merge_three\n",
    "df_merge_all = df_merge_three.merge(df_regions.loc[:,['state','region']])\n",
    "\n",
    "# Rearrange the columns so the Region column is located after the county name\n",
    "cols = df_merge_all.columns.tolist()\n",
    "cols=cols[0:2]+cols[-1:]+cols[2:9]\n",
    "df_merge_all = df_merge_all[cols]\n",
    "\n",
    "# Print the firsr five rows\n",
    "df_merge_all.head()"
   ]
  },
  {
   "cell_type": "code",
   "execution_count": 246,
   "metadata": {
    "collapsed": true
   },
   "outputs": [],
   "source": [
    "# Save the wrangled data to a csv file\n",
    "df_merge_all.to_csv('wrangled_data.csv',index=False)"
   ]
  },
  {
   "cell_type": "code",
   "execution_count": null,
   "metadata": {
    "collapsed": true
   },
   "outputs": [],
   "source": []
  }
 ],
 "metadata": {
  "kernelspec": {
   "display_name": "Python 3",
   "language": "python",
   "name": "python3"
  },
  "language_info": {
   "codemirror_mode": {
    "name": "ipython",
    "version": 3
   },
   "file_extension": ".py",
   "mimetype": "text/x-python",
   "name": "python",
   "nbconvert_exporter": "python",
   "pygments_lexer": "ipython3",
   "version": "3.4.5"
  }
 },
 "nbformat": 4,
 "nbformat_minor": 2
}
