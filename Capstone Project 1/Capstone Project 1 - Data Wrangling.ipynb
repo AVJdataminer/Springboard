{
 "cells": [
  {
   "cell_type": "code",
   "execution_count": 1,
   "metadata": {
    "collapsed": false
   },
   "outputs": [
    {
     "name": "stdout",
     "output_type": "stream",
     "text": [
      "['Education 1970 to 2016']\n"
     ]
    }
   ],
   "source": [
    "#Education.xls file is the first data set\n",
    "import pandas as pd\n",
    "file_name='All excel sheets\\Education.xls'\n",
    "xl = pd.ExcelFile(file_name)\n",
    "print(xl.sheet_names)"
   ]
  },
  {
   "cell_type": "code",
   "execution_count": 3,
   "metadata": {
    "collapsed": false,
    "scrolled": true
   },
   "outputs": [
    {
     "name": "stdout",
     "output_type": "stream",
     "text": [
      "<class 'pandas.core.frame.DataFrame'>\n",
      "Int64Index: 3283 entries, 0 to 3282\n",
      "Data columns (total 7 columns):\n",
      "State                                                                         3283 non-null object\n",
      "Area name                                                                     3283 non-null object\n",
      "2013 Rural-urban Continuum Code                                               3221 non-null float64\n",
      "Percent of adults with less than a high school diploma, 2012-2016             3273 non-null float64\n",
      "Percent of adults with a high school diploma only, 2012-2016                  3273 non-null float64\n",
      "Percent of adults completing some college or associate's degree, 2012-2016    3273 non-null float64\n",
      "Percent of adults with a bachelor's degree or higher, 2012-2016               3273 non-null float64\n",
      "dtypes: float64(5), object(2)\n",
      "memory usage: 205.2+ KB\n"
     ]
    }
   ],
   "source": [
    "# The first three lines are comments\n",
    "df= xl.parse(0,header=4)\n",
    "#Columns 1, 2, and 5 are state, area name(US, State, County), and the rural-urban continuum codes, respectively\n",
    "df1=df.iloc[:,[1,2,5]]\n",
    "# The last four columns are the percentages of adults with less than high school diploma, high school diploma, some college\n",
    "# or associate's degree, and Bachelor's or higher degrees\n",
    "df2=df.iloc[:,-4:]\n",
    "\n",
    "df_concat=pd.concat([df1,df2],axis='columns')\n",
    "df_concat.info()"
   ]
  },
  {
   "cell_type": "code",
   "execution_count": 3,
   "metadata": {
    "collapsed": false
   },
   "outputs": [
    {
     "data": {
      "text/html": [
       "<div>\n",
       "<table border=\"1\" class=\"dataframe\">\n",
       "  <thead>\n",
       "    <tr style=\"text-align: right;\">\n",
       "      <th></th>\n",
       "      <th>State</th>\n",
       "      <th>Area name</th>\n",
       "    </tr>\n",
       "  </thead>\n",
       "  <tbody>\n",
       "    <tr>\n",
       "      <th>0</th>\n",
       "      <td>US</td>\n",
       "      <td>United States</td>\n",
       "    </tr>\n",
       "    <tr>\n",
       "      <th>1</th>\n",
       "      <td>AL</td>\n",
       "      <td>Alabama</td>\n",
       "    </tr>\n",
       "    <tr>\n",
       "      <th>69</th>\n",
       "      <td>AK</td>\n",
       "      <td>Alaska</td>\n",
       "    </tr>\n",
       "    <tr>\n",
       "      <th>70</th>\n",
       "      <td>AK</td>\n",
       "      <td>Aleutian Islands</td>\n",
       "    </tr>\n",
       "    <tr>\n",
       "      <th>86</th>\n",
       "      <td>AK</td>\n",
       "      <td>Kuskokwim Division</td>\n",
       "    </tr>\n",
       "    <tr>\n",
       "      <th>94</th>\n",
       "      <td>AK</td>\n",
       "      <td>Prince of Wales-Outer Ketchikan Census Area</td>\n",
       "    </tr>\n",
       "    <tr>\n",
       "      <th>97</th>\n",
       "      <td>AK</td>\n",
       "      <td>Skagway-Yakutat-Angoon Census Area</td>\n",
       "    </tr>\n",
       "    <tr>\n",
       "      <th>98</th>\n",
       "      <td>AK</td>\n",
       "      <td>Skagway-Hoonah-Angoon Census Area</td>\n",
       "    </tr>\n",
       "    <tr>\n",
       "      <th>100</th>\n",
       "      <td>AK</td>\n",
       "      <td>Upper Yukon Division</td>\n",
       "    </tr>\n",
       "    <tr>\n",
       "      <th>103</th>\n",
       "      <td>AK</td>\n",
       "      <td>Wrangell-Petersburg Census Area</td>\n",
       "    </tr>\n",
       "    <tr>\n",
       "      <th>106</th>\n",
       "      <td>AZ</td>\n",
       "      <td>Arizona</td>\n",
       "    </tr>\n",
       "    <tr>\n",
       "      <th>122</th>\n",
       "      <td>AR</td>\n",
       "      <td>Arkansas</td>\n",
       "    </tr>\n",
       "    <tr>\n",
       "      <th>198</th>\n",
       "      <td>CA</td>\n",
       "      <td>California</td>\n",
       "    </tr>\n",
       "    <tr>\n",
       "      <th>257</th>\n",
       "      <td>CO</td>\n",
       "      <td>Colorado</td>\n",
       "    </tr>\n",
       "    <tr>\n",
       "      <th>322</th>\n",
       "      <td>CT</td>\n",
       "      <td>Connecticut</td>\n",
       "    </tr>\n",
       "    <tr>\n",
       "      <th>331</th>\n",
       "      <td>DE</td>\n",
       "      <td>Delaware</td>\n",
       "    </tr>\n",
       "    <tr>\n",
       "      <th>335</th>\n",
       "      <td>DC</td>\n",
       "      <td>District of Columbia</td>\n",
       "    </tr>\n",
       "    <tr>\n",
       "      <th>337</th>\n",
       "      <td>FL</td>\n",
       "      <td>Florida</td>\n",
       "    </tr>\n",
       "    <tr>\n",
       "      <th>405</th>\n",
       "      <td>GA</td>\n",
       "      <td>Georgia</td>\n",
       "    </tr>\n",
       "    <tr>\n",
       "      <th>565</th>\n",
       "      <td>HI</td>\n",
       "      <td>Hawaii</td>\n",
       "    </tr>\n",
       "    <tr>\n",
       "      <th>571</th>\n",
       "      <td>ID</td>\n",
       "      <td>Idaho</td>\n",
       "    </tr>\n",
       "    <tr>\n",
       "      <th>616</th>\n",
       "      <td>IL</td>\n",
       "      <td>Illinois</td>\n",
       "    </tr>\n",
       "    <tr>\n",
       "      <th>719</th>\n",
       "      <td>IN</td>\n",
       "      <td>Indiana</td>\n",
       "    </tr>\n",
       "    <tr>\n",
       "      <th>812</th>\n",
       "      <td>IA</td>\n",
       "      <td>Iowa</td>\n",
       "    </tr>\n",
       "    <tr>\n",
       "      <th>912</th>\n",
       "      <td>KS</td>\n",
       "      <td>Kansas</td>\n",
       "    </tr>\n",
       "    <tr>\n",
       "      <th>1018</th>\n",
       "      <td>KY</td>\n",
       "      <td>Kentucky</td>\n",
       "    </tr>\n",
       "    <tr>\n",
       "      <th>1139</th>\n",
       "      <td>LA</td>\n",
       "      <td>Lousiana</td>\n",
       "    </tr>\n",
       "    <tr>\n",
       "      <th>1204</th>\n",
       "      <td>ME</td>\n",
       "      <td>Maine</td>\n",
       "    </tr>\n",
       "    <tr>\n",
       "      <th>1221</th>\n",
       "      <td>MD</td>\n",
       "      <td>Maryland</td>\n",
       "    </tr>\n",
       "    <tr>\n",
       "      <th>1246</th>\n",
       "      <td>MA</td>\n",
       "      <td>Massachusetts</td>\n",
       "    </tr>\n",
       "    <tr>\n",
       "      <th>...</th>\n",
       "      <td>...</td>\n",
       "      <td>...</td>\n",
       "    </tr>\n",
       "    <tr>\n",
       "      <th>1516</th>\n",
       "      <td>MO</td>\n",
       "      <td>Missouri</td>\n",
       "    </tr>\n",
       "    <tr>\n",
       "      <th>1632</th>\n",
       "      <td>MT</td>\n",
       "      <td>Montana</td>\n",
       "    </tr>\n",
       "    <tr>\n",
       "      <th>1689</th>\n",
       "      <td>MT</td>\n",
       "      <td>Yellowstone National Park</td>\n",
       "    </tr>\n",
       "    <tr>\n",
       "      <th>1690</th>\n",
       "      <td>NE</td>\n",
       "      <td>Nebraska</td>\n",
       "    </tr>\n",
       "    <tr>\n",
       "      <th>1784</th>\n",
       "      <td>NV</td>\n",
       "      <td>Nevada</td>\n",
       "    </tr>\n",
       "    <tr>\n",
       "      <th>1802</th>\n",
       "      <td>NH</td>\n",
       "      <td>New Hampshire</td>\n",
       "    </tr>\n",
       "    <tr>\n",
       "      <th>1813</th>\n",
       "      <td>NJ</td>\n",
       "      <td>New Jersey</td>\n",
       "    </tr>\n",
       "    <tr>\n",
       "      <th>1835</th>\n",
       "      <td>NM</td>\n",
       "      <td>New Mexico</td>\n",
       "    </tr>\n",
       "    <tr>\n",
       "      <th>1869</th>\n",
       "      <td>NY</td>\n",
       "      <td>New York</td>\n",
       "    </tr>\n",
       "    <tr>\n",
       "      <th>1932</th>\n",
       "      <td>NC</td>\n",
       "      <td>North Carolina</td>\n",
       "    </tr>\n",
       "    <tr>\n",
       "      <th>2033</th>\n",
       "      <td>ND</td>\n",
       "      <td>North Dakota</td>\n",
       "    </tr>\n",
       "    <tr>\n",
       "      <th>2087</th>\n",
       "      <td>OH</td>\n",
       "      <td>Ohio</td>\n",
       "    </tr>\n",
       "    <tr>\n",
       "      <th>2176</th>\n",
       "      <td>OK</td>\n",
       "      <td>Oklahoma</td>\n",
       "    </tr>\n",
       "    <tr>\n",
       "      <th>2254</th>\n",
       "      <td>OR</td>\n",
       "      <td>Oregon</td>\n",
       "    </tr>\n",
       "    <tr>\n",
       "      <th>2291</th>\n",
       "      <td>PA</td>\n",
       "      <td>Pennsylvania</td>\n",
       "    </tr>\n",
       "    <tr>\n",
       "      <th>2359</th>\n",
       "      <td>RI</td>\n",
       "      <td>Rhode Island</td>\n",
       "    </tr>\n",
       "    <tr>\n",
       "      <th>2365</th>\n",
       "      <td>SC</td>\n",
       "      <td>South Carolina</td>\n",
       "    </tr>\n",
       "    <tr>\n",
       "      <th>2412</th>\n",
       "      <td>SD</td>\n",
       "      <td>South Dakota</td>\n",
       "    </tr>\n",
       "    <tr>\n",
       "      <th>2479</th>\n",
       "      <td>TN</td>\n",
       "      <td>Tennessee</td>\n",
       "    </tr>\n",
       "    <tr>\n",
       "      <th>2575</th>\n",
       "      <td>TX</td>\n",
       "      <td>Texas</td>\n",
       "    </tr>\n",
       "    <tr>\n",
       "      <th>2830</th>\n",
       "      <td>UT</td>\n",
       "      <td>Utah</td>\n",
       "    </tr>\n",
       "    <tr>\n",
       "      <th>2860</th>\n",
       "      <td>VT</td>\n",
       "      <td>Vermont</td>\n",
       "    </tr>\n",
       "    <tr>\n",
       "      <th>2875</th>\n",
       "      <td>VA</td>\n",
       "      <td>Virginia</td>\n",
       "    </tr>\n",
       "    <tr>\n",
       "      <th>2972</th>\n",
       "      <td>VA</td>\n",
       "      <td>Bedford city</td>\n",
       "    </tr>\n",
       "    <tr>\n",
       "      <th>2977</th>\n",
       "      <td>VA</td>\n",
       "      <td>Clifton Forge city</td>\n",
       "    </tr>\n",
       "    <tr>\n",
       "      <th>3011</th>\n",
       "      <td>WA</td>\n",
       "      <td>Washington</td>\n",
       "    </tr>\n",
       "    <tr>\n",
       "      <th>3051</th>\n",
       "      <td>WV</td>\n",
       "      <td>West Virginia</td>\n",
       "    </tr>\n",
       "    <tr>\n",
       "      <th>3107</th>\n",
       "      <td>WI</td>\n",
       "      <td>Wisconsin</td>\n",
       "    </tr>\n",
       "    <tr>\n",
       "      <th>3180</th>\n",
       "      <td>WY</td>\n",
       "      <td>Wyoming</td>\n",
       "    </tr>\n",
       "    <tr>\n",
       "      <th>3204</th>\n",
       "      <td>PR</td>\n",
       "      <td>Puerto Rico</td>\n",
       "    </tr>\n",
       "  </tbody>\n",
       "</table>\n",
       "<p>63 rows × 2 columns</p>\n",
       "</div>"
      ],
      "text/plain": [
       "     State                                    Area name\n",
       "0       US                                United States\n",
       "1       AL                                      Alabama\n",
       "69      AK                                       Alaska\n",
       "70      AK                             Aleutian Islands\n",
       "86      AK                           Kuskokwim Division\n",
       "94      AK  Prince of Wales-Outer Ketchikan Census Area\n",
       "97      AK           Skagway-Yakutat-Angoon Census Area\n",
       "98      AK            Skagway-Hoonah-Angoon Census Area\n",
       "100     AK                         Upper Yukon Division\n",
       "103     AK              Wrangell-Petersburg Census Area\n",
       "106     AZ                                      Arizona\n",
       "122     AR                                     Arkansas\n",
       "198     CA                                   California\n",
       "257     CO                                     Colorado\n",
       "322     CT                                  Connecticut\n",
       "331     DE                                     Delaware\n",
       "335     DC                         District of Columbia\n",
       "337     FL                                      Florida\n",
       "405     GA                                      Georgia\n",
       "565     HI                                       Hawaii\n",
       "571     ID                                        Idaho\n",
       "616     IL                                     Illinois\n",
       "719     IN                                      Indiana\n",
       "812     IA                                         Iowa\n",
       "912     KS                                       Kansas\n",
       "1018    KY                                     Kentucky\n",
       "1139    LA                                     Lousiana\n",
       "1204    ME                                        Maine\n",
       "1221    MD                                     Maryland\n",
       "1246    MA                                Massachusetts\n",
       "...    ...                                          ...\n",
       "1516    MO                                     Missouri\n",
       "1632    MT                                      Montana\n",
       "1689    MT                    Yellowstone National Park\n",
       "1690    NE                                     Nebraska\n",
       "1784    NV                                       Nevada\n",
       "1802    NH                                New Hampshire\n",
       "1813    NJ                                   New Jersey\n",
       "1835    NM                                   New Mexico\n",
       "1869    NY                                     New York\n",
       "1932    NC                               North Carolina\n",
       "2033    ND                                 North Dakota\n",
       "2087    OH                                         Ohio\n",
       "2176    OK                                     Oklahoma\n",
       "2254    OR                                       Oregon\n",
       "2291    PA                                 Pennsylvania\n",
       "2359    RI                                 Rhode Island\n",
       "2365    SC                               South Carolina\n",
       "2412    SD                                 South Dakota\n",
       "2479    TN                                    Tennessee\n",
       "2575    TX                                        Texas\n",
       "2830    UT                                         Utah\n",
       "2860    VT                                      Vermont\n",
       "2875    VA                                     Virginia\n",
       "2972    VA                                 Bedford city\n",
       "2977    VA                           Clifton Forge city\n",
       "3011    WA                                   Washington\n",
       "3051    WV                                West Virginia\n",
       "3107    WI                                    Wisconsin\n",
       "3180    WY                                      Wyoming\n",
       "3204    PR                                  Puerto Rico\n",
       "\n",
       "[63 rows x 2 columns]"
      ]
     },
     "execution_count": 3,
     "metadata": {},
     "output_type": "execute_result"
    }
   ],
   "source": [
    "# The info above shows only \"2013 Rural-urban Continuum Code\" has null objects. I check on the rows with null values\n",
    "df_concat.loc[df_concat.isnull().any(axis=1),['State','Area name']]"
   ]
  },
  {
   "cell_type": "code",
   "execution_count": 4,
   "metadata": {
    "collapsed": false
   },
   "outputs": [
    {
     "name": "stdout",
     "output_type": "stream",
     "text": [
      "<class 'pandas.core.frame.DataFrame'>\n",
      "Int64Index: 3220 entries, 2 to 3282\n",
      "Data columns (total 7 columns):\n",
      "state                                           3220 non-null object\n",
      "county                                          3220 non-null object\n",
      "rural_urban_continuum_code                      3220 non-null float64\n",
      "less_than_high_school_percentage_adults_only    3220 non-null float64\n",
      "high_school_diploma_percentage_adults_only      3220 non-null float64\n",
      "some_college_or_associate_degree_percentage     3220 non-null float64\n",
      "bachelors_or_higher_percentage                  3220 non-null float64\n",
      "dtypes: float64(5), object(2)\n",
      "memory usage: 201.2+ KB\n"
     ]
    }
   ],
   "source": [
    "# As it can be seen, missing data is from either US and States, or some counties from Alaska and Puerto Rico. I was going to\n",
    "# remove data from US and States anyway since they are useless for my project. In addition, eliminating around 10 counties from \n",
    "# more than 3200 counties means loosing around %0.3 of data set which seems fine to me\n",
    "df_education=df_concat.dropna()\n",
    "# Columns are renamed for convention\n",
    "df_education=df_education.rename(columns={'State':'state','Area name':'county','2013 Rural-urban Continuum Code':'rural_urban_continuum_code',\n",
    "                             'Percent of adults with less than a high school diploma, 2012-2016':'less_than_high_school_percentage_adults_only',\n",
    "                            'Percent of adults with a high school diploma only, 2012-2016':'high_school_diploma_percentage_adults_only',\n",
    "                            'Percent of adults completing some college or associate\\'s degree, 2012-2016':'some_college_or_associate_degree_percentage',\n",
    "                            'Percent of adults with a bachelor\\'s degree or higher, 2012-2016':'bachelors_or_higher_percentage'})\n",
    "\n",
    "df_education.info()"
   ]
  },
  {
   "cell_type": "code",
   "execution_count": 5,
   "metadata": {
    "collapsed": false,
    "scrolled": true
   },
   "outputs": [
    {
     "name": "stdout",
     "output_type": "stream",
     "text": [
      "Rural-urban Continuum Codes\n",
      "[2. 3. 6. 1. 9. 7. 8. 4. 5.]\n",
      "\n",
      "Rows with Total Percentage Not Close to 100\n",
      "Series([], dtype: float64)\n",
      "\n",
      "Top Five Counties with Most Counts\n",
      "TX-Sterling County     1\n",
      "MI-Menominee County    1\n",
      "CO-Mesa County         1\n",
      "OH-Williams County     1\n",
      "CO-Montezuma County    1\n",
      "dtype: int64\n"
     ]
    }
   ],
   "source": [
    "# check if there is any rural-urban continuum code except integers from 1-9\n",
    "print('Rural-urban Continuum Codes')\n",
    "print(df_education.rural_urban_continuum_code.unique())\n",
    "# check if the sum of the percentages is not close to 100 for any row\n",
    "total=df_education.iloc[:,-4:].sum(axis=1)\n",
    "print('\\nRows with Total Percentage Not Close to 100')\n",
    "print(total[(total<99.5) | (total>100.5)])\n",
    "# check if there is more than one row for each county\n",
    "state_county=df_education.state+'-'+df_education.county\n",
    "print('\\nTop Five Counties with Most Counts')\n",
    "print(state_county.value_counts().head())\n",
    "# If the top ones have only one count, it means there is no duplicate row for any county"
   ]
  },
  {
   "cell_type": "code",
   "execution_count": 6,
   "metadata": {
    "collapsed": false
   },
   "outputs": [
    {
     "name": "stdout",
     "output_type": "stream",
     "text": [
      "['Poverty Data 2016', 'Variable Descriptions']\n"
     ]
    }
   ],
   "source": [
    "# read the poverty file\n",
    "file_name='All excel sheets\\PovertyEstimates.xls'\n",
    "xl = pd.ExcelFile(file_name)\n",
    "print(xl.sheet_names)"
   ]
  },
  {
   "cell_type": "code",
   "execution_count": 7,
   "metadata": {
    "collapsed": false
   },
   "outputs": [
    {
     "name": "stdout",
     "output_type": "stream",
     "text": [
      "<class 'pandas.core.frame.DataFrame'>\n",
      "Int64Index: 3194 entries, 0 to 3193\n",
      "Data columns (total 3 columns):\n",
      "state                 3194 non-null object\n",
      "county                3194 non-null object\n",
      "poverty_percentage    3193 non-null float64\n",
      "dtypes: float64(1), object(2)\n",
      "memory usage: 99.8+ KB\n"
     ]
    }
   ],
   "source": [
    "# read the first sheet, collect three columns and rename them\n",
    "df_poverty=xl.parse(0,header=2)\n",
    "df_poverty=df_poverty.loc[:,['State','Area_Name','PCTPOVALL_2016']].rename(columns={'State':'state','Area_Name':'county',\n",
    "                                                                                    'PCTPOVALL_2016':'poverty_percentage'})\n",
    "df_poverty.info()"
   ]
  },
  {
   "cell_type": "code",
   "execution_count": 8,
   "metadata": {
    "collapsed": false
   },
   "outputs": [
    {
     "name": "stdout",
     "output_type": "stream",
     "text": [
      "Rows with Percentage more than 100\n",
      "Empty DataFrame\n",
      "Columns: [state, county, poverty_percentage]\n",
      "Index: []\n",
      "\n",
      "Top Five Counties with Most Counts\n",
      "DC-District of Columbia    2\n",
      "TX-Sterling County         1\n",
      "CO-Montezuma County        1\n",
      "TN-Washington County       1\n",
      "DE-Delaware                1\n",
      "dtype: int64\n",
      "<class 'pandas.core.series.Series'>\n"
     ]
    }
   ],
   "source": [
    "# There is only one null cell, so we could just remove it\n",
    "df_poverty.dropna(inplace=True)\n",
    "# check if there is any percentage above 100\n",
    "print('Rows with Percentage more than 100')\n",
    "print(df_poverty[df_poverty.poverty_percentage>100])\n",
    "# check if there are duplicate rows for any county\n",
    "state_county=df_poverty.state+'-'+df_poverty.county\n",
    "print('\\nTop Five Counties with Most Counts')\n",
    "print(state_county.value_counts().head())\n",
    "print(type(state_county))"
   ]
  },
  {
   "cell_type": "code",
   "execution_count": 9,
   "metadata": {
    "collapsed": false
   },
   "outputs": [
    {
     "name": "stdout",
     "output_type": "stream",
     "text": [
      "Duplicate Rows\n",
      "    state                county  poverty_percentage\n",
      "328    DC  District of Columbia                19.0\n",
      "329    DC  District of Columbia                19.0\n"
     ]
    }
   ],
   "source": [
    "# It shows there are two rows for District of Columbia\n",
    "print('Duplicate Rows')\n",
    "print(df_poverty[df_poverty.county=='District of Columbia'])\n",
    "# drop the duplicate\n",
    "df_poverty.drop_duplicates(inplace=True)"
   ]
  },
  {
   "cell_type": "code",
   "execution_count": 10,
   "metadata": {
    "collapsed": false
   },
   "outputs": [
    {
     "name": "stdout",
     "output_type": "stream",
     "text": [
      "<class 'pandas.core.frame.DataFrame'>\n",
      "Int64Index: 3131 entries, 0 to 3130\n",
      "Data columns (total 8 columns):\n",
      "state                                           3131 non-null object\n",
      "county                                          3131 non-null object\n",
      "rural_urban_continuum_code                      3131 non-null float64\n",
      "less_than_high_school_percentage_adults_only    3131 non-null float64\n",
      "high_school_diploma_percentage_adults_only      3131 non-null float64\n",
      "some_college_or_associate_degree_percentage     3131 non-null float64\n",
      "bachelors_or_higher_percentage                  3131 non-null float64\n",
      "poverty_percentage                              3131 non-null float64\n",
      "dtypes: float64(6), object(2)\n",
      "memory usage: 220.1+ KB\n"
     ]
    }
   ],
   "source": [
    "# Merge education and poverty dataframes\n",
    "df_merge_education_poverty=df_education.merge(df_poverty,on=['state','county'])\n",
    "df_merge_education_poverty.info()"
   ]
  },
  {
   "cell_type": "code",
   "execution_count": 11,
   "metadata": {
    "collapsed": false
   },
   "outputs": [
    {
     "name": "stdout",
     "output_type": "stream",
     "text": [
      "['Population Estimates 2010-2016', 'Variable Descriptions']\n"
     ]
    }
   ],
   "source": [
    "#read the population file\n",
    "file_name='All excel sheets\\PopulationEstimates.xls'\n",
    "xl=pd.ExcelFile(file_name)\n",
    "print(xl.sheet_names)"
   ]
  },
  {
   "cell_type": "code",
   "execution_count": 12,
   "metadata": {
    "collapsed": false
   },
   "outputs": [
    {
     "name": "stdout",
     "output_type": "stream",
     "text": [
      "<class 'pandas.core.frame.DataFrame'>\n",
      "RangeIndex: 3273 entries, 0 to 3272\n",
      "Data columns (total 3 columns):\n",
      "state                  3273 non-null object\n",
      "county                 3273 non-null object\n",
      "population_estimate    3273 non-null int64\n",
      "dtypes: int64(1), object(2)\n",
      "memory usage: 76.8+ KB\n",
      "None\n"
     ]
    }
   ],
   "source": [
    "# read the first sheet, collect three columns and rename them\n",
    "df_population=xl.parse(0)\n",
    "df_population=df_population[['State','Area_Name','POP_ESTIMATE_2016']].rename(columns={'State':'state','Area_Name':'county',\n",
    "                                                                                       'POP_ESTIMATE_2016'\n",
    "                                                                                      :'population_estimate'})\n",
    "print(df_population.info())"
   ]
  },
  {
   "cell_type": "code",
   "execution_count": 13,
   "metadata": {
    "collapsed": false,
    "scrolled": true
   },
   "outputs": [
    {
     "name": "stdout",
     "output_type": "stream",
     "text": [
      "\n",
      "Top Five Counties with Most Counts\n",
      "DC-District of Columbia    2\n",
      "AR-Ouachita County         1\n",
      "PA-Wyoming County          1\n",
      "VA-Carroll County          1\n",
      "FL-Florida                 1\n",
      "dtype: int64\n"
     ]
    }
   ],
   "source": [
    "# There is no null value in the population table. \n",
    "# check if there is any duplicate\n",
    "state_county=df_population.state+'-'+df_population.county\n",
    "print('\\nTop Five Counties with Most Counts')\n",
    "print(state_county.value_counts().head())"
   ]
  },
  {
   "cell_type": "code",
   "execution_count": 14,
   "metadata": {
    "collapsed": false
   },
   "outputs": [
    {
     "name": "stdout",
     "output_type": "stream",
     "text": [
      "Duplicate Rows\n",
      "    state                county  population_estimate\n",
      "328    DC  District of Columbia               681170\n",
      "329    DC  District of Columbia               681170\n"
     ]
    }
   ],
   "source": [
    "# Again it shows there are two rows for District of Columbia\n",
    "print('Duplicate Rows')\n",
    "print(df_population[df_population.county=='District of Columbia'])\n",
    "# drop the duplicate\n",
    "df_population.drop_duplicates(inplace=True)"
   ]
  },
  {
   "cell_type": "code",
   "execution_count": 15,
   "metadata": {
    "collapsed": false
   },
   "outputs": [
    {
     "name": "stdout",
     "output_type": "stream",
     "text": [
      "<class 'pandas.core.frame.DataFrame'>\n",
      "Int64Index: 3128 entries, 0 to 3127\n",
      "Data columns (total 9 columns):\n",
      "state                                           3128 non-null object\n",
      "county                                          3128 non-null object\n",
      "rural_urban_continuum_code                      3128 non-null float64\n",
      "less_than_high_school_percentage_adults_only    3128 non-null float64\n",
      "high_school_diploma_percentage_adults_only      3128 non-null float64\n",
      "some_college_or_associate_degree_percentage     3128 non-null float64\n",
      "bachelors_or_higher_percentage                  3128 non-null float64\n",
      "poverty_percentage                              3128 non-null float64\n",
      "population_estimate                             3128 non-null int64\n",
      "dtypes: float64(6), int64(1), object(2)\n",
      "memory usage: 244.4+ KB\n"
     ]
    }
   ],
   "source": [
    "#Merge all tables together\n",
    "df_merge_education_poverty_population=df_merge_education_poverty.merge(df_population,on=['state','county'])\n",
    "df_merge_education_poverty_population.info()"
   ]
  },
  {
   "cell_type": "code",
   "execution_count": 39,
   "metadata": {
    "collapsed": false
   },
   "outputs": [
    {
     "name": "stdout",
     "output_type": "stream",
     "text": [
      "['Unemployment Med HH Inc', 'Variable Descriptions']\n"
     ]
    }
   ],
   "source": [
    "# read the Unemployment sheet\n",
    "file_name=r'All excel sheets\\Unemployment.xls'\n",
    "xl=pd.ExcelFile(file_name)\n",
    "print(xl.sheet_names)"
   ]
  },
  {
   "cell_type": "code",
   "execution_count": 40,
   "metadata": {
    "collapsed": false
   },
   "outputs": [
    {
     "name": "stdout",
     "output_type": "stream",
     "text": [
      "<class 'pandas.core.frame.DataFrame'>\n",
      "RangeIndex: 3274 entries, 0 to 3273\n",
      "Data columns (total 3 columns):\n",
      "state                3274 non-null object\n",
      "county               3274 non-null object\n",
      "unemployment_rate    3271 non-null float64\n",
      "dtypes: float64(1), object(2)\n",
      "memory usage: 76.8+ KB\n",
      "None\n"
     ]
    },
    {
     "data": {
      "text/html": [
       "<div>\n",
       "<table border=\"1\" class=\"dataframe\">\n",
       "  <thead>\n",
       "    <tr style=\"text-align: right;\">\n",
       "      <th></th>\n",
       "      <th>state</th>\n",
       "      <th>county</th>\n",
       "      <th>unemployment_rate</th>\n",
       "    </tr>\n",
       "  </thead>\n",
       "  <tbody>\n",
       "    <tr>\n",
       "      <th>0</th>\n",
       "      <td>AL</td>\n",
       "      <td>Alabama</td>\n",
       "      <td>6.0</td>\n",
       "    </tr>\n",
       "    <tr>\n",
       "      <th>1</th>\n",
       "      <td>AL</td>\n",
       "      <td>Autauga County, AL</td>\n",
       "      <td>5.3</td>\n",
       "    </tr>\n",
       "    <tr>\n",
       "      <th>2</th>\n",
       "      <td>AL</td>\n",
       "      <td>Baldwin County, AL</td>\n",
       "      <td>5.4</td>\n",
       "    </tr>\n",
       "    <tr>\n",
       "      <th>3</th>\n",
       "      <td>AL</td>\n",
       "      <td>Barbour County, AL</td>\n",
       "      <td>8.6</td>\n",
       "    </tr>\n",
       "    <tr>\n",
       "      <th>4</th>\n",
       "      <td>AL</td>\n",
       "      <td>Bibb County, AL</td>\n",
       "      <td>6.6</td>\n",
       "    </tr>\n",
       "  </tbody>\n",
       "</table>\n",
       "</div>"
      ],
      "text/plain": [
       "  state              county  unemployment_rate\n",
       "0    AL             Alabama                6.0\n",
       "1    AL  Autauga County, AL                5.3\n",
       "2    AL  Baldwin County, AL                5.4\n",
       "3    AL  Barbour County, AL                8.6\n",
       "4    AL     Bibb County, AL                6.6"
      ]
     },
     "execution_count": 40,
     "metadata": {},
     "output_type": "execute_result"
    }
   ],
   "source": [
    "df_unemployment=xl.parse(0)\n",
    "df_unemployment=df_unemployment[['State','Area_name','Unemployment_rate_2016']].rename(columns={'State':'state','Area_name':'county',\n",
    "                                                                                       'Unemployment_rate_2016'\n",
    "                                                                                      :'unemployment_rate'})\n",
    "print(df_unemployment.info())\n",
    "df_unemployment.head()"
   ]
  },
  {
   "cell_type": "code",
   "execution_count": 41,
   "metadata": {
    "collapsed": false
   },
   "outputs": [
    {
     "name": "stdout",
     "output_type": "stream",
     "text": [
      "\n",
      "Top Five Counties with Most Counts\n",
      "DC-District of Colu     2\n",
      "NJ-Essex County         1\n",
      "OH-Morrow County        1\n",
      "NC-Warren County        1\n",
      "NY-Montgomery County    1\n",
      "dtype: int64\n"
     ]
    }
   ],
   "source": [
    "# There are two problems: there three null unemployment rates, and also the county names include the state name\n",
    "df_unemployment.dropna(inplace=True)\n",
    "#Remove the state name from county name\n",
    "df_unemployment.county=df_unemployment.county.map(lambda x: x[:len(x)-4])\n",
    "#Check if there is any duplicate\n",
    "state_county=df_unemployment.state+'-'+df_unemployment.county\n",
    "print('\\nTop Five Counties with Most Counts')\n",
    "print(state_county.value_counts().head())"
   ]
  },
  {
   "cell_type": "code",
   "execution_count": 42,
   "metadata": {
    "collapsed": true
   },
   "outputs": [],
   "source": [
    "#Remove the duplicate and rename the District of Columbia\n",
    "df_unemployment.drop_duplicates(inplace=True)\n",
    "df_unemployment.loc[df_unemployment['county']=='District of Colu','county']='District of Columbia'"
   ]
  },
  {
   "cell_type": "code",
   "execution_count": 47,
   "metadata": {
    "collapsed": false
   },
   "outputs": [
    {
     "name": "stdout",
     "output_type": "stream",
     "text": [
      "<class 'pandas.core.frame.DataFrame'>\n",
      "Int64Index: 3121 entries, 0 to 3120\n",
      "Data columns (total 10 columns):\n",
      "state                                           3121 non-null object\n",
      "county                                          3121 non-null object\n",
      "rural_urban_continuum_code                      3121 non-null float64\n",
      "less_than_high_school_percentage_adults_only    3121 non-null float64\n",
      "high_school_diploma_percentage_adults_only      3121 non-null float64\n",
      "some_college_or_associate_degree_percentage     3121 non-null float64\n",
      "bachelors_or_higher_percentage                  3121 non-null float64\n",
      "poverty_percentage                              3121 non-null float64\n",
      "population_estimate                             3121 non-null int64\n",
      "unemployment_rate                               3121 non-null float64\n",
      "dtypes: float64(7), int64(1), object(2)\n",
      "memory usage: 268.2+ KB\n"
     ]
    }
   ],
   "source": [
    "#Merge all tables together\n",
    "df_merge_all=df_merge_education_poverty_population.merge(df_unemployment,on=['state','county'])\n",
    "df_merge_all.info()"
   ]
  },
  {
   "cell_type": "code",
   "execution_count": 50,
   "metadata": {
    "collapsed": true
   },
   "outputs": [],
   "source": [
    "df_merge_all.to_csv('wrangled_data.csv',index=False)"
   ]
  },
  {
   "cell_type": "code",
   "execution_count": null,
   "metadata": {
    "collapsed": true
   },
   "outputs": [],
   "source": []
  }
 ],
 "metadata": {
  "kernelspec": {
   "display_name": "Python 3",
   "language": "python",
   "name": "python3"
  },
  "language_info": {
   "codemirror_mode": {
    "name": "ipython",
    "version": 3
   },
   "file_extension": ".py",
   "mimetype": "text/x-python",
   "name": "python",
   "nbconvert_exporter": "python",
   "pygments_lexer": "ipython3",
   "version": "3.4.5"
  }
 },
 "nbformat": 4,
 "nbformat_minor": 2
}
