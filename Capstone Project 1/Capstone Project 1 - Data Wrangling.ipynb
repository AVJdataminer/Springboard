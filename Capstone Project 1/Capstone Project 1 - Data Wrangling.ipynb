{
 "cells": [
  {
   "cell_type": "code",
   "execution_count": 141,
   "metadata": {},
   "outputs": [
    {
     "name": "stdout",
     "output_type": "stream",
     "text": [
      "['Education 1970 to 2016']\n"
     ]
    }
   ],
   "source": [
    "# There are many warnings regarding the updates in the future releases of the libraries. Ignore them.\n",
    "import warnings\n",
    "warnings.filterwarnings(\"ignore\")\n",
    "\n",
    "#Education.xls file is the first data set\n",
    "import pandas as pd\n",
    "file_name='All excel sheets\\Education.xls'\n",
    "xl = pd.ExcelFile(file_name)\n",
    "print(xl.sheet_names)"
   ]
  },
  {
   "cell_type": "code",
   "execution_count": 142,
   "metadata": {
    "scrolled": true
   },
   "outputs": [
    {
     "data": {
      "text/html": [
       "<div>\n",
       "<table border=\"1\" class=\"dataframe\">\n",
       "  <thead>\n",
       "    <tr style=\"text-align: right;\">\n",
       "      <th></th>\n",
       "      <th>State</th>\n",
       "      <th>Area name</th>\n",
       "      <th>2013 Rural-urban Continuum Code</th>\n",
       "      <th>Percent of adults with less than a high school diploma, 2012-2016</th>\n",
       "      <th>Percent of adults with a high school diploma only, 2012-2016</th>\n",
       "      <th>Percent of adults completing some college or associate's degree, 2012-2016</th>\n",
       "      <th>Percent of adults with a bachelor's degree or higher, 2012-2016</th>\n",
       "    </tr>\n",
       "  </thead>\n",
       "  <tbody>\n",
       "    <tr>\n",
       "      <th>0</th>\n",
       "      <td>US</td>\n",
       "      <td>United States</td>\n",
       "      <td>NaN</td>\n",
       "      <td>13.021</td>\n",
       "      <td>27.531</td>\n",
       "      <td>29.133</td>\n",
       "      <td>30.315</td>\n",
       "    </tr>\n",
       "    <tr>\n",
       "      <th>1</th>\n",
       "      <td>AL</td>\n",
       "      <td>Alabama</td>\n",
       "      <td>NaN</td>\n",
       "      <td>15.209</td>\n",
       "      <td>30.956</td>\n",
       "      <td>29.825</td>\n",
       "      <td>24.010</td>\n",
       "    </tr>\n",
       "    <tr>\n",
       "      <th>2</th>\n",
       "      <td>AL</td>\n",
       "      <td>Autauga County</td>\n",
       "      <td>2.0</td>\n",
       "      <td>12.417</td>\n",
       "      <td>34.331</td>\n",
       "      <td>28.660</td>\n",
       "      <td>24.593</td>\n",
       "    </tr>\n",
       "    <tr>\n",
       "      <th>3</th>\n",
       "      <td>AL</td>\n",
       "      <td>Baldwin County</td>\n",
       "      <td>3.0</td>\n",
       "      <td>9.972</td>\n",
       "      <td>28.692</td>\n",
       "      <td>31.788</td>\n",
       "      <td>29.547</td>\n",
       "    </tr>\n",
       "    <tr>\n",
       "      <th>4</th>\n",
       "      <td>AL</td>\n",
       "      <td>Barbour County</td>\n",
       "      <td>6.0</td>\n",
       "      <td>26.236</td>\n",
       "      <td>34.927</td>\n",
       "      <td>25.969</td>\n",
       "      <td>12.868</td>\n",
       "    </tr>\n",
       "  </tbody>\n",
       "</table>\n",
       "</div>"
      ],
      "text/plain": [
       "  State       Area name  2013 Rural-urban Continuum Code  \\\n",
       "0    US   United States                              NaN   \n",
       "1    AL         Alabama                              NaN   \n",
       "2    AL  Autauga County                              2.0   \n",
       "3    AL  Baldwin County                              3.0   \n",
       "4    AL  Barbour County                              6.0   \n",
       "\n",
       "   Percent of adults with less than a high school diploma, 2012-2016  \\\n",
       "0                                             13.021                   \n",
       "1                                             15.209                   \n",
       "2                                             12.417                   \n",
       "3                                              9.972                   \n",
       "4                                             26.236                   \n",
       "\n",
       "   Percent of adults with a high school diploma only, 2012-2016  \\\n",
       "0                                             27.531              \n",
       "1                                             30.956              \n",
       "2                                             34.331              \n",
       "3                                             28.692              \n",
       "4                                             34.927              \n",
       "\n",
       "   Percent of adults completing some college or associate's degree, 2012-2016  \\\n",
       "0                                             29.133                            \n",
       "1                                             29.825                            \n",
       "2                                             28.660                            \n",
       "3                                             31.788                            \n",
       "4                                             25.969                            \n",
       "\n",
       "   Percent of adults with a bachelor's degree or higher, 2012-2016  \n",
       "0                                             30.315                \n",
       "1                                             24.010                \n",
       "2                                             24.593                \n",
       "3                                             29.547                \n",
       "4                                             12.868                "
      ]
     },
     "execution_count": 142,
     "metadata": {},
     "output_type": "execute_result"
    }
   ],
   "source": [
    "# The first three lines are comments\n",
    "df= xl.parse(0,header=4)\n",
    "\n",
    "#Columns 1, 2, and 5 are state, area name(US, State, County), and the rural-urban continuum codes, respectively\n",
    "df1=df.iloc[:,[1,2,5]]\n",
    "\n",
    "# The last four columns are the percentages of adults with less than high school diploma, high school diploma, some college\n",
    "# or associate's degree, and Bachelor's or higher degrees\n",
    "df2=df.iloc[:,-4:]\n",
    "\n",
    "#Concat df1 & df2\n",
    "df_concat=pd.concat([df1,df2],axis='columns')\n",
    "\n",
    "# Remove rows associate with Puerto Rico because this project examines the 50 states and District of Columbia\n",
    "df_concat = df_concat[df_concat.State != 'PR']\n",
    "\n",
    "#print the first five rows\n",
    "df_concat.head()"
   ]
  },
  {
   "cell_type": "code",
   "execution_count": 143,
   "metadata": {
    "scrolled": true
   },
   "outputs": [
    {
     "name": "stdout",
     "output_type": "stream",
     "text": [
      "number of states are  50\n"
     ]
    },
    {
     "data": {
      "text/plain": [
       "['United States', 'Alabama', 'Alaska', 'Arizona', 'Arkansas']"
      ]
     },
     "execution_count": 143,
     "metadata": {},
     "output_type": "execute_result"
    }
   ],
   "source": [
    "# The rows associated with the entire United States as well as 50 states must be removed since this project is focusing on the counties\n",
    "# First I create the list of the states\n",
    "file_name = r'All excel sheets\\us_states.csv'\n",
    "states_df = pd.read_csv(file_name,header=None)\n",
    "states = states_df.iloc[:,1].tolist()\n",
    "print('number of states are ',len(states)) # to make sure the list contains all 50 states\n",
    "remove_list = ['United States']+states\n",
    "remove_list [:5]"
   ]
  },
  {
   "cell_type": "code",
   "execution_count": 144,
   "metadata": {},
   "outputs": [
    {
     "data": {
      "text/html": [
       "<div>\n",
       "<table border=\"1\" class=\"dataframe\">\n",
       "  <thead>\n",
       "    <tr style=\"text-align: right;\">\n",
       "      <th></th>\n",
       "      <th>State</th>\n",
       "      <th>Area name</th>\n",
       "      <th>2013 Rural-urban Continuum Code</th>\n",
       "      <th>Percent of adults with less than a high school diploma, 2012-2016</th>\n",
       "      <th>Percent of adults with a high school diploma only, 2012-2016</th>\n",
       "      <th>Percent of adults completing some college or associate's degree, 2012-2016</th>\n",
       "      <th>Percent of adults with a bachelor's degree or higher, 2012-2016</th>\n",
       "    </tr>\n",
       "  </thead>\n",
       "  <tbody>\n",
       "    <tr>\n",
       "      <th>2</th>\n",
       "      <td>AL</td>\n",
       "      <td>Autauga County</td>\n",
       "      <td>2.0</td>\n",
       "      <td>12.417</td>\n",
       "      <td>34.331</td>\n",
       "      <td>28.660</td>\n",
       "      <td>24.593</td>\n",
       "    </tr>\n",
       "    <tr>\n",
       "      <th>3</th>\n",
       "      <td>AL</td>\n",
       "      <td>Baldwin County</td>\n",
       "      <td>3.0</td>\n",
       "      <td>9.972</td>\n",
       "      <td>28.692</td>\n",
       "      <td>31.788</td>\n",
       "      <td>29.547</td>\n",
       "    </tr>\n",
       "    <tr>\n",
       "      <th>4</th>\n",
       "      <td>AL</td>\n",
       "      <td>Barbour County</td>\n",
       "      <td>6.0</td>\n",
       "      <td>26.236</td>\n",
       "      <td>34.927</td>\n",
       "      <td>25.969</td>\n",
       "      <td>12.868</td>\n",
       "    </tr>\n",
       "    <tr>\n",
       "      <th>5</th>\n",
       "      <td>AL</td>\n",
       "      <td>Bibb County</td>\n",
       "      <td>1.0</td>\n",
       "      <td>19.302</td>\n",
       "      <td>41.816</td>\n",
       "      <td>26.883</td>\n",
       "      <td>12.000</td>\n",
       "    </tr>\n",
       "    <tr>\n",
       "      <th>6</th>\n",
       "      <td>AL</td>\n",
       "      <td>Blount County</td>\n",
       "      <td>1.0</td>\n",
       "      <td>19.969</td>\n",
       "      <td>32.942</td>\n",
       "      <td>34.039</td>\n",
       "      <td>13.050</td>\n",
       "    </tr>\n",
       "  </tbody>\n",
       "</table>\n",
       "</div>"
      ],
      "text/plain": [
       "  State       Area name  2013 Rural-urban Continuum Code  \\\n",
       "2    AL  Autauga County                              2.0   \n",
       "3    AL  Baldwin County                              3.0   \n",
       "4    AL  Barbour County                              6.0   \n",
       "5    AL     Bibb County                              1.0   \n",
       "6    AL   Blount County                              1.0   \n",
       "\n",
       "   Percent of adults with less than a high school diploma, 2012-2016  \\\n",
       "2                                             12.417                   \n",
       "3                                              9.972                   \n",
       "4                                             26.236                   \n",
       "5                                             19.302                   \n",
       "6                                             19.969                   \n",
       "\n",
       "   Percent of adults with a high school diploma only, 2012-2016  \\\n",
       "2                                             34.331              \n",
       "3                                             28.692              \n",
       "4                                             34.927              \n",
       "5                                             41.816              \n",
       "6                                             32.942              \n",
       "\n",
       "   Percent of adults completing some college or associate's degree, 2012-2016  \\\n",
       "2                                             28.660                            \n",
       "3                                             31.788                            \n",
       "4                                             25.969                            \n",
       "5                                             26.883                            \n",
       "6                                             34.039                            \n",
       "\n",
       "   Percent of adults with a bachelor's degree or higher, 2012-2016  \n",
       "2                                             24.593                \n",
       "3                                             29.547                \n",
       "4                                             12.868                \n",
       "5                                             12.000                \n",
       "6                                             13.050                "
      ]
     },
     "execution_count": 144,
     "metadata": {},
     "output_type": "execute_result"
    }
   ],
   "source": [
    "# Remove the rows for United States and 50 states\n",
    "df_concat = df_concat[~df_concat['Area name'].isin(remove_list)]\n",
    "df_concat.head()"
   ]
  },
  {
   "cell_type": "code",
   "execution_count": 145,
   "metadata": {},
   "outputs": [
    {
     "name": "stdout",
     "output_type": "stream",
     "text": [
      "<class 'pandas.core.frame.DataFrame'>\n",
      "Int64Index: 3154 entries, 2 to 3203\n",
      "Data columns (total 7 columns):\n",
      "State                                                                         3154 non-null object\n",
      "Area name                                                                     3154 non-null object\n",
      "2013 Rural-urban Continuum Code                                               3143 non-null float64\n",
      "Percent of adults with less than a high school diploma, 2012-2016             3144 non-null float64\n",
      "Percent of adults with a high school diploma only, 2012-2016                  3144 non-null float64\n",
      "Percent of adults completing some college or associate's degree, 2012-2016    3144 non-null float64\n",
      "Percent of adults with a bachelor's degree or higher, 2012-2016               3144 non-null float64\n",
      "dtypes: float64(5), object(2)\n",
      "memory usage: 197.1+ KB\n"
     ]
    }
   ],
   "source": [
    "#Print the dataframe information\n",
    "df_concat.info()"
   ]
  },
  {
   "cell_type": "code",
   "execution_count": 146,
   "metadata": {},
   "outputs": [
    {
     "data": {
      "text/html": [
       "<div>\n",
       "<table border=\"1\" class=\"dataframe\">\n",
       "  <thead>\n",
       "    <tr style=\"text-align: right;\">\n",
       "      <th></th>\n",
       "      <th>State</th>\n",
       "      <th>Area name</th>\n",
       "      <th>2013 Rural-urban Continuum Code</th>\n",
       "      <th>Percent of adults with less than a high school diploma, 2012-2016</th>\n",
       "      <th>Percent of adults with a high school diploma only, 2012-2016</th>\n",
       "      <th>Percent of adults completing some college or associate's degree, 2012-2016</th>\n",
       "      <th>Percent of adults with a bachelor's degree or higher, 2012-2016</th>\n",
       "    </tr>\n",
       "  </thead>\n",
       "  <tbody>\n",
       "    <tr>\n",
       "      <th>70</th>\n",
       "      <td>AK</td>\n",
       "      <td>Aleutian Islands</td>\n",
       "      <td>NaN</td>\n",
       "      <td>NaN</td>\n",
       "      <td>NaN</td>\n",
       "      <td>NaN</td>\n",
       "      <td>NaN</td>\n",
       "    </tr>\n",
       "    <tr>\n",
       "      <th>86</th>\n",
       "      <td>AK</td>\n",
       "      <td>Kuskokwim Division</td>\n",
       "      <td>NaN</td>\n",
       "      <td>NaN</td>\n",
       "      <td>NaN</td>\n",
       "      <td>NaN</td>\n",
       "      <td>NaN</td>\n",
       "    </tr>\n",
       "    <tr>\n",
       "      <th>94</th>\n",
       "      <td>AK</td>\n",
       "      <td>Prince of Wales-Outer Ketchikan Census Area</td>\n",
       "      <td>NaN</td>\n",
       "      <td>NaN</td>\n",
       "      <td>NaN</td>\n",
       "      <td>NaN</td>\n",
       "      <td>NaN</td>\n",
       "    </tr>\n",
       "    <tr>\n",
       "      <th>97</th>\n",
       "      <td>AK</td>\n",
       "      <td>Skagway-Yakutat-Angoon Census Area</td>\n",
       "      <td>NaN</td>\n",
       "      <td>NaN</td>\n",
       "      <td>NaN</td>\n",
       "      <td>NaN</td>\n",
       "      <td>NaN</td>\n",
       "    </tr>\n",
       "    <tr>\n",
       "      <th>98</th>\n",
       "      <td>AK</td>\n",
       "      <td>Skagway-Hoonah-Angoon Census Area</td>\n",
       "      <td>NaN</td>\n",
       "      <td>NaN</td>\n",
       "      <td>NaN</td>\n",
       "      <td>NaN</td>\n",
       "      <td>NaN</td>\n",
       "    </tr>\n",
       "    <tr>\n",
       "      <th>100</th>\n",
       "      <td>AK</td>\n",
       "      <td>Upper Yukon Division</td>\n",
       "      <td>NaN</td>\n",
       "      <td>NaN</td>\n",
       "      <td>NaN</td>\n",
       "      <td>NaN</td>\n",
       "      <td>NaN</td>\n",
       "    </tr>\n",
       "    <tr>\n",
       "      <th>103</th>\n",
       "      <td>AK</td>\n",
       "      <td>Wrangell-Petersburg Census Area</td>\n",
       "      <td>NaN</td>\n",
       "      <td>NaN</td>\n",
       "      <td>NaN</td>\n",
       "      <td>NaN</td>\n",
       "      <td>NaN</td>\n",
       "    </tr>\n",
       "    <tr>\n",
       "      <th>335</th>\n",
       "      <td>DC</td>\n",
       "      <td>District of Columbia</td>\n",
       "      <td>NaN</td>\n",
       "      <td>10.045</td>\n",
       "      <td>18.006</td>\n",
       "      <td>16.588</td>\n",
       "      <td>55.360</td>\n",
       "    </tr>\n",
       "    <tr>\n",
       "      <th>1139</th>\n",
       "      <td>LA</td>\n",
       "      <td>Lousiana</td>\n",
       "      <td>NaN</td>\n",
       "      <td>16.184</td>\n",
       "      <td>33.875</td>\n",
       "      <td>26.983</td>\n",
       "      <td>22.958</td>\n",
       "    </tr>\n",
       "    <tr>\n",
       "      <th>1689</th>\n",
       "      <td>MT</td>\n",
       "      <td>Yellowstone National Park</td>\n",
       "      <td>NaN</td>\n",
       "      <td>NaN</td>\n",
       "      <td>NaN</td>\n",
       "      <td>NaN</td>\n",
       "      <td>NaN</td>\n",
       "    </tr>\n",
       "    <tr>\n",
       "      <th>2972</th>\n",
       "      <td>VA</td>\n",
       "      <td>Bedford city</td>\n",
       "      <td>2.0</td>\n",
       "      <td>NaN</td>\n",
       "      <td>NaN</td>\n",
       "      <td>NaN</td>\n",
       "      <td>NaN</td>\n",
       "    </tr>\n",
       "    <tr>\n",
       "      <th>2977</th>\n",
       "      <td>VA</td>\n",
       "      <td>Clifton Forge city</td>\n",
       "      <td>NaN</td>\n",
       "      <td>NaN</td>\n",
       "      <td>NaN</td>\n",
       "      <td>NaN</td>\n",
       "      <td>NaN</td>\n",
       "    </tr>\n",
       "  </tbody>\n",
       "</table>\n",
       "</div>"
      ],
      "text/plain": [
       "     State                                    Area name  \\\n",
       "70      AK                             Aleutian Islands   \n",
       "86      AK                           Kuskokwim Division   \n",
       "94      AK  Prince of Wales-Outer Ketchikan Census Area   \n",
       "97      AK           Skagway-Yakutat-Angoon Census Area   \n",
       "98      AK            Skagway-Hoonah-Angoon Census Area   \n",
       "100     AK                         Upper Yukon Division   \n",
       "103     AK              Wrangell-Petersburg Census Area   \n",
       "335     DC                         District of Columbia   \n",
       "1139    LA                                     Lousiana   \n",
       "1689    MT                    Yellowstone National Park   \n",
       "2972    VA                                 Bedford city   \n",
       "2977    VA                           Clifton Forge city   \n",
       "\n",
       "      2013 Rural-urban Continuum Code  \\\n",
       "70                                NaN   \n",
       "86                                NaN   \n",
       "94                                NaN   \n",
       "97                                NaN   \n",
       "98                                NaN   \n",
       "100                               NaN   \n",
       "103                               NaN   \n",
       "335                               NaN   \n",
       "1139                              NaN   \n",
       "1689                              NaN   \n",
       "2972                              2.0   \n",
       "2977                              NaN   \n",
       "\n",
       "      Percent of adults with less than a high school diploma, 2012-2016  \\\n",
       "70                                                  NaN                   \n",
       "86                                                  NaN                   \n",
       "94                                                  NaN                   \n",
       "97                                                  NaN                   \n",
       "98                                                  NaN                   \n",
       "100                                                 NaN                   \n",
       "103                                                 NaN                   \n",
       "335                                              10.045                   \n",
       "1139                                             16.184                   \n",
       "1689                                                NaN                   \n",
       "2972                                                NaN                   \n",
       "2977                                                NaN                   \n",
       "\n",
       "      Percent of adults with a high school diploma only, 2012-2016  \\\n",
       "70                                                  NaN              \n",
       "86                                                  NaN              \n",
       "94                                                  NaN              \n",
       "97                                                  NaN              \n",
       "98                                                  NaN              \n",
       "100                                                 NaN              \n",
       "103                                                 NaN              \n",
       "335                                              18.006              \n",
       "1139                                             33.875              \n",
       "1689                                                NaN              \n",
       "2972                                                NaN              \n",
       "2977                                                NaN              \n",
       "\n",
       "      Percent of adults completing some college or associate's degree, 2012-2016  \\\n",
       "70                                                  NaN                            \n",
       "86                                                  NaN                            \n",
       "94                                                  NaN                            \n",
       "97                                                  NaN                            \n",
       "98                                                  NaN                            \n",
       "100                                                 NaN                            \n",
       "103                                                 NaN                            \n",
       "335                                              16.588                            \n",
       "1139                                             26.983                            \n",
       "1689                                                NaN                            \n",
       "2972                                                NaN                            \n",
       "2977                                                NaN                            \n",
       "\n",
       "      Percent of adults with a bachelor's degree or higher, 2012-2016  \n",
       "70                                                  NaN                \n",
       "86                                                  NaN                \n",
       "94                                                  NaN                \n",
       "97                                                  NaN                \n",
       "98                                                  NaN                \n",
       "100                                                 NaN                \n",
       "103                                                 NaN                \n",
       "335                                              55.360                \n",
       "1139                                             22.958                \n",
       "1689                                                NaN                \n",
       "2972                                                NaN                \n",
       "2977                                                NaN                "
      ]
     },
     "execution_count": 146,
     "metadata": {},
     "output_type": "execute_result"
    }
   ],
   "source": [
    "# Print all the rows with some null element and investigate them\n",
    "df_concat[df_concat.isnull().any(axis=1)]"
   ]
  },
  {
   "cell_type": "code",
   "execution_count": 147,
   "metadata": {},
   "outputs": [
    {
     "data": {
      "text/html": [
       "<div>\n",
       "<table border=\"1\" class=\"dataframe\">\n",
       "  <thead>\n",
       "    <tr style=\"text-align: right;\">\n",
       "      <th></th>\n",
       "      <th>State</th>\n",
       "      <th>Area name</th>\n",
       "      <th>2013 Rural-urban Continuum Code</th>\n",
       "      <th>Percent of adults with less than a high school diploma, 2012-2016</th>\n",
       "      <th>Percent of adults with a high school diploma only, 2012-2016</th>\n",
       "      <th>Percent of adults completing some college or associate's degree, 2012-2016</th>\n",
       "      <th>Percent of adults with a bachelor's degree or higher, 2012-2016</th>\n",
       "    </tr>\n",
       "  </thead>\n",
       "  <tbody>\n",
       "    <tr>\n",
       "      <th>335</th>\n",
       "      <td>DC</td>\n",
       "      <td>District of Columbia</td>\n",
       "      <td>NaN</td>\n",
       "      <td>10.045</td>\n",
       "      <td>18.006</td>\n",
       "      <td>16.588</td>\n",
       "      <td>55.36</td>\n",
       "    </tr>\n",
       "    <tr>\n",
       "      <th>336</th>\n",
       "      <td>DC</td>\n",
       "      <td>District of Columbia</td>\n",
       "      <td>1.0</td>\n",
       "      <td>10.045</td>\n",
       "      <td>18.006</td>\n",
       "      <td>16.588</td>\n",
       "      <td>55.36</td>\n",
       "    </tr>\n",
       "  </tbody>\n",
       "</table>\n",
       "</div>"
      ],
      "text/plain": [
       "    State             Area name  2013 Rural-urban Continuum Code  \\\n",
       "335    DC  District of Columbia                              NaN   \n",
       "336    DC  District of Columbia                              1.0   \n",
       "\n",
       "     Percent of adults with less than a high school diploma, 2012-2016  \\\n",
       "335                                             10.045                   \n",
       "336                                             10.045                   \n",
       "\n",
       "     Percent of adults with a high school diploma only, 2012-2016  \\\n",
       "335                                             18.006              \n",
       "336                                             18.006              \n",
       "\n",
       "     Percent of adults completing some college or associate's degree, 2012-2016  \\\n",
       "335                                             16.588                            \n",
       "336                                             16.588                            \n",
       "\n",
       "     Percent of adults with a bachelor's degree or higher, 2012-2016  \n",
       "335                                              55.36                \n",
       "336                                              55.36                "
      ]
     },
     "execution_count": 147,
     "metadata": {},
     "output_type": "execute_result"
    }
   ],
   "source": [
    "# One row is about Louisiana which was not removed when states were filter out because of the miss spelling. It must be removed\n",
    "# There are 10 counties with no information on education. They must be removed since they will be of no use in the project\n",
    "# District of columbia is missing only rural_urban continuum code.Since District of Columbia is both a district and a county,\n",
    "# I need to check if there is more than one row for it\n",
    "df_concat[df['State']=='DC']"
   ]
  },
  {
   "cell_type": "code",
   "execution_count": 148,
   "metadata": {},
   "outputs": [
    {
     "name": "stdout",
     "output_type": "stream",
     "text": [
      "<class 'pandas.core.frame.DataFrame'>\n",
      "Int64Index: 3142 entries, 2 to 3203\n",
      "Data columns (total 7 columns):\n",
      "State                                                                         3142 non-null object\n",
      "Area name                                                                     3142 non-null object\n",
      "2013 Rural-urban Continuum Code                                               3142 non-null float64\n",
      "Percent of adults with less than a high school diploma, 2012-2016             3142 non-null float64\n",
      "Percent of adults with a high school diploma only, 2012-2016                  3142 non-null float64\n",
      "Percent of adults completing some college or associate's degree, 2012-2016    3142 non-null float64\n",
      "Percent of adults with a bachelor's degree or higher, 2012-2016               3142 non-null float64\n",
      "dtypes: float64(5), object(2)\n",
      "memory usage: 196.4+ KB\n"
     ]
    }
   ],
   "source": [
    "# There are two rows for District of Columbia. Therefore, the one with missing rural_urban continuum code must be removed\n",
    "# along with all other rows with some missing element\n",
    "df_education=df_concat.dropna()\n",
    "\n",
    "# Print the info of the dataframe to find the total number of rows\n",
    "df_education.info()"
   ]
  },
  {
   "cell_type": "code",
   "execution_count": 149,
   "metadata": {},
   "outputs": [
    {
     "data": {
      "text/html": [
       "<div>\n",
       "<table border=\"1\" class=\"dataframe\">\n",
       "  <thead>\n",
       "    <tr style=\"text-align: right;\">\n",
       "      <th></th>\n",
       "      <th>state</th>\n",
       "      <th>county</th>\n",
       "      <th>RUCC</th>\n",
       "      <th>less_than_high_school</th>\n",
       "      <th>high_school_diploma</th>\n",
       "      <th>college/associate_degree</th>\n",
       "      <th>bachelors/higher</th>\n",
       "    </tr>\n",
       "  </thead>\n",
       "  <tbody>\n",
       "    <tr>\n",
       "      <th>2</th>\n",
       "      <td>AL</td>\n",
       "      <td>Autauga County</td>\n",
       "      <td>2.0</td>\n",
       "      <td>12.417</td>\n",
       "      <td>34.331</td>\n",
       "      <td>28.660</td>\n",
       "      <td>24.593</td>\n",
       "    </tr>\n",
       "    <tr>\n",
       "      <th>3</th>\n",
       "      <td>AL</td>\n",
       "      <td>Baldwin County</td>\n",
       "      <td>3.0</td>\n",
       "      <td>9.972</td>\n",
       "      <td>28.692</td>\n",
       "      <td>31.788</td>\n",
       "      <td>29.547</td>\n",
       "    </tr>\n",
       "    <tr>\n",
       "      <th>4</th>\n",
       "      <td>AL</td>\n",
       "      <td>Barbour County</td>\n",
       "      <td>6.0</td>\n",
       "      <td>26.236</td>\n",
       "      <td>34.927</td>\n",
       "      <td>25.969</td>\n",
       "      <td>12.868</td>\n",
       "    </tr>\n",
       "    <tr>\n",
       "      <th>5</th>\n",
       "      <td>AL</td>\n",
       "      <td>Bibb County</td>\n",
       "      <td>1.0</td>\n",
       "      <td>19.302</td>\n",
       "      <td>41.816</td>\n",
       "      <td>26.883</td>\n",
       "      <td>12.000</td>\n",
       "    </tr>\n",
       "    <tr>\n",
       "      <th>6</th>\n",
       "      <td>AL</td>\n",
       "      <td>Blount County</td>\n",
       "      <td>1.0</td>\n",
       "      <td>19.969</td>\n",
       "      <td>32.942</td>\n",
       "      <td>34.039</td>\n",
       "      <td>13.050</td>\n",
       "    </tr>\n",
       "  </tbody>\n",
       "</table>\n",
       "</div>"
      ],
      "text/plain": [
       "  state          county  RUCC  less_than_high_school  high_school_diploma  \\\n",
       "2    AL  Autauga County   2.0                 12.417               34.331   \n",
       "3    AL  Baldwin County   3.0                  9.972               28.692   \n",
       "4    AL  Barbour County   6.0                 26.236               34.927   \n",
       "5    AL     Bibb County   1.0                 19.302               41.816   \n",
       "6    AL   Blount County   1.0                 19.969               32.942   \n",
       "\n",
       "   college/associate_degree  bachelors/higher  \n",
       "2                    28.660            24.593  \n",
       "3                    31.788            29.547  \n",
       "4                    25.969            12.868  \n",
       "5                    26.883            12.000  \n",
       "6                    34.039            13.050  "
      ]
     },
     "execution_count": 149,
     "metadata": {},
     "output_type": "execute_result"
    }
   ],
   "source": [
    "# Columns are renamed for convenience\n",
    "df_education=df_education.rename(columns={'State':'state','Area name':'county','2013 Rural-urban Continuum Code':'RUCC',\n",
    "                             'Percent of adults with less than a high school diploma, 2012-2016':'less_than_high_school',\n",
    "                            'Percent of adults with a high school diploma only, 2012-2016':'high_school_diploma',\n",
    "                            'Percent of adults completing some college or associate\\'s degree, 2012-2016':'college/associate_degree',\n",
    "                            'Percent of adults with a bachelor\\'s degree or higher, 2012-2016':'bachelors/higher'})\n",
    "\n",
    "#print the first five rows\n",
    "df_education.head()"
   ]
  },
  {
   "cell_type": "code",
   "execution_count": 150,
   "metadata": {
    "scrolled": false
   },
   "outputs": [
    {
     "name": "stdout",
     "output_type": "stream",
     "text": [
      " All rural-urban continuum code values are\n",
      " [ 2.  3.  6.  1.  9.  7.  8.  4.  5.]\n",
      "\n",
      "Number of rows with at least one education percentage less than 0 or more than 100 is  0\n",
      "\n",
      "Number of rows with the sum of education percentages less than 99.9 is  0\n",
      "\n",
      "Top five counties with the most counts\n",
      "FL-Gadsden County    1\n",
      "IN-Clark County      1\n",
      "WI-Vilas County      1\n",
      "TN-Marion County     1\n",
      "MT-Wibaux County     1\n",
      "dtype: int64\n"
     ]
    }
   ],
   "source": [
    "# The rural-urban continuum codes (RUCC) must be integers from 1-9. All the unique values are printed to make sure \n",
    "# they meet the expectation\n",
    "print(' All rural-urban continuum code values are\\n',df_education.RUCC.unique())\n",
    "\n",
    "# check if any education percentage is less than 0 or more than 100\n",
    "print('\\nNumber of rows with at least one education percentage less than 0 or more than 100 is ',\\\n",
    "      sum([df_education[(df_education[column]>100) | (df_education[column]<0)].shape[0] for column in \\\n",
    "           df_education.iloc[:,-4:].columns]))\n",
    "\n",
    "# check if the sum of the education percentages is close enough to 100 for all rows\n",
    "total=df_education.iloc[:,-4:].sum(axis=1)\n",
    "print('\\nNumber of rows with the sum of education percentages less than 99.9 is ',\\\n",
    "      total[total<99.9].shape[0])\n",
    "\n",
    "# check if there is more than one row for any county\n",
    "state_county=df_education.state+'-'+df_education.county\n",
    "print('\\nTop five counties with the most counts')\n",
    "print(state_county.value_counts().head())\n",
    "# If the top ones have only one count, it means there is no duplicate row for any county"
   ]
  },
  {
   "cell_type": "code",
   "execution_count": 151,
   "metadata": {},
   "outputs": [
    {
     "name": "stdout",
     "output_type": "stream",
     "text": [
      "['Poverty Data 2016', 'Variable Descriptions']\n"
     ]
    }
   ],
   "source": [
    "# read the poverty file\n",
    "file_name='All excel sheets\\PovertyEstimates.xls'\n",
    "xl = pd.ExcelFile(file_name)\n",
    "print(xl.sheet_names)"
   ]
  },
  {
   "cell_type": "code",
   "execution_count": 152,
   "metadata": {},
   "outputs": [
    {
     "data": {
      "text/html": [
       "<div>\n",
       "<table border=\"1\" class=\"dataframe\">\n",
       "  <thead>\n",
       "    <tr style=\"text-align: right;\">\n",
       "      <th></th>\n",
       "      <th>state</th>\n",
       "      <th>county</th>\n",
       "      <th>poverty</th>\n",
       "    </tr>\n",
       "  </thead>\n",
       "  <tbody>\n",
       "    <tr>\n",
       "      <th>0</th>\n",
       "      <td>US</td>\n",
       "      <td>United States</td>\n",
       "      <td>14.0</td>\n",
       "    </tr>\n",
       "    <tr>\n",
       "      <th>1</th>\n",
       "      <td>AL</td>\n",
       "      <td>Alabama</td>\n",
       "      <td>17.0</td>\n",
       "    </tr>\n",
       "    <tr>\n",
       "      <th>2</th>\n",
       "      <td>AL</td>\n",
       "      <td>Autauga County</td>\n",
       "      <td>14.0</td>\n",
       "    </tr>\n",
       "    <tr>\n",
       "      <th>3</th>\n",
       "      <td>AL</td>\n",
       "      <td>Baldwin County</td>\n",
       "      <td>12.0</td>\n",
       "    </tr>\n",
       "    <tr>\n",
       "      <th>4</th>\n",
       "      <td>AL</td>\n",
       "      <td>Barbour County</td>\n",
       "      <td>30.0</td>\n",
       "    </tr>\n",
       "  </tbody>\n",
       "</table>\n",
       "</div>"
      ],
      "text/plain": [
       "  state          county  poverty\n",
       "0    US   United States     14.0\n",
       "1    AL         Alabama     17.0\n",
       "2    AL  Autauga County     14.0\n",
       "3    AL  Baldwin County     12.0\n",
       "4    AL  Barbour County     30.0"
      ]
     },
     "execution_count": 152,
     "metadata": {},
     "output_type": "execute_result"
    }
   ],
   "source": [
    "# read the first sheet, collect three columns and rename them\n",
    "df_poverty=xl.parse(0,header=2)\n",
    "df_poverty=df_poverty.loc[:,['State','Area_Name','PCTPOVALL_2016']].rename(columns={'State':'state','Area_Name':'county',\n",
    "                                                                                    'PCTPOVALL_2016':'poverty'})\n",
    "#Print the first five rows\n",
    "df_poverty.head()"
   ]
  },
  {
   "cell_type": "code",
   "execution_count": 153,
   "metadata": {},
   "outputs": [
    {
     "data": {
      "text/html": [
       "<div>\n",
       "<table border=\"1\" class=\"dataframe\">\n",
       "  <thead>\n",
       "    <tr style=\"text-align: right;\">\n",
       "      <th></th>\n",
       "      <th>state</th>\n",
       "      <th>county</th>\n",
       "      <th>poverty</th>\n",
       "    </tr>\n",
       "  </thead>\n",
       "  <tbody>\n",
       "    <tr>\n",
       "      <th>2</th>\n",
       "      <td>AL</td>\n",
       "      <td>Autauga County</td>\n",
       "      <td>14.0</td>\n",
       "    </tr>\n",
       "    <tr>\n",
       "      <th>3</th>\n",
       "      <td>AL</td>\n",
       "      <td>Baldwin County</td>\n",
       "      <td>12.0</td>\n",
       "    </tr>\n",
       "    <tr>\n",
       "      <th>4</th>\n",
       "      <td>AL</td>\n",
       "      <td>Barbour County</td>\n",
       "      <td>30.0</td>\n",
       "    </tr>\n",
       "    <tr>\n",
       "      <th>5</th>\n",
       "      <td>AL</td>\n",
       "      <td>Bibb County</td>\n",
       "      <td>20.0</td>\n",
       "    </tr>\n",
       "    <tr>\n",
       "      <th>6</th>\n",
       "      <td>AL</td>\n",
       "      <td>Blount County</td>\n",
       "      <td>14.0</td>\n",
       "    </tr>\n",
       "  </tbody>\n",
       "</table>\n",
       "</div>"
      ],
      "text/plain": [
       "  state          county  poverty\n",
       "2    AL  Autauga County     14.0\n",
       "3    AL  Baldwin County     12.0\n",
       "4    AL  Barbour County     30.0\n",
       "5    AL     Bibb County     20.0\n",
       "6    AL   Blount County     14.0"
      ]
     },
     "execution_count": 153,
     "metadata": {},
     "output_type": "execute_result"
    }
   ],
   "source": [
    "# Remove the rows for United States and 50 states\n",
    "df_poverty = df_poverty[~df_poverty['county'].isin(remove_list)]\n",
    "\n",
    "# Remove Puerto Rico from data set\n",
    "df_poverty = df_poverty[df_poverty.state != 'PR']\n",
    "\n",
    "#print the first five rows\n",
    "df_poverty.head()"
   ]
  },
  {
   "cell_type": "code",
   "execution_count": 154,
   "metadata": {},
   "outputs": [
    {
     "name": "stdout",
     "output_type": "stream",
     "text": [
      "<class 'pandas.core.frame.DataFrame'>\n",
      "Int64Index: 3143 entries, 2 to 3193\n",
      "Data columns (total 3 columns):\n",
      "state      3143 non-null object\n",
      "county     3143 non-null object\n",
      "poverty    3142 non-null float64\n",
      "dtypes: float64(1), object(2)\n",
      "memory usage: 98.2+ KB\n"
     ]
    }
   ],
   "source": [
    "# Print the dataframe information\n",
    "df_poverty.info()"
   ]
  },
  {
   "cell_type": "code",
   "execution_count": 155,
   "metadata": {},
   "outputs": [
    {
     "data": {
      "text/html": [
       "<div>\n",
       "<table border=\"1\" class=\"dataframe\">\n",
       "  <thead>\n",
       "    <tr style=\"text-align: right;\">\n",
       "      <th></th>\n",
       "      <th>state</th>\n",
       "      <th>county</th>\n",
       "      <th>poverty</th>\n",
       "    </tr>\n",
       "  </thead>\n",
       "  <tbody>\n",
       "    <tr>\n",
       "      <th>561</th>\n",
       "      <td>HI</td>\n",
       "      <td>Kalawao County</td>\n",
       "      <td>NaN</td>\n",
       "    </tr>\n",
       "  </tbody>\n",
       "</table>\n",
       "</div>"
      ],
      "text/plain": [
       "    state          county  poverty\n",
       "561    HI  Kalawao County      NaN"
      ]
     },
     "execution_count": 155,
     "metadata": {},
     "output_type": "execute_result"
    }
   ],
   "source": [
    "# print the row with null poverty\n",
    "df_poverty[df_poverty.isnull().any(axis=1)]"
   ]
  },
  {
   "cell_type": "code",
   "execution_count": 156,
   "metadata": {},
   "outputs": [
    {
     "name": "stdout",
     "output_type": "stream",
     "text": [
      "Number of rows with the poverty percentage less than 0 or more than 100 is  0\n",
      "\n",
      "Top five counties with the most counts\n",
      "DC-District of Columbia    2\n",
      "FL-Gadsden County          1\n",
      "KY-Garrard County          1\n",
      "TN-Marion County           1\n",
      "MT-Wibaux County           1\n",
      "dtype: int64\n"
     ]
    }
   ],
   "source": [
    "# There is only one null cell in df_poverty, so we could just remove it\n",
    "df_poverty.dropna(inplace=True)\n",
    "\n",
    "# check if there is any poverty percentage less than 0 or more than 100\n",
    "print('Number of rows with the poverty percentage less than 0 or more than 100 is ',\\\n",
    "      df_poverty[(df_poverty.poverty>100) | (df_poverty.poverty<0)].shape[0])\n",
    "\n",
    "# check if there are duplicate rows for any county\n",
    "state_county=df_poverty.state+'-'+df_poverty.county\n",
    "print('\\nTop five counties with the most counts')\n",
    "print(state_county.value_counts().head())"
   ]
  },
  {
   "cell_type": "code",
   "execution_count": 157,
   "metadata": {},
   "outputs": [
    {
     "data": {
      "text/html": [
       "<div>\n",
       "<table border=\"1\" class=\"dataframe\">\n",
       "  <thead>\n",
       "    <tr style=\"text-align: right;\">\n",
       "      <th></th>\n",
       "      <th>state</th>\n",
       "      <th>county</th>\n",
       "      <th>poverty</th>\n",
       "    </tr>\n",
       "  </thead>\n",
       "  <tbody>\n",
       "    <tr>\n",
       "      <th>328</th>\n",
       "      <td>DC</td>\n",
       "      <td>District of Columbia</td>\n",
       "      <td>19.0</td>\n",
       "    </tr>\n",
       "    <tr>\n",
       "      <th>329</th>\n",
       "      <td>DC</td>\n",
       "      <td>District of Columbia</td>\n",
       "      <td>19.0</td>\n",
       "    </tr>\n",
       "  </tbody>\n",
       "</table>\n",
       "</div>"
      ],
      "text/plain": [
       "    state                county  poverty\n",
       "328    DC  District of Columbia     19.0\n",
       "329    DC  District of Columbia     19.0"
      ]
     },
     "execution_count": 157,
     "metadata": {},
     "output_type": "execute_result"
    }
   ],
   "source": [
    "# print he duplicate rows\n",
    "df_poverty[df_poverty.state=='DC']"
   ]
  },
  {
   "cell_type": "code",
   "execution_count": 158,
   "metadata": {},
   "outputs": [
    {
     "name": "stdout",
     "output_type": "stream",
     "text": [
      "<class 'pandas.core.frame.DataFrame'>\n",
      "Int64Index: 3141 entries, 2 to 3193\n",
      "Data columns (total 3 columns):\n",
      "state      3141 non-null object\n",
      "county     3141 non-null object\n",
      "poverty    3141 non-null float64\n",
      "dtypes: float64(1), object(2)\n",
      "memory usage: 98.2+ KB\n"
     ]
    }
   ],
   "source": [
    "# Remove the duplicate row\n",
    "df_poverty.drop_duplicates(inplace = True)\n",
    "\n",
    "# print info of df_poverty again\n",
    "df_poverty.info()"
   ]
  },
  {
   "cell_type": "code",
   "execution_count": 159,
   "metadata": {},
   "outputs": [
    {
     "name": "stdout",
     "output_type": "stream",
     "text": [
      "<class 'pandas.core.frame.DataFrame'>\n",
      "Int64Index: 3131 entries, 0 to 3130\n",
      "Data columns (total 8 columns):\n",
      "state                       3131 non-null object\n",
      "county                      3131 non-null object\n",
      "RUCC                        3131 non-null float64\n",
      "less_than_high_school       3131 non-null float64\n",
      "high_school_diploma         3131 non-null float64\n",
      "college/associate_degree    3131 non-null float64\n",
      "bachelors/higher            3131 non-null float64\n",
      "poverty                     3131 non-null float64\n",
      "dtypes: float64(6), object(2)\n",
      "memory usage: 220.1+ KB\n"
     ]
    }
   ],
   "source": [
    "# It shows there are two rows for District of Columbia. The duplicate is dropped\n",
    "df_poverty.drop_duplicates(inplace=True)\n",
    "\n",
    "# Merge education and poverty dataframes\n",
    "df_merge_education_poverty=df_education.merge(df_poverty,on=['state','county'])\n",
    "\n",
    "# Print the information of the new dataframe\n",
    "df_merge_education_poverty.info()"
   ]
  },
  {
   "cell_type": "code",
   "execution_count": 160,
   "metadata": {},
   "outputs": [
    {
     "name": "stdout",
     "output_type": "stream",
     "text": [
      "Rows which exist in education dataframe but do not exist in poverty dataframe: \n",
      "\n",
      "{'AK-Anchorage Municipality', 'NM-De Baca County', 'IN-LaGrange County', 'HI-Kalawao County', 'AK-Juneau City and Borough', 'AK-Sitka City and Borough', 'AK-Yakutat City and Borough', 'IN-DeKalb County', 'PA-McKean County', 'AK-Petersburg Census Area', 'IN-LaPorte County'}\n",
      "\n",
      "Rows which exist in poverty dataframe but do not exist in education dataframe: \n",
      "\n",
      "{'IN-Lagrange County', 'AK-Anchorage Borough', 'AK-Sitka Borough', 'IN-De Kalb County', 'AK-Yakutat Borough', 'AK-Petersburg Borough', 'NM-DeBaca County', 'IN-La Porte County', 'AK-Juneau Borough', 'PA-Mc Kean County'}\n"
     ]
    }
   ],
   "source": [
    "# df_poverty has 3141 rows. df_education has 3142 rows. I need to investigate the differences between the two dataframes \n",
    "# which causes 10 loss of rows in the merge to make sure it is not because of misspelling or some space\n",
    "\n",
    "# Make two lists from state-county of the two dataframes\n",
    "education = (df_education['state']+'-'+df_education['county']).tolist()\n",
    "poverty = (df_poverty['state']+'-'+df_poverty['county']).tolist()\n",
    "\n",
    "# Rows which exist in education dataframe but do not exist in poverty dataframe\n",
    "print('Rows which exist in education dataframe but do not exist in poverty dataframe: \\n')\n",
    "print(set(education)-set(poverty))\n",
    "\n",
    "# Rows which exist in poverty dataframe but do not exist in education dataframe\n",
    "print('\\nRows which exist in poverty dataframe but do not exist in education dataframe: \\n')\n",
    "print(set(poverty)-set(education))"
   ]
  },
  {
   "cell_type": "code",
   "execution_count": 161,
   "metadata": {},
   "outputs": [
    {
     "name": "stdout",
     "output_type": "stream",
     "text": [
      "<class 'pandas.core.frame.DataFrame'>\n",
      "Int64Index: 3141 entries, 0 to 3140\n",
      "Data columns (total 8 columns):\n",
      "state                       3141 non-null object\n",
      "county                      3141 non-null object\n",
      "RUCC                        3141 non-null float64\n",
      "less_than_high_school       3141 non-null float64\n",
      "high_school_diploma         3141 non-null float64\n",
      "college/associate_degree    3141 non-null float64\n",
      "bachelors/higher            3141 non-null float64\n",
      "poverty                     3141 non-null float64\n",
      "dtypes: float64(6), object(2)\n",
      "memory usage: 220.9+ KB\n"
     ]
    }
   ],
   "source": [
    "# As it can be seen, the only real difference is 'HI-Kalawao County' (This county had missing poverty rate). The rest are the\n",
    "# same except some minor difference in name or the space. I fix the names and rebuild df_merge_education_poverty\n",
    "\n",
    "# The differences between the two lists for McKean, DeKalb, LaPorte, LaGrange, and DeBaca do not follow any specific pattern.\n",
    "# For example, there is no space in McKean, DeKalb, LaPorte in education dataframe, but there is no space in DeBaca in poverty\n",
    "# dataframe. So I just rename these five counties in poverty dataframe manually\n",
    "df_poverty.loc[(df_poverty.state=='PA') & (df_poverty.county=='Mc Kean County'),'county']='McKean County'\n",
    "df_poverty.loc[(df_poverty.state=='IN') & (df_poverty.county=='De Kalb County'),'county']='DeKalb County'\n",
    "df_poverty.loc[(df_poverty.state=='IN') & (df_poverty.county=='La Porte County'),'county']='LaPorte County'\n",
    "df_poverty.loc[(df_poverty.state=='IN') & (df_poverty.county=='Lagrange County'),'county']='LaGrange County'\n",
    "df_poverty.loc[(df_poverty.state=='NM') & (df_poverty.county=='DeBaca County'),'county']='De Baca County'\n",
    "\n",
    "# The differences between the two lists for the five counties in Alaska is following a special pattern. All the names in poverty\n",
    "# dataframe end with Borough but in education dataframe they end with something different\n",
    "\n",
    "df_education['state-county']=df_education['state']+'-'+df_education['county']\n",
    "df_education.loc[(~df_education['state-county'].isin(poverty)) & (df_education['state']=='AK'),'county'] = \\\n",
    "df_education.loc[(~df_education['state-county'].isin(poverty)) & (df_education['state']=='AK'),'county']\\\n",
    ".map(lambda x:x[:x.find(' ')+1]+'Borough')\n",
    "\n",
    "# Drop the added state-county column\n",
    "df_education.drop('state-county',axis=1,inplace=True)\n",
    "\n",
    "# Merge education and poverty dataframes\n",
    "df_merge_education_poverty=df_education.merge(df_poverty,on=['state','county'])\n",
    "\n",
    "# Print the information of the new dataframe\n",
    "df_merge_education_poverty.info()"
   ]
  },
  {
   "cell_type": "code",
   "execution_count": 162,
   "metadata": {},
   "outputs": [
    {
     "name": "stdout",
     "output_type": "stream",
     "text": [
      "['Unemployment Med HH Inc', 'Variable Descriptions']\n"
     ]
    }
   ],
   "source": [
    "# read the Unemployment sheet\n",
    "file_name=r'All excel sheets\\Unemployment.xls'\n",
    "xl=pd.ExcelFile(file_name)\n",
    "print(xl.sheet_names)"
   ]
  },
  {
   "cell_type": "code",
   "execution_count": 163,
   "metadata": {},
   "outputs": [
    {
     "data": {
      "text/html": [
       "<div>\n",
       "<table border=\"1\" class=\"dataframe\">\n",
       "  <thead>\n",
       "    <tr style=\"text-align: right;\">\n",
       "      <th></th>\n",
       "      <th>state</th>\n",
       "      <th>county</th>\n",
       "      <th>unemployment</th>\n",
       "    </tr>\n",
       "  </thead>\n",
       "  <tbody>\n",
       "    <tr>\n",
       "      <th>0</th>\n",
       "      <td>AL</td>\n",
       "      <td>Alabama</td>\n",
       "      <td>6.0</td>\n",
       "    </tr>\n",
       "    <tr>\n",
       "      <th>1</th>\n",
       "      <td>AL</td>\n",
       "      <td>Autauga County, AL</td>\n",
       "      <td>5.3</td>\n",
       "    </tr>\n",
       "    <tr>\n",
       "      <th>2</th>\n",
       "      <td>AL</td>\n",
       "      <td>Baldwin County, AL</td>\n",
       "      <td>5.4</td>\n",
       "    </tr>\n",
       "    <tr>\n",
       "      <th>3</th>\n",
       "      <td>AL</td>\n",
       "      <td>Barbour County, AL</td>\n",
       "      <td>8.6</td>\n",
       "    </tr>\n",
       "    <tr>\n",
       "      <th>4</th>\n",
       "      <td>AL</td>\n",
       "      <td>Bibb County, AL</td>\n",
       "      <td>6.6</td>\n",
       "    </tr>\n",
       "  </tbody>\n",
       "</table>\n",
       "</div>"
      ],
      "text/plain": [
       "  state              county  unemployment\n",
       "0    AL             Alabama           6.0\n",
       "1    AL  Autauga County, AL           5.3\n",
       "2    AL  Baldwin County, AL           5.4\n",
       "3    AL  Barbour County, AL           8.6\n",
       "4    AL     Bibb County, AL           6.6"
      ]
     },
     "execution_count": 163,
     "metadata": {},
     "output_type": "execute_result"
    }
   ],
   "source": [
    "# read the first sheet, collect three columns and rename them\n",
    "df_unemployment=xl.parse(0)\n",
    "df_unemployment=df_unemployment[['State','Area_name','Unemployment_rate_2016']].rename(columns={'State':'state','Area_name':'county',\n",
    "                                                                                       'Unemployment_rate_2016'\n",
    "                                                                                      :'unemployment'})\n",
    "#Print the first five rows\n",
    "df_unemployment.head()"
   ]
  },
  {
   "cell_type": "code",
   "execution_count": 164,
   "metadata": {},
   "outputs": [
    {
     "data": {
      "text/html": [
       "<div>\n",
       "<table border=\"1\" class=\"dataframe\">\n",
       "  <thead>\n",
       "    <tr style=\"text-align: right;\">\n",
       "      <th></th>\n",
       "      <th>state</th>\n",
       "      <th>county</th>\n",
       "      <th>unemployment</th>\n",
       "    </tr>\n",
       "  </thead>\n",
       "  <tbody>\n",
       "    <tr>\n",
       "      <th>1</th>\n",
       "      <td>AL</td>\n",
       "      <td>Autauga County</td>\n",
       "      <td>5.3</td>\n",
       "    </tr>\n",
       "    <tr>\n",
       "      <th>2</th>\n",
       "      <td>AL</td>\n",
       "      <td>Baldwin County</td>\n",
       "      <td>5.4</td>\n",
       "    </tr>\n",
       "    <tr>\n",
       "      <th>3</th>\n",
       "      <td>AL</td>\n",
       "      <td>Barbour County</td>\n",
       "      <td>8.6</td>\n",
       "    </tr>\n",
       "    <tr>\n",
       "      <th>4</th>\n",
       "      <td>AL</td>\n",
       "      <td>Bibb County</td>\n",
       "      <td>6.6</td>\n",
       "    </tr>\n",
       "    <tr>\n",
       "      <th>5</th>\n",
       "      <td>AL</td>\n",
       "      <td>Blount County</td>\n",
       "      <td>5.5</td>\n",
       "    </tr>\n",
       "  </tbody>\n",
       "</table>\n",
       "</div>"
      ],
      "text/plain": [
       "  state          county  unemployment\n",
       "1    AL  Autauga County           5.3\n",
       "2    AL  Baldwin County           5.4\n",
       "3    AL  Barbour County           8.6\n",
       "4    AL     Bibb County           6.6\n",
       "5    AL   Blount County           5.5"
      ]
     },
     "execution_count": 164,
     "metadata": {},
     "output_type": "execute_result"
    }
   ],
   "source": [
    "# Remove states\n",
    "df_unemployment = df_unemployment[~df_unemployment.county.isin(remove_list)]\n",
    "\n",
    "# Remove Puerto Rico from data set\n",
    "df_unemployment = df_unemployment[df_unemployment.state != 'PR']\n",
    "\n",
    "#Remove the state name from county names\n",
    "df_unemployment.county=df_unemployment.county.map(lambda x: x[:len(x)-4])\n",
    "\n",
    "# The command above will remove the last four characters from name of states and District of Columbia.\n",
    "# We need District of Columbia, and it must be corrected.\n",
    "df_unemployment.loc[df_unemployment['county']=='District of Colu','county']='District of Columbia'\n",
    "\n",
    "#Print the first five rows\n",
    "df_unemployment.head()"
   ]
  },
  {
   "cell_type": "code",
   "execution_count": 165,
   "metadata": {},
   "outputs": [
    {
     "name": "stdout",
     "output_type": "stream",
     "text": [
      "<class 'pandas.core.frame.DataFrame'>\n",
      "Int64Index: 3145 entries, 1 to 3194\n",
      "Data columns (total 3 columns):\n",
      "state           3145 non-null object\n",
      "county          3145 non-null object\n",
      "unemployment    3142 non-null float64\n",
      "dtypes: float64(1), object(2)\n",
      "memory usage: 98.3+ KB\n"
     ]
    }
   ],
   "source": [
    "#Print information\n",
    "df_unemployment.info()"
   ]
  },
  {
   "cell_type": "code",
   "execution_count": 166,
   "metadata": {},
   "outputs": [
    {
     "data": {
      "text/html": [
       "<div>\n",
       "<table border=\"1\" class=\"dataframe\">\n",
       "  <thead>\n",
       "    <tr style=\"text-align: right;\">\n",
       "      <th></th>\n",
       "      <th>state</th>\n",
       "      <th>county</th>\n",
       "      <th>unemployment</th>\n",
       "    </tr>\n",
       "  </thead>\n",
       "  <tbody>\n",
       "    <tr>\n",
       "      <th>91</th>\n",
       "      <td>AK</td>\n",
       "      <td>Prince of Wales-Outer Ketchikan Census Area</td>\n",
       "      <td>NaN</td>\n",
       "    </tr>\n",
       "    <tr>\n",
       "      <th>94</th>\n",
       "      <td>AK</td>\n",
       "      <td>Skagway-Hoonah-Angoon Census Area</td>\n",
       "      <td>NaN</td>\n",
       "    </tr>\n",
       "    <tr>\n",
       "      <th>98</th>\n",
       "      <td>AK</td>\n",
       "      <td>Wrangell-Petersburg Census Area</td>\n",
       "      <td>NaN</td>\n",
       "    </tr>\n",
       "  </tbody>\n",
       "</table>\n",
       "</div>"
      ],
      "text/plain": [
       "   state                                       county  unemployment\n",
       "91    AK  Prince of Wales-Outer Ketchikan Census Area           NaN\n",
       "94    AK            Skagway-Hoonah-Angoon Census Area           NaN\n",
       "98    AK              Wrangell-Petersburg Census Area           NaN"
      ]
     },
     "execution_count": 166,
     "metadata": {},
     "output_type": "execute_result"
    }
   ],
   "source": [
    "# print the rows with null element\n",
    "df_unemployment[df_unemployment.isnull().any(axis=1)]"
   ]
  },
  {
   "cell_type": "code",
   "execution_count": 167,
   "metadata": {},
   "outputs": [
    {
     "name": "stdout",
     "output_type": "stream",
     "text": [
      "\n",
      "Top five counties with most counts\n",
      "DC-District of Columbia    2\n",
      "FL-Gadsden County          1\n",
      "GA-Thomas County           1\n",
      "MT-Wibaux County           1\n",
      "MI-Ogemaw County           1\n",
      "dtype: int64\n"
     ]
    }
   ],
   "source": [
    "# The three rows do not have unemployment rate and could be removed\n",
    "df_unemployment.dropna(inplace=True)\n",
    "\n",
    "#Check if there is any duplicate\n",
    "state_county=df_unemployment.state+'-'+df_unemployment.county\n",
    "print('\\nTop five counties with most counts')\n",
    "print(state_county.value_counts().head())"
   ]
  },
  {
   "cell_type": "code",
   "execution_count": 168,
   "metadata": {},
   "outputs": [
    {
     "name": "stdout",
     "output_type": "stream",
     "text": [
      "<class 'pandas.core.frame.DataFrame'>\n",
      "Int64Index: 3141 entries, 1 to 3194\n",
      "Data columns (total 3 columns):\n",
      "state           3141 non-null object\n",
      "county          3141 non-null object\n",
      "unemployment    3141 non-null float64\n",
      "dtypes: float64(1), object(2)\n",
      "memory usage: 98.2+ KB\n"
     ]
    }
   ],
   "source": [
    "#Remove the duplicate\n",
    "df_unemployment.drop_duplicates(inplace=True)\n",
    "\n",
    "# Print the info of df_unemployment\n",
    "df_unemployment.info()"
   ]
  },
  {
   "cell_type": "code",
   "execution_count": 169,
   "metadata": {},
   "outputs": [
    {
     "name": "stdout",
     "output_type": "stream",
     "text": [
      "<class 'pandas.core.frame.DataFrame'>\n",
      "Int64Index: 3128 entries, 0 to 3127\n",
      "Data columns (total 9 columns):\n",
      "state                       3128 non-null object\n",
      "county                      3128 non-null object\n",
      "RUCC                        3128 non-null float64\n",
      "less_than_high_school       3128 non-null float64\n",
      "high_school_diploma         3128 non-null float64\n",
      "college/associate_degree    3128 non-null float64\n",
      "bachelors/higher            3128 non-null float64\n",
      "poverty                     3128 non-null float64\n",
      "unemployment                3128 non-null float64\n",
      "dtypes: float64(7), object(2)\n",
      "memory usage: 244.4+ KB\n"
     ]
    }
   ],
   "source": [
    "#Merge all three tables together\n",
    "df_merge_three=df_merge_education_poverty.merge(df_unemployment,on=['state','county'])\n",
    "\n",
    "#Print the info of the dataframe to make sure no data is missing\n",
    "df_merge_three.info()"
   ]
  },
  {
   "cell_type": "code",
   "execution_count": 170,
   "metadata": {},
   "outputs": [
    {
     "name": "stdout",
     "output_type": "stream",
     "text": [
      "Rows which exist in the education-poverty merged dataframe but do not exist in unemployment dataframe: \n",
      "\n",
      "{'AK-Anchorage Borough', 'CO-Denver County', 'IL-La Salle County', 'AK-Sitka Borough', 'LA-La Salle Parish', 'CO-Broomfield County', 'PA-Philadelphia County', 'AK-Yakutat Borough', 'MA-Nantucket County', 'HI-Honolulu County', 'AK-Wrangell City and Borough', 'AK-Juneau Borough', 'CA-San Francisco County'}\n",
      "\n",
      "Rows which exist in unemployment dataframe but do not exist in education-poverty merged dataframe: \n",
      "\n",
      "{'LA-LaSalle Parish', 'HI-Honolulu County/city', 'PA-Philadelphia County/city', 'AK-Sitka Borough/city', 'AK-Juneau Borough/city', 'AK-Anchorage Borough/municipality', 'CO-Denver County/city', 'CO-Broomfield County/city', 'MA-Nantucket County/town', 'AK-Wrangell Borough/city', 'AK-Yakutat Borough/city', 'IL-LaSalle County', 'CA-San Francisco County/city'}\n"
     ]
    }
   ],
   "source": [
    "# df_merge_education_poverty has 3141 rows. df_unemployment has 3141 rows, either. I need to investigate \n",
    "# the differences between the two dataframes which causes 13 loss of rows in the merge to make sure it is not because of \n",
    "# misspelling or some space\n",
    "merge_1 = (df_merge_education_poverty['state']+'-'+df_merge_education_poverty['county']).tolist()\n",
    "unemployment = (df_unemployment['state']+'-'+df_unemployment['county']).tolist()\n",
    "\n",
    "# Rows which exist in education dataframe but do not exist in poverty dataframe\n",
    "print('Rows which exist in the education-poverty merged dataframe but do not exist in unemployment dataframe: \\n')\n",
    "print(set(merge_1)-set(unemployment))\n",
    "\n",
    "# Rows which exist in poverty dataframe but do not exist in education dataframe\n",
    "print('\\nRows which exist in unemployment dataframe but do not exist in education-poverty merged dataframe: \\n')\n",
    "print(set(unemployment)-set(merge_1))"
   ]
  },
  {
   "cell_type": "code",
   "execution_count": 171,
   "metadata": {},
   "outputs": [
    {
     "name": "stdout",
     "output_type": "stream",
     "text": [
      "<class 'pandas.core.frame.DataFrame'>\n",
      "Int64Index: 3141 entries, 0 to 3140\n",
      "Data columns (total 9 columns):\n",
      "state                       3141 non-null object\n",
      "county                      3141 non-null object\n",
      "RUCC                        3141 non-null float64\n",
      "less_than_high_school       3141 non-null float64\n",
      "high_school_diploma         3141 non-null float64\n",
      "college/associate_degree    3141 non-null float64\n",
      "bachelors/higher            3141 non-null float64\n",
      "poverty                     3141 non-null float64\n",
      "unemployment                3141 non-null float64\n",
      "dtypes: float64(7), object(2)\n",
      "memory usage: 245.4+ KB\n"
     ]
    }
   ],
   "source": [
    "# First fix LA-LaSalle Parish, IL-LaSalle, and  AK-Wrangell Borough counties\n",
    "df_unemployment.loc[(df_unemployment.state=='LA') & (df_unemployment.county=='LaSalle Parish'),'county']='La Salle Parish'\n",
    "df_unemployment.loc[(df_unemployment.state=='IL') & (df_unemployment.county=='LaSalle County'),'county']='La Salle County'\n",
    "df_merge_education_poverty.loc[(df_merge_education_poverty.state=='AK') & (df_merge_education_poverty.county==\\\n",
    "                                                                           'Wrangell City and Borough'),'county']='Wrangell Borough'\n",
    "\n",
    "# Then we need to remove '/' and whatever is after it from the county name of the rest \n",
    "df_unemployment['state-county']=df_unemployment['state']+'-'+df_unemployment['county']\n",
    "df_unemployment.loc[~df_unemployment['state-county'].isin(merge_1),'county']=\\\n",
    "df_unemployment.loc[~df_unemployment['state-county'].isin(merge_1),'county'].map(lambda x: x[:x.find('/')])\n",
    "\n",
    "# remove the 'state-county' column created above\n",
    "df_unemployment.drop('state-county',axis=1,inplace=True)\n",
    "\n",
    "#Merge all three tables together again\n",
    "df_merge_three=df_merge_education_poverty.merge(df_unemployment,on=['state','county'])\n",
    "\n",
    "#Print the info of the dataframe to make sure no data is missing\n",
    "df_merge_three.info()"
   ]
  },
  {
   "cell_type": "code",
   "execution_count": 172,
   "metadata": {},
   "outputs": [
    {
     "data": {
      "text/html": [
       "<div>\n",
       "<table border=\"1\" class=\"dataframe\">\n",
       "  <thead>\n",
       "    <tr style=\"text-align: right;\">\n",
       "      <th></th>\n",
       "      <th>State</th>\n",
       "      <th>State Code</th>\n",
       "      <th>Region</th>\n",
       "      <th>Division</th>\n",
       "    </tr>\n",
       "  </thead>\n",
       "  <tbody>\n",
       "    <tr>\n",
       "      <th>0</th>\n",
       "      <td>Alaska</td>\n",
       "      <td>AK</td>\n",
       "      <td>West</td>\n",
       "      <td>Pacific</td>\n",
       "    </tr>\n",
       "    <tr>\n",
       "      <th>1</th>\n",
       "      <td>Alabama</td>\n",
       "      <td>AL</td>\n",
       "      <td>South</td>\n",
       "      <td>East South Central</td>\n",
       "    </tr>\n",
       "    <tr>\n",
       "      <th>2</th>\n",
       "      <td>Arkansas</td>\n",
       "      <td>AR</td>\n",
       "      <td>South</td>\n",
       "      <td>West South Central</td>\n",
       "    </tr>\n",
       "    <tr>\n",
       "      <th>3</th>\n",
       "      <td>Arizona</td>\n",
       "      <td>AZ</td>\n",
       "      <td>West</td>\n",
       "      <td>Mountain</td>\n",
       "    </tr>\n",
       "    <tr>\n",
       "      <th>4</th>\n",
       "      <td>California</td>\n",
       "      <td>CA</td>\n",
       "      <td>West</td>\n",
       "      <td>Pacific</td>\n",
       "    </tr>\n",
       "  </tbody>\n",
       "</table>\n",
       "</div>"
      ],
      "text/plain": [
       "        State State Code Region            Division\n",
       "0      Alaska         AK   West             Pacific\n",
       "1     Alabama         AL  South  East South Central\n",
       "2    Arkansas         AR  South  West South Central\n",
       "3     Arizona         AZ   West            Mountain\n",
       "4  California         CA   West             Pacific"
      ]
     },
     "execution_count": 172,
     "metadata": {},
     "output_type": "execute_result"
    }
   ],
   "source": [
    "# read the states and regions sheet\n",
    "file_name=r'All excel sheets\\us census bureau regions and divisions.csv'\n",
    "df_regions=pd.read_csv(file_name)\n",
    "\n",
    "#Print the first five rows\n",
    "df_regions.head()"
   ]
  },
  {
   "cell_type": "code",
   "execution_count": 173,
   "metadata": {},
   "outputs": [
    {
     "data": {
      "text/html": [
       "<div>\n",
       "<table border=\"1\" class=\"dataframe\">\n",
       "  <thead>\n",
       "    <tr style=\"text-align: right;\">\n",
       "      <th></th>\n",
       "      <th>state</th>\n",
       "      <th>county</th>\n",
       "      <th>region</th>\n",
       "      <th>RUCC</th>\n",
       "      <th>less_than_high_school</th>\n",
       "      <th>high_school_diploma</th>\n",
       "      <th>college/associate_degree</th>\n",
       "      <th>bachelors/higher</th>\n",
       "      <th>poverty</th>\n",
       "      <th>unemployment</th>\n",
       "    </tr>\n",
       "  </thead>\n",
       "  <tbody>\n",
       "    <tr>\n",
       "      <th>0</th>\n",
       "      <td>AL</td>\n",
       "      <td>Autauga County</td>\n",
       "      <td>South</td>\n",
       "      <td>2.0</td>\n",
       "      <td>12.417</td>\n",
       "      <td>34.331</td>\n",
       "      <td>28.660</td>\n",
       "      <td>24.593</td>\n",
       "      <td>14.0</td>\n",
       "      <td>5.3</td>\n",
       "    </tr>\n",
       "    <tr>\n",
       "      <th>1</th>\n",
       "      <td>AL</td>\n",
       "      <td>Baldwin County</td>\n",
       "      <td>South</td>\n",
       "      <td>3.0</td>\n",
       "      <td>9.972</td>\n",
       "      <td>28.692</td>\n",
       "      <td>31.788</td>\n",
       "      <td>29.547</td>\n",
       "      <td>12.0</td>\n",
       "      <td>5.4</td>\n",
       "    </tr>\n",
       "    <tr>\n",
       "      <th>2</th>\n",
       "      <td>AL</td>\n",
       "      <td>Barbour County</td>\n",
       "      <td>South</td>\n",
       "      <td>6.0</td>\n",
       "      <td>26.236</td>\n",
       "      <td>34.927</td>\n",
       "      <td>25.969</td>\n",
       "      <td>12.868</td>\n",
       "      <td>30.0</td>\n",
       "      <td>8.6</td>\n",
       "    </tr>\n",
       "    <tr>\n",
       "      <th>3</th>\n",
       "      <td>AL</td>\n",
       "      <td>Bibb County</td>\n",
       "      <td>South</td>\n",
       "      <td>1.0</td>\n",
       "      <td>19.302</td>\n",
       "      <td>41.816</td>\n",
       "      <td>26.883</td>\n",
       "      <td>12.000</td>\n",
       "      <td>20.0</td>\n",
       "      <td>6.6</td>\n",
       "    </tr>\n",
       "    <tr>\n",
       "      <th>4</th>\n",
       "      <td>AL</td>\n",
       "      <td>Blount County</td>\n",
       "      <td>South</td>\n",
       "      <td>1.0</td>\n",
       "      <td>19.969</td>\n",
       "      <td>32.942</td>\n",
       "      <td>34.039</td>\n",
       "      <td>13.050</td>\n",
       "      <td>14.0</td>\n",
       "      <td>5.5</td>\n",
       "    </tr>\n",
       "  </tbody>\n",
       "</table>\n",
       "</div>"
      ],
      "text/plain": [
       "  state          county region  RUCC  less_than_high_school  \\\n",
       "0    AL  Autauga County  South   2.0                 12.417   \n",
       "1    AL  Baldwin County  South   3.0                  9.972   \n",
       "2    AL  Barbour County  South   6.0                 26.236   \n",
       "3    AL     Bibb County  South   1.0                 19.302   \n",
       "4    AL   Blount County  South   1.0                 19.969   \n",
       "\n",
       "   high_school_diploma  college/associate_degree  bachelors/higher  poverty  \\\n",
       "0               34.331                    28.660            24.593     14.0   \n",
       "1               28.692                    31.788            29.547     12.0   \n",
       "2               34.927                    25.969            12.868     30.0   \n",
       "3               41.816                    26.883            12.000     20.0   \n",
       "4               32.942                    34.039            13.050     14.0   \n",
       "\n",
       "   unemployment  \n",
       "0           5.3  \n",
       "1           5.4  \n",
       "2           8.6  \n",
       "3           6.6  \n",
       "4           5.5  "
      ]
     },
     "execution_count": 173,
     "metadata": {},
     "output_type": "execute_result"
    }
   ],
   "source": [
    "# Rename the State Code column to state\n",
    "df_regions.rename(columns={'State Code':'state','Region':'region'},inplace=True)\n",
    "\n",
    "# Add region column to df_merge_three\n",
    "df_merge_all = df_merge_three.merge(df_regions.loc[:,['state','region']])\n",
    "\n",
    "# Rearrange the columns so the region column is located after the county name\n",
    "cols = df_merge_all.columns.tolist()\n",
    "cols=cols[0:2]+cols[-1:]+cols[2:9]\n",
    "df_merge_all = df_merge_all[cols]\n",
    "\n",
    "# Print the first five rows\n",
    "df_merge_all.head()"
   ]
  },
  {
   "cell_type": "code",
   "execution_count": 174,
   "metadata": {},
   "outputs": [
    {
     "name": "stdout",
     "output_type": "stream",
     "text": [
      "<class 'pandas.core.frame.DataFrame'>\n",
      "Int64Index: 3141 entries, 0 to 3140\n",
      "Data columns (total 10 columns):\n",
      "state                       3141 non-null object\n",
      "county                      3141 non-null object\n",
      "region                      3141 non-null object\n",
      "RUCC                        3141 non-null float64\n",
      "less_than_high_school       3141 non-null float64\n",
      "high_school_diploma         3141 non-null float64\n",
      "college/associate_degree    3141 non-null float64\n",
      "bachelors/higher            3141 non-null float64\n",
      "poverty                     3141 non-null float64\n",
      "unemployment                3141 non-null float64\n",
      "dtypes: float64(7), object(3)\n",
      "memory usage: 269.9+ KB\n"
     ]
    }
   ],
   "source": [
    "#print the information of df_merge_all to make sure everythin looks fine\n",
    "df_merge_all.info()"
   ]
  },
  {
   "cell_type": "code",
   "execution_count": 175,
   "metadata": {
    "collapsed": true
   },
   "outputs": [],
   "source": [
    "# Save the wrangled data to a csv file\n",
    "df_merge_all.to_csv('wrangled_data.csv',index=False)"
   ]
  },
  {
   "cell_type": "code",
   "execution_count": null,
   "metadata": {
    "collapsed": true
   },
   "outputs": [],
   "source": []
  }
 ],
 "metadata": {
  "kernelspec": {
   "display_name": "Python 3",
   "language": "python",
   "name": "python3"
  },
  "language_info": {
   "codemirror_mode": {
    "name": "ipython",
    "version": 3
   },
   "file_extension": ".py",
   "mimetype": "text/x-python",
   "name": "python",
   "nbconvert_exporter": "python",
   "pygments_lexer": "ipython3",
   "version": "3.6.6"
  }
 },
 "nbformat": 4,
 "nbformat_minor": 2
}
